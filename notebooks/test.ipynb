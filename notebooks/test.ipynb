{
 "cells": [
  {
   "cell_type": "code",
   "execution_count": 90,
   "metadata": {},
   "outputs": [],
   "source": [
    "import sys, json, io\n",
    "with open('../data/Фронтовое.geojson') as f:\n",
    "    input_json = json.load(f)"
   ]
  },
  {
   "cell_type": "code",
   "execution_count": 94,
   "metadata": {},
   "outputs": [
    {
     "output_type": "stream",
     "name": "stderr",
     "text": [
      "/home/vlas/.local/lib/python3.8/site-packages/ipykernel/ipkernel.py:283: DeprecationWarning: `should_run_async` will not call `transform_cell` automatically in the future. Please pass the result to `transformed_cell` argument and any exception that happen during thetransform in `preprocessing_exc_tuple` in IPython 7.17 and above.\n  and should_run_async(code)\n"
     ]
    }
   ],
   "source": [
    "from shapely.geometry import shape\n",
    "nominal_outline = shape(input_json['geometry'])\n",
    "\n"
   ]
  },
  {
   "cell_type": "code",
   "execution_count": 9,
   "metadata": {},
   "outputs": [
    {
     "output_type": "stream",
     "name": "stderr",
     "text": [
      "/home/vlas/.local/lib/python3.8/site-packages/matplotlib_inline/config.py:66: DeprecationWarning: InlineBackend._figure_formats_changed is deprecated in traitlets 4.1: use @observe and @unobserve instead.\n  def _figure_formats_changed(self, name, old, new):\n"
     ]
    }
   ],
   "source": [
    "%reload_ext autoreload\n",
    "%autoreload 2\n",
    "%matplotlib inline"
   ]
  },
  {
   "cell_type": "code",
   "execution_count": 3,
   "metadata": {},
   "outputs": [],
   "source": [
    "from eolearn.core import EOTask, EOPatch, LinearWorkflow, Dependency, FeatureType\n",
    "\n",
    "# We'll use Sentinel-2 imagery (Level-1C) provided through Sentinel Hub\n",
    "# If you don't know what `Level 1C` means, don't worry. It doesn't matter.\n",
    "\n",
    "from eolearn.io import SentinelHubInputTask\n",
    "from eolearn.core import LoadFromDisk, SaveToDisk\n",
    "\n",
    "from eolearn.mask import AddValidDataMaskTask\n",
    "\n",
    "# filtering of scenes\n",
    "from eolearn.features import SimpleFilterTask, NormalizedDifferenceIndexTask\n",
    "\n",
    "# burning the vectorised polygon to raster\n",
    "from eolearn.geometry import VectorToRaster"
   ]
  },
  {
   "cell_type": "code",
   "execution_count": 4,
   "metadata": {},
   "outputs": [
    {
     "output_type": "stream",
     "name": "stderr",
     "text": [
      "/home/vlas/.local/lib/python3.8/site-packages/ipykernel/ipkernel.py:283: DeprecationWarning: `should_run_async` will not call `transform_cell` automatically in the future. Please pass the result to `transformed_cell` argument and any exception that happen during thetransform in `preprocessing_exc_tuple` in IPython 7.17 and above.\n",
      "  and should_run_async(code)\n",
      "/home/vlas/.local/lib/python3.8/site-packages/ipykernel/pylab/config.py:70: DeprecationWarning: InlineBackend._figure_formats_changed is deprecated in traitlets 4.1: use @observe and @unobserve instead.\n",
      "  def _figure_formats_changed(self, name, old, new):\n"
     ]
    }
   ],
   "source": [
    "# The golden standard: numpy and matplotlib\n",
    "import numpy as np\n",
    "\n",
    "# import matplotlib\n",
    "import matplotlib.pyplot as plt\n",
    "from mpl_toolkits.axes_grid1 import make_axes_locatable\n",
    "\n",
    "# For manipulating geo-spatial vector dataset (polygons of nominal water extent)\n",
    "import geopandas as gpd\n",
    "\n",
    "# Image manipulations\n",
    "# Our water detector is going to be based on a simple threshold \n",
    "# of Normalised Difference Water Index (NDWI) grayscale image\n",
    "from skimage.filters import threshold_otsu\n",
    "\n",
    "# Loading polygon of nominal water extent\n",
    "import shapely.wkt\n",
    "from shapely.geometry import Polygon\n",
    "\n",
    "# sentinelhub-py package\n",
    "from sentinelhub import BBox, CRS, DataCollection, SHConfig"
   ]
  },
  {
   "cell_type": "code",
   "execution_count": 5,
   "metadata": {},
   "outputs": [
    {
     "output_type": "stream",
     "name": "stderr",
     "text": [
      "/home/vlas/.local/lib/python3.8/site-packages/ipykernel/ipkernel.py:283: DeprecationWarning: `should_run_async` will not call `transform_cell` automatically in the future. Please pass the result to `transformed_cell` argument and any exception that happen during thetransform in `preprocessing_exc_tuple` in IPython 7.17 and above.\n  and should_run_async(code)\n"
     ]
    }
   ],
   "source": [
    "CLIENT_ID = '705de065-d047-4187-b8d2-01386b232165'\n",
    "CLIENT_SECRET = 'U3n%1|B*pa@GvjA}UvxgyO@!RT-o}C}r1T?#7SwN'\n",
    "    \n",
    "config = SHConfig()\n",
    "config.instance_id = '274430c0-0c82-493a-95c6-694e4640cf14'\n",
    "    \n",
    "if CLIENT_ID and CLIENT_SECRET:\n",
    "    config.sh_client_id = CLIENT_ID\n",
    "    config.sh_client_secret = CLIENT_SECRET\n",
    "if config.sh_client_id == '' or config.sh_client_secret == '' or config.instance_id == '':\n",
    "    print(\"Warning! To use Sentinel Hub services, please provide the credentials (client ID and client secret).\")\n",
    "# config.save()"
   ]
  },
  {
   "cell_type": "code",
   "execution_count": 95,
   "metadata": {},
   "outputs": [
    {
     "output_type": "execute_result",
     "data": {
      "text/plain": [
       "<shapely.geometry.multipolygon.MultiPolygon at 0x7f17d080ec70>"
      ],
      "image/svg+xml": "<svg xmlns=\"http://www.w3.org/2000/svg\" xmlns:xlink=\"http://www.w3.org/1999/xlink\" width=\"100.0\" height=\"100.0\" viewBox=\"34.137439819336024 44.90416613769531 0.036014282226602745 0.03453796386718011\" preserveAspectRatio=\"xMinYMin meet\"><g transform=\"matrix(1,0,0,-1,0,89.8428702392578)\"><g><path fill-rule=\"evenodd\" fill=\"#66cc99\" stroke=\"#555555\" stroke-width=\"0.0007202856445320549\" opacity=\"0.6\" d=\"M 34.15312023925776,44.93112023925795 L 34.153943725586146,44.9308797607423 L 34.15597753906252,44.931592651367225 L 34.156937744140635,44.93108447265638 L 34.15686877441436,44.92934167480473 L 34.15623022460932,44.92875 L 34.156864379882904,44.928162353515745 L 34.157120239257836,44.92762023925792 L 34.15762976074217,44.92737976074221 L 34.158110717773354,44.92636071777349 L 34.15962976074246,44.925879760742305 L 34.15987023925777,44.925620239257796 L 34.16037976074216,44.92537976074232 L 34.16062023925804,44.92484301757827 L 34.16012023925805,44.92437976074217 L 34.15987976074217,44.92409301757823 L 34.160399902343784,44.92361108398438 L 34.16296752929679,44.923712890624984 L 34.164870239257766,44.92437976074217 L 34.16587023925791,44.9245562744141 L 34.164870239257766,44.9236297607423 L 34.16462976074246,44.92337023925779 L 34.16437023925778,44.92312976074231 L 34.16412976074247,44.922870239257804 L 34.16312023925792,44.92212976074234 L 34.16282312011725,44.92180908203119 L 34.16292236328138,44.919303466796975 L 34.16338012695314,44.9188793945313 L 34.16336621093757,44.918529785156295 L 34.16462976074246,44.91812976074232 L 34.164870239257766,44.91798376464851 L 34.16408764648446,44.917614379882934 L 34.16362976074231,44.91712023925794 L 34.163365112304746,44.916875 L 34.16362976074231,44.91662976074218 L 34.16388623046902,44.91368640136733 L 34.166130126953135,44.91337976074226 L 34.166095214843835,44.912500000000136 L 34.16687976074246,44.912129760742175 L 34.16760839843755,44.91174426269538 L 34.167870239257866,44.91034301757827 L 34.167364135742105,44.90987414550784 L 34.16836193847678,44.90922985839853 L 34.167269042969,44.908713989257876 L 34.16762976074233,44.908379760742264 L 34.167870239257866,44.907870239257875 L 34.168879760742186,44.90762976074217 L 34.16962023925805,44.90737023925789 L 34.17181860351559,44.90695056152356 L 34.172120239257936,44.90660168457043 L 34.17112023925779,44.90612976074226 L 34.171,44.9055 L 34.17087023925808,44.90562023925787 L 34.17062976074226,44.90587976074232 L 34.16937023925777,44.90662023925785 L 34.16910290527369,44.90690881347655 L 34.167250000000195,44.90683532714843 L 34.166046997070566,44.906883056640595 L 34.16429663085967,44.907496582031285 L 34.16387976074225,44.908379760742264 L 34.16362023925791,44.908620239257914 L 34.163371582031175,44.90940576171886 L 34.16287023925804,44.90987023925777 L 34.16262976074216,44.91012976074228 L 34.161870239258064,44.91062023925787 L 34.161629760742244,44.911129760742256 L 34.16062023925804,44.911370239257906 L 34.160129394531396,44.91189990234375 L 34.15925488281255,44.911865234375 L 34.15762976074217,44.91087023925792 L 34.15655627441407,44.91062976074227 L 34.15511059570315,44.91113647460941 L 34.15513122558599,44.91165832519539 L 34.15562976074244,44.912120239257774 L 34.156208740234376,44.91301696777339 L 34.15712976074224,44.91387023925779 L 34.15737023925806,44.9141297607423 L 34.1579189453127,44.914638183593866 L 34.15840002441405,44.914619018554674 L 34.15836523437497,44.91549609375011 L 34.15630627441436,44.91587023925791 L 34.15389978027355,44.91502673339846 L 34.1536110839844,44.91593884277347 L 34.15187500000013,44.91586999511719 L 34.1515699462891,44.91588208007818 L 34.151129760742435,44.91640698242196 L 34.15162976074225,44.91687023925789 L 34.15212023925784,44.91762976074233 L 34.15237976074229,44.917870239257866 L 34.15262023925783,44.91828027343763 L 34.151370239257744,44.918870239257785 L 34.15087976074216,44.91962976074228 L 34.14995434570335,44.91992272949233 L 34.14842370605476,44.919862060546905 L 34.14812976074222,44.91990698242199 L 34.14862976074215,44.92037023925792 L 34.14905541992192,44.92082958984378 L 34.15176342773441,44.92126098632815 L 34.15216638183591,44.92337182617189 L 34.15025891113294,44.92460363769544 L 34.14887878417977,44.924119873047005 L 34.14809167480479,44.9241511230469 L 34.147629760742234,44.92512976074221 L 34.147120239258015,44.925370239257916 L 34.14643103027356,44.92611413574224 L 34.14559301757839,44.92637023925789 L 34.14512976074229,44.925870239257904 L 34.14440551757838,44.92552844238281 L 34.1430805664063,44.92512976074221 L 34.1431457519534,44.926773803711 L 34.14389782714841,44.92712878417967 L 34.144370361328185,44.92813012695319 L 34.144629150390756,44.92811987304685 L 34.145200683593885,44.9284223632813 L 34.14587023925782,44.92916235351572 L 34.14437023925802,44.92987023925792 L 34.14403491210942,44.93058068847665 L 34.14296508789084,44.93091931152344 L 34.14252673339843,44.93184802246088 L 34.13912023925781,44.93212023925793 L 34.138773681640714,44.932854492187516 L 34.13923828125013,44.93417968750009 L 34.140629760742286,44.93462023925781 L 34.14112023925787,44.93487976074232 L 34.14162976074243,44.9351202392578 L 34.14212023925802,44.93537976074231 L 34.14312976074223,44.93562023925779 L 34.143595458984294,44.93612292480469 L 34.145741577148726,44.93672106933593 L 34.14612023925804,44.93712976074232 L 34.146406982421865,44.9373702392578 L 34.14687023925774,44.936870239257814 L 34.147879760742285,44.936629760742335 L 34.14812023925782,44.936120239257946 L 34.14912597656263,44.935645629882856 L 34.14942333984379,44.934397094726705 L 34.15140966796889,44.93412573242199 L 34.15136914062509,44.9331011962891 L 34.150370239257825,44.932629760742316 L 34.15012976074229,44.93242749023443 L 34.151529907226745,44.93209399414076 L 34.15312023925776,44.93112023925795 z M 34.155427978515775,44.928333984374945 L 34.154585327148425,44.927922485351644 L 34.15441601562503,44.9271179199219 L 34.155,44.927 L 34.15508398437504,44.927166015625005 L 34.155666015625116,44.927333984375025 L 34.1559761962892,44.927947143554775 L 34.155427978515775,44.928333984374945 z\" /></g></g></svg>"
     },
     "metadata": {},
     "execution_count": 95
    }
   ],
   "source": [
    "from shapely.geometry import shape\n",
    "\n",
    "#dam_nominal = shape(input_json[\"geometry\"])\n",
    "dam_nominal = nominal_outline\n",
    "# print(dam_nominal)\n",
    "# inflate the BBOX \n",
    "inflate_bbox = 0 #0.1\n",
    "minx, miny, maxx, maxy = dam_nominal.bounds\n",
    "\n",
    "delx = maxx - minx\n",
    "dely = maxy - miny\n",
    "minx = minx - delx * inflate_bbox\n",
    "maxx = maxx + delx * inflate_bbox\n",
    "miny = miny - dely * inflate_bbox\n",
    "maxy = maxy + dely * inflate_bbox\n",
    "    \n",
    "dam_bbox = BBox([minx, miny, maxx, maxy], crs=CRS.WGS84)\n",
    "dam_nominal\n",
    "\n",
    "# for geom in dam_nominal.geoms:\n",
    "#     plt.plot(*geom.exterior.xy)\n"
   ]
  },
  {
   "cell_type": "code",
   "execution_count": 96,
   "metadata": {},
   "outputs": [],
   "source": [
    "download_task = SentinelHubInputTask(data_collection=DataCollection.SENTINEL2_L1C, \n",
    "                                     bands_feature=(FeatureType.DATA, 'BANDS'),\n",
    "                                     resolution=20, \n",
    "                                     maxcc=0.5, \n",
    "                                     bands=['B02', 'B03', 'B04', 'B08'], \n",
    "                                     additional_data=[(FeatureType.MASK, 'dataMask', 'IS_DATA'), (FeatureType.MASK, 'CLM')],\n",
    "                                     config=config\n",
    "                                    )\n",
    "\n",
    "calculate_ndwi = NormalizedDifferenceIndexTask((FeatureType.DATA, 'BANDS'), (FeatureType.DATA, 'NDWI'), (1, 3))"
   ]
  },
  {
   "cell_type": "code",
   "execution_count": 97,
   "metadata": {},
   "outputs": [],
   "source": [
    "dam_gdf = gpd.GeoDataFrame(crs=CRS.WGS84.pyproj_crs(), geometry=[dam_nominal])\n"
   ]
  },
  {
   "cell_type": "code",
   "execution_count": 98,
   "metadata": {},
   "outputs": [
    {
     "output_type": "display_data",
     "data": {
      "text/plain": "<Figure size 432x288 with 1 Axes>",
      "image/svg+xml": "<?xml version=\"1.0\" encoding=\"utf-8\" standalone=\"no\"?>\n<!DOCTYPE svg PUBLIC \"-//W3C//DTD SVG 1.1//EN\"\n  \"http://www.w3.org/Graphics/SVG/1.1/DTD/svg11.dtd\">\n<svg height=\"248.518125pt\" version=\"1.1\" viewBox=\"0 0 217.486649 248.518125\" width=\"217.486649pt\" xmlns=\"http://www.w3.org/2000/svg\" xmlns:xlink=\"http://www.w3.org/1999/xlink\">\n <metadata>\n  <rdf:RDF xmlns:cc=\"http://creativecommons.org/ns#\" xmlns:dc=\"http://purl.org/dc/elements/1.1/\" xmlns:rdf=\"http://www.w3.org/1999/02/22-rdf-syntax-ns#\">\n   <cc:Work>\n    <dc:type rdf:resource=\"http://purl.org/dc/dcmitype/StillImage\"/>\n    <dc:date>2021-05-18T16:26:47.934450</dc:date>\n    <dc:format>image/svg+xml</dc:format>\n    <dc:creator>\n     <cc:Agent>\n      <dc:title>Matplotlib v3.4.2, https://matplotlib.org/</dc:title>\n     </cc:Agent>\n    </dc:creator>\n   </cc:Work>\n  </rdf:RDF>\n </metadata>\n <defs>\n  <style type=\"text/css\">*{stroke-linecap:butt;stroke-linejoin:round;}</style>\n </defs>\n <g id=\"figure_1\">\n  <g id=\"patch_1\">\n   <path d=\"M 0 248.518125 \nL 217.486649 248.518125 \nL 217.486649 0 \nL 0 0 \nz\n\" style=\"fill:none;\"/>\n  </g>\n  <g id=\"axes_1\">\n   <g id=\"patch_2\">\n    <path d=\"M 49.190625 224.64 \nL 210.286649 224.64 \nL 210.286649 7.2 \nL 49.190625 7.2 \nz\n\" style=\"fill:#ffffff;\"/>\n   </g>\n   <g id=\"PatchCollection_1\">\n    <path clip-path=\"url(#p6a4f755d7f)\" d=\"M 119.520176 55.848784 \nL 123.136752 57.340334 \nL 132.068824 52.918684 \nL 136.285839 56.070624 \nL 135.982939 66.880195 \nL 133.178565 70.550013 \nL 135.963639 74.194845 \nL 137.087319 77.557267 \nL 139.325028 79.048817 \nL 141.437288 85.369353 \nL 148.108599 88.352453 \nL 149.164729 89.962115 \nL 151.402438 91.453664 \nL 152.458568 94.782773 \nL 150.262675 97.656088 \nL 149.206545 99.434591 \nL 151.490896 102.423747 \nL 162.767363 101.792299 \nL 171.123657 97.656088 \nL 175.515442 96.561276 \nL 171.123657 102.307906 \nL 170.067527 103.917568 \nL 168.927764 105.409118 \nL 167.871634 107.01878 \nL 163.438032 111.611541 \nL 162.133149 113.600527 \nL 162.569003 129.141414 \nL 164.579403 131.77169 \nL 164.518287 133.940115 \nL 170.067527 136.421236 \nL 171.123657 137.326766 \nL 167.686677 139.617847 \nL 165.675741 142.682716 \nL 164.513462 144.203794 \nL 165.675741 145.724872 \nL 166.802101 163.980834 \nL 176.656814 165.882749 \nL 176.503487 171.339398 \nL 179.949044 173.635778 \nL 183.149065 176.026801 \nL 184.299014 184.717917 \nL 182.076316 187.62606 \nL 186.458451 191.622202 \nL 181.658688 194.82184 \nL 183.242884 196.894867 \nL 184.299014 200.055135 \nL 188.732616 201.546685 \nL 191.984638 203.156347 \nL 201.639383 205.759366 \nL 202.964102 207.923249 \nL 198.572317 210.850321 \nL 198.044252 214.756364 \nL 197.47437 214.010589 \nL 196.41824 212.400927 \nL 190.886692 207.808165 \nL 189.712618 206.018306 \nL 181.575056 206.474099 \nL 176.291725 206.17806 \nL 168.604492 202.372716 \nL 166.773688 196.894867 \nL 165.633925 195.403318 \nL 164.541876 190.531175 \nL 162.340086 187.650288 \nL 161.283956 186.040626 \nL 157.9483 182.99847 \nL 156.89217 179.838202 \nL 152.458568 178.346653 \nL 150.302883 175.061458 \nL 146.462215 175.276483 \nL 139.325028 181.447864 \nL 134.610506 182.939414 \nL 128.261395 179.79656 \nL 128.351997 176.559821 \nL 130.541457 173.694835 \nL 133.08421 168.132945 \nL 137.129135 162.840593 \nL 138.185265 161.230931 \nL 140.595064 158.077477 \nL 142.707861 158.196347 \nL 142.55507 152.756355 \nL 133.51256 150.435746 \nL 122.943753 155.667527 \nL 121.675861 150.010238 \nL 114.051353 150.43726 \nL 112.711622 150.362304 \nL 110.778422 147.106637 \nL 112.974314 144.233322 \nL 115.128391 139.522448 \nL 116.268154 138.030898 \nL 117.324284 135.487693 \nL 111.834552 131.828475 \nL 109.680475 127.117601 \nL 105.616251 125.300484 \nL 98.89401 125.676779 \nL 97.603065 125.398154 \nL 99.798958 122.524839 \nL 101.668361 119.675752 \nL 113.561351 117.000049 \nL 115.331039 103.907725 \nL 106.953837 96.267508 \nL 100.892615 99.268022 \nL 97.4358 99.074196 \nL 95.407172 93.00427 \nL 93.169463 91.512721 \nL 90.142605 86.89876 \nL 86.462233 85.310297 \nL 84.427708 88.411509 \nL 81.246987 90.531478 \nL 75.428086 93.00427 \nL 75.714367 82.807219 \nL 79.01732 80.60548 \nL 81.092589 74.394728 \nL 82.229135 74.458327 \nL 84.739186 72.582154 \nL 87.679731 67.992421 \nL 81.092053 63.601814 \nL 79.619368 59.195307 \nL 74.920929 57.095023 \nL 72.99577 51.334765 \nL 58.035178 49.646361 \nL 56.513172 45.092213 \nL 58.553593 36.87279 \nL 64.664673 34.140302 \nL 66.818749 32.530639 \nL 69.056459 31.03909 \nL 71.210535 29.429427 \nL 75.644137 27.937878 \nL 77.689384 24.820009 \nL 87.114675 21.110063 \nL 88.777677 18.575186 \nL 90.036992 17.083636 \nL 92.071517 20.184848 \nL 96.505118 21.676398 \nL 97.561248 24.836666 \nL 101.978231 27.780394 \nL 103.284187 35.524338 \nL 112.007714 37.207442 \nL 111.829727 43.56205 \nL 107.442766 46.486093 \nL 106.386636 47.74066 \nL 112.535779 49.809144 \nL 119.520176 55.848784 \nM 129.655272 73.130318 \nL 125.954528 75.682609 \nL 125.210948 80.672865 \nL 127.775682 81.404254 \nL 128.144524 80.374555 \nL 130.70068 79.332742 \nL 132.062927 75.529668 \nL 129.655272 73.130318 \n\" style=\"fill:#1f77b4;\"/>\n   </g>\n   <g id=\"matplotlib.axis_1\">\n    <g id=\"xtick_1\">\n     <g id=\"line2d_1\">\n      <defs>\n       <path d=\"M 0 0 \nL 0 3.5 \n\" id=\"m405f9f54b5\" style=\"stroke:#000000;stroke-width:0.8;\"/>\n      </defs>\n      <g>\n       <use style=\"stroke:#000000;stroke-width:0.8;\" x=\"61.898899\" xlink:href=\"#m405f9f54b5\" y=\"224.64\"/>\n      </g>\n     </g>\n     <g id=\"text_1\">\n      <!-- 34.14 -->\n      <g transform=\"translate(47.584836 239.238438)scale(0.1 -0.1)\">\n       <defs>\n        <path d=\"M 2597 2516 \nQ 3050 2419 3304 2112 \nQ 3559 1806 3559 1356 \nQ 3559 666 3084 287 \nQ 2609 -91 1734 -91 \nQ 1441 -91 1130 -33 \nQ 819 25 488 141 \nL 488 750 \nQ 750 597 1062 519 \nQ 1375 441 1716 441 \nQ 2309 441 2620 675 \nQ 2931 909 2931 1356 \nQ 2931 1769 2642 2001 \nQ 2353 2234 1838 2234 \nL 1294 2234 \nL 1294 2753 \nL 1863 2753 \nQ 2328 2753 2575 2939 \nQ 2822 3125 2822 3475 \nQ 2822 3834 2567 4026 \nQ 2313 4219 1838 4219 \nQ 1578 4219 1281 4162 \nQ 984 4106 628 3988 \nL 628 4550 \nQ 988 4650 1302 4700 \nQ 1616 4750 1894 4750 \nQ 2613 4750 3031 4423 \nQ 3450 4097 3450 3541 \nQ 3450 3153 3228 2886 \nQ 3006 2619 2597 2516 \nz\n\" id=\"DejaVuSans-33\" transform=\"scale(0.015625)\"/>\n        <path d=\"M 2419 4116 \nL 825 1625 \nL 2419 1625 \nL 2419 4116 \nz\nM 2253 4666 \nL 3047 4666 \nL 3047 1625 \nL 3713 1625 \nL 3713 1100 \nL 3047 1100 \nL 3047 0 \nL 2419 0 \nL 2419 1100 \nL 313 1100 \nL 313 1709 \nL 2253 4666 \nz\n\" id=\"DejaVuSans-34\" transform=\"scale(0.015625)\"/>\n        <path d=\"M 684 794 \nL 1344 794 \nL 1344 0 \nL 684 0 \nL 684 794 \nz\n\" id=\"DejaVuSans-2e\" transform=\"scale(0.015625)\"/>\n        <path d=\"M 794 531 \nL 1825 531 \nL 1825 4091 \nL 703 3866 \nL 703 4441 \nL 1819 4666 \nL 2450 4666 \nL 2450 531 \nL 3481 531 \nL 3481 0 \nL 794 0 \nL 794 531 \nz\n\" id=\"DejaVuSans-31\" transform=\"scale(0.015625)\"/>\n       </defs>\n       <use xlink:href=\"#DejaVuSans-33\"/>\n       <use x=\"63.623047\" xlink:href=\"#DejaVuSans-34\"/>\n       <use x=\"127.246094\" xlink:href=\"#DejaVuSans-2e\"/>\n       <use x=\"159.033203\" xlink:href=\"#DejaVuSans-31\"/>\n       <use x=\"222.65625\" xlink:href=\"#DejaVuSans-34\"/>\n      </g>\n     </g>\n    </g>\n    <g id=\"xtick_2\">\n     <g id=\"line2d_2\">\n      <g>\n       <use style=\"stroke:#000000;stroke-width:0.8;\" x=\"105.816755\" xlink:href=\"#m405f9f54b5\" y=\"224.64\"/>\n      </g>\n     </g>\n     <g id=\"text_2\">\n      <!-- 34.15 -->\n      <g transform=\"translate(91.502692 239.238438)scale(0.1 -0.1)\">\n       <defs>\n        <path d=\"M 691 4666 \nL 3169 4666 \nL 3169 4134 \nL 1269 4134 \nL 1269 2991 \nQ 1406 3038 1543 3061 \nQ 1681 3084 1819 3084 \nQ 2600 3084 3056 2656 \nQ 3513 2228 3513 1497 \nQ 3513 744 3044 326 \nQ 2575 -91 1722 -91 \nQ 1428 -91 1123 -41 \nQ 819 9 494 109 \nL 494 744 \nQ 775 591 1075 516 \nQ 1375 441 1709 441 \nQ 2250 441 2565 725 \nQ 2881 1009 2881 1497 \nQ 2881 1984 2565 2268 \nQ 2250 2553 1709 2553 \nQ 1456 2553 1204 2497 \nQ 953 2441 691 2322 \nL 691 4666 \nz\n\" id=\"DejaVuSans-35\" transform=\"scale(0.015625)\"/>\n       </defs>\n       <use xlink:href=\"#DejaVuSans-33\"/>\n       <use x=\"63.623047\" xlink:href=\"#DejaVuSans-34\"/>\n       <use x=\"127.246094\" xlink:href=\"#DejaVuSans-2e\"/>\n       <use x=\"159.033203\" xlink:href=\"#DejaVuSans-31\"/>\n       <use x=\"222.65625\" xlink:href=\"#DejaVuSans-35\"/>\n      </g>\n     </g>\n    </g>\n    <g id=\"xtick_3\">\n     <g id=\"line2d_3\">\n      <g>\n       <use style=\"stroke:#000000;stroke-width:0.8;\" x=\"149.73461\" xlink:href=\"#m405f9f54b5\" y=\"224.64\"/>\n      </g>\n     </g>\n     <g id=\"text_3\">\n      <!-- 34.16 -->\n      <g transform=\"translate(135.420548 239.238438)scale(0.1 -0.1)\">\n       <defs>\n        <path d=\"M 2113 2584 \nQ 1688 2584 1439 2293 \nQ 1191 2003 1191 1497 \nQ 1191 994 1439 701 \nQ 1688 409 2113 409 \nQ 2538 409 2786 701 \nQ 3034 994 3034 1497 \nQ 3034 2003 2786 2293 \nQ 2538 2584 2113 2584 \nz\nM 3366 4563 \nL 3366 3988 \nQ 3128 4100 2886 4159 \nQ 2644 4219 2406 4219 \nQ 1781 4219 1451 3797 \nQ 1122 3375 1075 2522 \nQ 1259 2794 1537 2939 \nQ 1816 3084 2150 3084 \nQ 2853 3084 3261 2657 \nQ 3669 2231 3669 1497 \nQ 3669 778 3244 343 \nQ 2819 -91 2113 -91 \nQ 1303 -91 875 529 \nQ 447 1150 447 2328 \nQ 447 3434 972 4092 \nQ 1497 4750 2381 4750 \nQ 2619 4750 2861 4703 \nQ 3103 4656 3366 4563 \nz\n\" id=\"DejaVuSans-36\" transform=\"scale(0.015625)\"/>\n       </defs>\n       <use xlink:href=\"#DejaVuSans-33\"/>\n       <use x=\"63.623047\" xlink:href=\"#DejaVuSans-34\"/>\n       <use x=\"127.246094\" xlink:href=\"#DejaVuSans-2e\"/>\n       <use x=\"159.033203\" xlink:href=\"#DejaVuSans-31\"/>\n       <use x=\"222.65625\" xlink:href=\"#DejaVuSans-36\"/>\n      </g>\n     </g>\n    </g>\n    <g id=\"xtick_4\">\n     <g id=\"line2d_4\">\n      <g>\n       <use style=\"stroke:#000000;stroke-width:0.8;\" x=\"193.652466\" xlink:href=\"#m405f9f54b5\" y=\"224.64\"/>\n      </g>\n     </g>\n     <g id=\"text_4\">\n      <!-- 34.17 -->\n      <g transform=\"translate(179.338404 239.238438)scale(0.1 -0.1)\">\n       <defs>\n        <path d=\"M 525 4666 \nL 3525 4666 \nL 3525 4397 \nL 1831 0 \nL 1172 0 \nL 2766 4134 \nL 525 4134 \nL 525 4666 \nz\n\" id=\"DejaVuSans-37\" transform=\"scale(0.015625)\"/>\n       </defs>\n       <use xlink:href=\"#DejaVuSans-33\"/>\n       <use x=\"63.623047\" xlink:href=\"#DejaVuSans-34\"/>\n       <use x=\"127.246094\" xlink:href=\"#DejaVuSans-2e\"/>\n       <use x=\"159.033203\" xlink:href=\"#DejaVuSans-31\"/>\n       <use x=\"222.65625\" xlink:href=\"#DejaVuSans-37\"/>\n      </g>\n     </g>\n    </g>\n   </g>\n   <g id=\"matplotlib.axis_2\">\n    <g id=\"ytick_1\">\n     <g id=\"line2d_5\">\n      <defs>\n       <path d=\"M 0 0 \nL -3.5 0 \n\" id=\"m92e5b629da\" style=\"stroke:#000000;stroke-width:0.8;\"/>\n      </defs>\n      <g>\n       <use style=\"stroke:#000000;stroke-width:0.8;\" x=\"49.190625\" xlink:href=\"#m92e5b629da\" y=\"217.857575\"/>\n      </g>\n     </g>\n     <g id=\"text_5\">\n      <!-- 44.905 -->\n      <g transform=\"translate(7.2 221.656794)scale(0.1 -0.1)\">\n       <defs>\n        <path d=\"M 703 97 \nL 703 672 \nQ 941 559 1184 500 \nQ 1428 441 1663 441 \nQ 2288 441 2617 861 \nQ 2947 1281 2994 2138 \nQ 2813 1869 2534 1725 \nQ 2256 1581 1919 1581 \nQ 1219 1581 811 2004 \nQ 403 2428 403 3163 \nQ 403 3881 828 4315 \nQ 1253 4750 1959 4750 \nQ 2769 4750 3195 4129 \nQ 3622 3509 3622 2328 \nQ 3622 1225 3098 567 \nQ 2575 -91 1691 -91 \nQ 1453 -91 1209 -44 \nQ 966 3 703 97 \nz\nM 1959 2075 \nQ 2384 2075 2632 2365 \nQ 2881 2656 2881 3163 \nQ 2881 3666 2632 3958 \nQ 2384 4250 1959 4250 \nQ 1534 4250 1286 3958 \nQ 1038 3666 1038 3163 \nQ 1038 2656 1286 2365 \nQ 1534 2075 1959 2075 \nz\n\" id=\"DejaVuSans-39\" transform=\"scale(0.015625)\"/>\n        <path d=\"M 2034 4250 \nQ 1547 4250 1301 3770 \nQ 1056 3291 1056 2328 \nQ 1056 1369 1301 889 \nQ 1547 409 2034 409 \nQ 2525 409 2770 889 \nQ 3016 1369 3016 2328 \nQ 3016 3291 2770 3770 \nQ 2525 4250 2034 4250 \nz\nM 2034 4750 \nQ 2819 4750 3233 4129 \nQ 3647 3509 3647 2328 \nQ 3647 1150 3233 529 \nQ 2819 -91 2034 -91 \nQ 1250 -91 836 529 \nQ 422 1150 422 2328 \nQ 422 3509 836 4129 \nQ 1250 4750 2034 4750 \nz\n\" id=\"DejaVuSans-30\" transform=\"scale(0.015625)\"/>\n       </defs>\n       <use xlink:href=\"#DejaVuSans-34\"/>\n       <use x=\"63.623047\" xlink:href=\"#DejaVuSans-34\"/>\n       <use x=\"127.246094\" xlink:href=\"#DejaVuSans-2e\"/>\n       <use x=\"159.033203\" xlink:href=\"#DejaVuSans-39\"/>\n       <use x=\"222.65625\" xlink:href=\"#DejaVuSans-30\"/>\n       <use x=\"286.279297\" xlink:href=\"#DejaVuSans-35\"/>\n      </g>\n     </g>\n    </g>\n    <g id=\"ytick_2\">\n     <g id=\"line2d_6\">\n      <g>\n       <use style=\"stroke:#000000;stroke-width:0.8;\" x=\"49.190625\" xlink:href=\"#m92e5b629da\" y=\"186.845457\"/>\n      </g>\n     </g>\n     <g id=\"text_6\">\n      <!-- 44.910 -->\n      <g transform=\"translate(7.2 190.644676)scale(0.1 -0.1)\">\n       <use xlink:href=\"#DejaVuSans-34\"/>\n       <use x=\"63.623047\" xlink:href=\"#DejaVuSans-34\"/>\n       <use x=\"127.246094\" xlink:href=\"#DejaVuSans-2e\"/>\n       <use x=\"159.033203\" xlink:href=\"#DejaVuSans-39\"/>\n       <use x=\"222.65625\" xlink:href=\"#DejaVuSans-31\"/>\n       <use x=\"286.279297\" xlink:href=\"#DejaVuSans-30\"/>\n      </g>\n     </g>\n    </g>\n    <g id=\"ytick_3\">\n     <g id=\"line2d_7\">\n      <g>\n       <use style=\"stroke:#000000;stroke-width:0.8;\" x=\"49.190625\" xlink:href=\"#m92e5b629da\" y=\"155.833338\"/>\n      </g>\n     </g>\n     <g id=\"text_7\">\n      <!-- 44.915 -->\n      <g transform=\"translate(7.2 159.632557)scale(0.1 -0.1)\">\n       <use xlink:href=\"#DejaVuSans-34\"/>\n       <use x=\"63.623047\" xlink:href=\"#DejaVuSans-34\"/>\n       <use x=\"127.246094\" xlink:href=\"#DejaVuSans-2e\"/>\n       <use x=\"159.033203\" xlink:href=\"#DejaVuSans-39\"/>\n       <use x=\"222.65625\" xlink:href=\"#DejaVuSans-31\"/>\n       <use x=\"286.279297\" xlink:href=\"#DejaVuSans-35\"/>\n      </g>\n     </g>\n    </g>\n    <g id=\"ytick_4\">\n     <g id=\"line2d_8\">\n      <g>\n       <use style=\"stroke:#000000;stroke-width:0.8;\" x=\"49.190625\" xlink:href=\"#m92e5b629da\" y=\"124.82122\"/>\n      </g>\n     </g>\n     <g id=\"text_8\">\n      <!-- 44.920 -->\n      <g transform=\"translate(7.2 128.620439)scale(0.1 -0.1)\">\n       <defs>\n        <path d=\"M 1228 531 \nL 3431 531 \nL 3431 0 \nL 469 0 \nL 469 531 \nQ 828 903 1448 1529 \nQ 2069 2156 2228 2338 \nQ 2531 2678 2651 2914 \nQ 2772 3150 2772 3378 \nQ 2772 3750 2511 3984 \nQ 2250 4219 1831 4219 \nQ 1534 4219 1204 4116 \nQ 875 4013 500 3803 \nL 500 4441 \nQ 881 4594 1212 4672 \nQ 1544 4750 1819 4750 \nQ 2544 4750 2975 4387 \nQ 3406 4025 3406 3419 \nQ 3406 3131 3298 2873 \nQ 3191 2616 2906 2266 \nQ 2828 2175 2409 1742 \nQ 1991 1309 1228 531 \nz\n\" id=\"DejaVuSans-32\" transform=\"scale(0.015625)\"/>\n       </defs>\n       <use xlink:href=\"#DejaVuSans-34\"/>\n       <use x=\"63.623047\" xlink:href=\"#DejaVuSans-34\"/>\n       <use x=\"127.246094\" xlink:href=\"#DejaVuSans-2e\"/>\n       <use x=\"159.033203\" xlink:href=\"#DejaVuSans-39\"/>\n       <use x=\"222.65625\" xlink:href=\"#DejaVuSans-32\"/>\n       <use x=\"286.279297\" xlink:href=\"#DejaVuSans-30\"/>\n      </g>\n     </g>\n    </g>\n    <g id=\"ytick_5\">\n     <g id=\"line2d_9\">\n      <g>\n       <use style=\"stroke:#000000;stroke-width:0.8;\" x=\"49.190625\" xlink:href=\"#m92e5b629da\" y=\"93.809102\"/>\n      </g>\n     </g>\n     <g id=\"text_9\">\n      <!-- 44.925 -->\n      <g transform=\"translate(7.2 97.60832)scale(0.1 -0.1)\">\n       <use xlink:href=\"#DejaVuSans-34\"/>\n       <use x=\"63.623047\" xlink:href=\"#DejaVuSans-34\"/>\n       <use x=\"127.246094\" xlink:href=\"#DejaVuSans-2e\"/>\n       <use x=\"159.033203\" xlink:href=\"#DejaVuSans-39\"/>\n       <use x=\"222.65625\" xlink:href=\"#DejaVuSans-32\"/>\n       <use x=\"286.279297\" xlink:href=\"#DejaVuSans-35\"/>\n      </g>\n     </g>\n    </g>\n    <g id=\"ytick_6\">\n     <g id=\"line2d_10\">\n      <g>\n       <use style=\"stroke:#000000;stroke-width:0.8;\" x=\"49.190625\" xlink:href=\"#m92e5b629da\" y=\"62.796983\"/>\n      </g>\n     </g>\n     <g id=\"text_10\">\n      <!-- 44.930 -->\n      <g transform=\"translate(7.2 66.596202)scale(0.1 -0.1)\">\n       <use xlink:href=\"#DejaVuSans-34\"/>\n       <use x=\"63.623047\" xlink:href=\"#DejaVuSans-34\"/>\n       <use x=\"127.246094\" xlink:href=\"#DejaVuSans-2e\"/>\n       <use x=\"159.033203\" xlink:href=\"#DejaVuSans-39\"/>\n       <use x=\"222.65625\" xlink:href=\"#DejaVuSans-33\"/>\n       <use x=\"286.279297\" xlink:href=\"#DejaVuSans-30\"/>\n      </g>\n     </g>\n    </g>\n    <g id=\"ytick_7\">\n     <g id=\"line2d_11\">\n      <g>\n       <use style=\"stroke:#000000;stroke-width:0.8;\" x=\"49.190625\" xlink:href=\"#m92e5b629da\" y=\"31.784865\"/>\n      </g>\n     </g>\n     <g id=\"text_11\">\n      <!-- 44.935 -->\n      <g transform=\"translate(7.2 35.584083)scale(0.1 -0.1)\">\n       <use xlink:href=\"#DejaVuSans-34\"/>\n       <use x=\"63.623047\" xlink:href=\"#DejaVuSans-34\"/>\n       <use x=\"127.246094\" xlink:href=\"#DejaVuSans-2e\"/>\n       <use x=\"159.033203\" xlink:href=\"#DejaVuSans-39\"/>\n       <use x=\"222.65625\" xlink:href=\"#DejaVuSans-33\"/>\n       <use x=\"286.279297\" xlink:href=\"#DejaVuSans-35\"/>\n      </g>\n     </g>\n    </g>\n   </g>\n   <g id=\"patch_3\">\n    <path d=\"M 49.190625 224.64 \nL 49.190625 7.2 \n\" style=\"fill:none;stroke:#000000;stroke-linecap:square;stroke-linejoin:miter;stroke-width:0.8;\"/>\n   </g>\n   <g id=\"patch_4\">\n    <path d=\"M 210.286649 224.64 \nL 210.286649 7.2 \n\" style=\"fill:none;stroke:#000000;stroke-linecap:square;stroke-linejoin:miter;stroke-width:0.8;\"/>\n   </g>\n   <g id=\"patch_5\">\n    <path d=\"M 49.190625 224.64 \nL 210.286649 224.64 \n\" style=\"fill:none;stroke:#000000;stroke-linecap:square;stroke-linejoin:miter;stroke-width:0.8;\"/>\n   </g>\n   <g id=\"patch_6\">\n    <path d=\"M 49.190625 7.2 \nL 210.286649 7.2 \n\" style=\"fill:none;stroke:#000000;stroke-linecap:square;stroke-linejoin:miter;stroke-width:0.8;\"/>\n   </g>\n  </g>\n </g>\n <defs>\n  <clipPath id=\"p6a4f755d7f\">\n   <rect height=\"217.44\" width=\"161.096024\" x=\"49.190625\" y=\"7.2\"/>\n  </clipPath>\n </defs>\n</svg>\n",
      "image/png": "[encoded data removed]"
     },
     "metadata": {
      "needs_background": "light"
     }
    }
   ],
   "source": [
    "dam_gdf.plot();"
   ]
  },
  {
   "cell_type": "code",
   "execution_count": 99,
   "metadata": {},
   "outputs": [
    {
     "output_type": "stream",
     "name": "stderr",
     "text": [
      "/home/vlas/.local/lib/python3.8/site-packages/ipykernel/ipkernel.py:283: DeprecationWarning: `should_run_async` will not call `transform_cell` automatically in the future. Please pass the result to `transformed_cell` argument and any exception that happen during thetransform in `preprocessing_exc_tuple` in IPython 7.17 and above.\n  and should_run_async(code)\n"
     ]
    }
   ],
   "source": [
    "add_nominal_water = VectorToRaster(dam_gdf, (FeatureType.MASK_TIMELESS, 'NOMINAL_WATER'), values=1, \n",
    "                                   raster_shape=(FeatureType.MASK, 'IS_DATA'), raster_dtype=np.uint8)"
   ]
  },
  {
   "cell_type": "code",
   "execution_count": 100,
   "metadata": {},
   "outputs": [
    {
     "output_type": "stream",
     "name": "stderr",
     "text": [
      "/home/vlas/.local/lib/python3.8/site-packages/ipykernel/ipkernel.py:283: DeprecationWarning: `should_run_async` will not call `transform_cell` automatically in the future. Please pass the result to `transformed_cell` argument and any exception that happen during thetransform in `preprocessing_exc_tuple` in IPython 7.17 and above.\n  and should_run_async(code)\n"
     ]
    }
   ],
   "source": [
    "\n",
    "\n",
    "def calculate_valid_data_mask(eopatch):\n",
    "    is_data_mask = eopatch.mask['IS_DATA'].astype(np.bool)\n",
    "    cloud_mask = ~eopatch.mask['CLM'].astype(np.bool)\n",
    "    return np.logical_and(is_data_mask, cloud_mask)\n",
    "\n",
    "add_valid_mask = AddValidDataMaskTask(predicate=calculate_valid_data_mask)"
   ]
  },
  {
   "cell_type": "code",
   "execution_count": 101,
   "metadata": {},
   "outputs": [],
   "source": [
    "def calculate_coverage(array):\n",
    "    return 1.0 - np.count_nonzero(array) / np.size(array)\n",
    "\n",
    "class AddValidDataCoverage(EOTask):\n",
    "    \n",
    "    def execute(self, eopatch):\n",
    "        \n",
    "        valid_data = eopatch.get_feature(FeatureType.MASK, 'VALID_DATA')\n",
    "        time, height, width, channels = valid_data.shape\n",
    "        \n",
    "        coverage = np.apply_along_axis(calculate_coverage, 1,\n",
    "                                       valid_data.reshape((time, height * width * channels)))\n",
    "        \n",
    "        eopatch.add_feature(FeatureType.SCALAR, 'COVERAGE', coverage[:, np.newaxis])\n",
    "        return eopatch\n",
    "    \n",
    "add_coverage = AddValidDataCoverage()"
   ]
  },
  {
   "cell_type": "code",
   "execution_count": 102,
   "metadata": {},
   "outputs": [],
   "source": [
    "cloud_coverage_threshold = 0.05 \n",
    "\n",
    "class ValidDataCoveragePredicate:\n",
    "    \n",
    "    def __init__(self, threshold):\n",
    "        self.threshold = threshold\n",
    "        \n",
    "    def __call__(self, array):\n",
    "        return calculate_coverage(array) < self.threshold\n",
    "    \n",
    "remove_cloudy_scenes = SimpleFilterTask((FeatureType.MASK, 'VALID_DATA'),\n",
    "                                        ValidDataCoveragePredicate(cloud_coverage_threshold))"
   ]
  },
  {
   "cell_type": "code",
   "execution_count": 103,
   "metadata": {},
   "outputs": [],
   "source": [
    "class WaterDetector(EOTask):\n",
    "    \n",
    "    @staticmethod\n",
    "    def detect_water(ndwi):\n",
    "        \"\"\"\n",
    "        Very simple water detector based on Otsu thresholding method of NDWI.\n",
    "        \"\"\"\n",
    "        otsu_thr = 1.0\n",
    "        if len(np.unique(ndwi)) > 1:\n",
    "            ndwi[np.isnan(ndwi)] = -1\n",
    "            otsu_thr = threshold_otsu(ndwi)\n",
    "\n",
    "        return ndwi > otsu_thr\n",
    "\n",
    "    def execute(self, eopatch):\n",
    "        water_masks = np.asarray([self.detect_water(ndwi[...,0]) for ndwi in eopatch.data['NDWI']])\n",
    "        \n",
    "        # we're only interested in the water within the dam borders\n",
    "        water_masks = water_masks[...,np.newaxis] * eopatch.mask_timeless['NOMINAL_WATER']\n",
    "        \n",
    "        water_levels = np.asarray([np.count_nonzero(mask)/np.count_nonzero(eopatch.mask_timeless['NOMINAL_WATER']) \n",
    "                                   for mask in water_masks])\n",
    "        \n",
    "        eopatch.add_feature(FeatureType.MASK, 'WATER_MASK', water_masks)\n",
    "        eopatch.add_feature(FeatureType.SCALAR, 'WATER_LEVEL', water_levels[...,np.newaxis])\n",
    "        \n",
    "        return eopatch\n",
    "    \n",
    "water_detection = WaterDetector()"
   ]
  },
  {
   "cell_type": "code",
   "execution_count": 104,
   "metadata": {},
   "outputs": [],
   "source": [
    "workflow = LinearWorkflow(download_task, calculate_ndwi, add_nominal_water, add_valid_mask,\n",
    "                          add_coverage, remove_cloudy_scenes, water_detection)"
   ]
  },
  {
   "cell_type": "code",
   "execution_count": 105,
   "metadata": {},
   "outputs": [],
   "source": [
    "#time_interval = [input_json['features'][0][\"startDate\"],input_json['features'][0][\"endDate\"]]\n",
    "time_interval = '2021-01-06', '2021-04-26'"
   ]
  },
  {
   "cell_type": "code",
   "execution_count": 106,
   "metadata": {
    "scrolled": true
   },
   "outputs": [
    {
     "output_type": "stream",
     "name": "stderr",
     "text": [
      "/home/vlas/.local/lib/python3.8/site-packages/eolearn/features/bands_extraction.py:86: RuntimeWarning: invalid value encountered in true_divide\n  ndi = (band_a - band_b + self.acorvi_constant) / (band_a + band_b + self.acorvi_constant)\n<ipython-input-100-1d363147cad0>:2: DeprecationWarning: `np.bool` is a deprecated alias for the builtin `bool`. To silence this warning, use `bool` by itself. Doing this will not modify any behavior and is safe. If you specifically wanted the numpy scalar type, use `np.bool_` here.\nDeprecated in NumPy 1.20; for more details and guidance: https://numpy.org/devdocs/release/1.20.0-notes.html#deprecations\n  is_data_mask = eopatch.mask['IS_DATA'].astype(np.bool)\n<ipython-input-100-1d363147cad0>:3: DeprecationWarning: `np.bool` is a deprecated alias for the builtin `bool`. To silence this warning, use `bool` by itself. Doing this will not modify any behavior and is safe. If you specifically wanted the numpy scalar type, use `np.bool_` here.\nDeprecated in NumPy 1.20; for more details and guidance: https://numpy.org/devdocs/release/1.20.0-notes.html#deprecations\n  cloud_mask = ~eopatch.mask['CLM'].astype(np.bool)\n"
     ]
    }
   ],
   "source": [
    "result = workflow.execute({\n",
    "    download_task: {\n",
    "        'bbox': dam_bbox,\n",
    "        'time_interval': time_interval\n",
    "    },\n",
    "})"
   ]
  },
  {
   "cell_type": "code",
   "execution_count": 107,
   "metadata": {},
   "outputs": [],
   "source": [
    "eopatch = list(result.values())[-1]"
   ]
  },
  {
   "cell_type": "code",
   "execution_count": 124,
   "metadata": {},
   "outputs": [],
   "source": [
    "from skimage.filters import sobel\n",
    "from skimage.morphology import disk\n",
    "from skimage.morphology import erosion, dilation, opening, closing, white_tophat, binary_dilation"
   ]
  },
  {
   "cell_type": "code",
   "execution_count": 109,
   "metadata": {},
   "outputs": [
    {
     "output_type": "execute_result",
     "data": {
      "text/plain": [
       "EOPatch(\n",
       "  data: {\n",
       "    BANDS: numpy.ndarray(shape=(8, 179, 129, 4), dtype=float32)\n",
       "    NDWI: numpy.ndarray(shape=(8, 179, 129, 1), dtype=float32)\n",
       "  }\n",
       "  mask: {\n",
       "    CLM: numpy.ndarray(shape=(8, 179, 129, 1), dtype=uint8)\n",
       "    IS_DATA: numpy.ndarray(shape=(8, 179, 129, 1), dtype=bool)\n",
       "    VALID_DATA: numpy.ndarray(shape=(8, 179, 129, 1), dtype=bool)\n",
       "    WATER_MASK: numpy.ndarray(shape=(8, 179, 129, 1), dtype=uint8)\n",
       "  }\n",
       "  scalar: {\n",
       "    COVERAGE: numpy.ndarray(shape=(8, 1), dtype=float64)\n",
       "    WATER_LEVEL: numpy.ndarray(shape=(8, 1), dtype=float64)\n",
       "  }\n",
       "  label: {}\n",
       "  vector: {}\n",
       "  data_timeless: {}\n",
       "  mask_timeless: {\n",
       "    NOMINAL_WATER: numpy.ndarray(shape=(179, 129, 1), dtype=uint8)\n",
       "  }\n",
       "  scalar_timeless: {}\n",
       "  label_timeless: {}\n",
       "  vector_timeless: {}\n",
       "  meta_info: {\n",
       "    maxcc: 0.5\n",
       "    size_x: 129\n",
       "    size_y: 179\n",
       "    time_difference: datetime.timedelta(seconds=1)\n",
       "    time_interval: (datetime.datetime(2021, 1, 6, 0, 0), datetime.datetime(2021, 4, 26, 23, 59, 59))\n",
       "  }\n",
       "  bbox: BBox(((34.138773681640714, 44.9055), (34.172120239257936, 44.9373702392578)), crs=CRS('4326'))\n",
       "  timestamp: [datetime.datetime(2021, 1, 6, 8, 47, 50, tzinfo=tzutc()), ...], length=8\n",
       ")"
      ]
     },
     "metadata": {},
     "execution_count": 109
    }
   ],
   "source": [
    "eopatch"
   ]
  },
  {
   "cell_type": "code",
   "execution_count": 111,
   "metadata": {},
   "outputs": [],
   "source": [
    "from matplotlib import patches, patheffects\n",
    "from shapely.geometry import MultiPolygon, Polygon"
   ]
  },
  {
   "cell_type": "code",
   "execution_count": 113,
   "metadata": {},
   "outputs": [],
   "source": [
    "import rasterio\n",
    "from rasterio import features\n",
    "import shapely\n",
    "from shapely.geometry import Point, Polygon\n",
    "\n",
    "def mask_to_polygons_layer(mask, eopatch, tolerance):\n",
    "    \n",
    "    all_polygons = []\n",
    "    bbox = eopatch.bbox\n",
    "    size_x = eopatch.meta_info['size_x']\n",
    "    size_y = eopatch.meta_info['size_y']\n",
    "    \n",
    "    vx = bbox.min_x\n",
    "    vy = bbox.max_y\n",
    "    cx = (bbox.max_x-bbox.min_x)/size_x\n",
    "    cy = (bbox.max_y-bbox.min_y)/size_y\n",
    "    \n",
    "    for shape, value in features.shapes(mask.astype(np.int16), mask=(mask == 1), transform=rasterio.Affine(cx, 0.0, vx,\n",
    "       0.0, -cy, vy)): \n",
    "        return shapely.geometry.shape(shape).simplify(tolerance, False)\n",
    "        all_polygons.append(shapely.geometry.shape(shape))\n",
    "    \n",
    "    all_polygons = shapely.geometry.MultiPolygon(all_polygons)\n",
    "    if not all_polygons.is_valid:\n",
    "        all_polygons = all_polygons.buffer(0)\n",
    "        # Sometimes buffer() converts a simple Multipolygon to just a Polygon,\n",
    "        # need to keep it a Multi throughout\n",
    "        if all_polygons.type == 'Polygon':\n",
    "            all_polygons = shapely.geometry.MultiPolygon([all_polygons])\n",
    "    return all_polygons\n",
    "\n",
    "\n",
    "def toGeoJson (shape):\n",
    "    return json.dumps(shapely.geometry.mapping(shape))\n"
   ]
  },
  {
   "cell_type": "code",
   "execution_count": 114,
   "metadata": {},
   "outputs": [],
   "source": [
    "\n",
    "def plot_rgb_w_water(eopatch, idx):\n",
    "    ratio = np.abs(eopatch.bbox.max_x - eopatch.bbox.min_x) / np.abs(eopatch.bbox.max_y - eopatch.bbox.min_y)\n",
    "    \n",
    "    tolerance = 0.00025\n",
    "    \n",
    "    observed = eopatch.mask['WATER_MASK'][idx,...,0]\n",
    "    observed = dilation(observed)\n",
    "    observed = np.ma.masked_where(observed == False, observed)\n",
    "    observedShape = mask_to_polygons_layer(observed, eopatch, tolerance)# вернуть\n",
    "    return toGeoJson(observedShape)"
   ]
  },
  {
   "cell_type": "code",
   "execution_count": 115,
   "metadata": {},
   "outputs": [],
   "source": [
    "# geometry\n",
    "fetch_data = plot_rgb_w_water(eopatch, 0)"
   ]
  },
  {
   "cell_type": "code",
   "execution_count": 118,
   "metadata": {},
   "outputs": [],
   "source": [
    "def plot_water_levels(eopatch, max_coverage=1.0):\n",
    "    fig, ax = plt.subplots(figsize=(20,7))\n",
    "\n",
    "    dates = np.asarray(eopatch.timestamp)\n",
    "    ax.plot(dates[eopatch.scalar['COVERAGE'][...,0]<max_coverage],\n",
    "            eopatch.scalar['WATER_LEVEL'][eopatch.scalar['COVERAGE'][...,0]<max_coverage],\n",
    "            'bo-',alpha=0.7, label='Water Level')\n",
    "    ax.plot(dates[eopatch.scalar['COVERAGE'][...,0]<max_coverage],\n",
    "            eopatch.scalar['COVERAGE'][eopatch.scalar['COVERAGE'][...,0]<max_coverage],\n",
    "            '--',color='gray',alpha=0.7, label='Cloud Coverage')\n",
    "    ax.set_ylim(0.0,1.1)\n",
    "    ax.set_xlabel('Date')\n",
    "    ax.set_ylabel('Water Level')\n",
    "    ax.set_title('Detected Water Level')\n",
    "    ax.grid(axis='y')\n",
    "    ax.legend(loc='best')\n",
    "    return ax"
   ]
  },
  {
   "cell_type": "code",
   "execution_count": 119,
   "metadata": {},
   "outputs": [
    {
     "output_type": "display_data",
     "data": {
      "text/plain": "<Figure size 1440x504 with 1 Axes>",
      "image/svg+xml": "<?xml version=\"1.0\" encoding=\"utf-8\" standalone=\"no\"?>\n<!DOCTYPE svg PUBLIC \"-//W3C//DTD SVG 1.1//EN\"\n  \"http://www.w3.org/Graphics/SVG/1.1/DTD/svg11.dtd\">\n<svg height=\"440.394375pt\" version=\"1.1\" viewBox=\"0 0 1188.047187 440.394375\" width=\"1188.047187pt\" xmlns=\"http://www.w3.org/2000/svg\" xmlns:xlink=\"http://www.w3.org/1999/xlink\">\n <metadata>\n  <rdf:RDF xmlns:cc=\"http://creativecommons.org/ns#\" xmlns:dc=\"http://purl.org/dc/elements/1.1/\" xmlns:rdf=\"http://www.w3.org/1999/02/22-rdf-syntax-ns#\">\n   <cc:Work>\n    <dc:type rdf:resource=\"http://purl.org/dc/dcmitype/StillImage\"/>\n    <dc:date>2021-05-18T16:27:48.846408</dc:date>\n    <dc:format>image/svg+xml</dc:format>\n    <dc:creator>\n     <cc:Agent>\n      <dc:title>Matplotlib v3.4.2, https://matplotlib.org/</dc:title>\n     </cc:Agent>\n    </dc:creator>\n   </cc:Work>\n  </rdf:RDF>\n </metadata>\n <defs>\n  <style type=\"text/css\">*{stroke-linecap:butt;stroke-linejoin:round;}</style>\n </defs>\n <g id=\"figure_1\">\n  <g id=\"patch_1\">\n   <path d=\"M 0 440.394375 \nL 1188.047187 440.394375 \nL 1188.047187 0 \nL 0 0 \nz\n\" style=\"fill:none;\"/>\n  </g>\n  <g id=\"axes_1\">\n   <g id=\"patch_2\">\n    <path d=\"M 43.78125 402.838125 \nL 1159.78125 402.838125 \nL 1159.78125 22.318125 \nL 43.78125 22.318125 \nz\n\" style=\"fill:#ffffff;\"/>\n   </g>\n   <g id=\"matplotlib.axis_1\">\n    <g id=\"xtick_1\">\n     <g id=\"line2d_1\">\n      <defs>\n       <path d=\"M 0 0 \nL 0 3.5 \n\" id=\"m138a13ff35\" style=\"stroke:#000000;stroke-width:0.8;\"/>\n      </defs>\n      <g>\n       <use style=\"stroke:#000000;stroke-width:0.8;\" x=\"45.012049\" xlink:href=\"#m138a13ff35\" y=\"402.838125\"/>\n      </g>\n     </g>\n     <g id=\"text_1\">\n      <!-- 2021-01-01 -->\n      <g transform=\"translate(15.954236 417.436562)scale(0.1 -0.1)\">\n       <defs>\n        <path d=\"M 1228 531 \nL 3431 531 \nL 3431 0 \nL 469 0 \nL 469 531 \nQ 828 903 1448 1529 \nQ 2069 2156 2228 2338 \nQ 2531 2678 2651 2914 \nQ 2772 3150 2772 3378 \nQ 2772 3750 2511 3984 \nQ 2250 4219 1831 4219 \nQ 1534 4219 1204 4116 \nQ 875 4013 500 3803 \nL 500 4441 \nQ 881 4594 1212 4672 \nQ 1544 4750 1819 4750 \nQ 2544 4750 2975 4387 \nQ 3406 4025 3406 3419 \nQ 3406 3131 3298 2873 \nQ 3191 2616 2906 2266 \nQ 2828 2175 2409 1742 \nQ 1991 1309 1228 531 \nz\n\" id=\"DejaVuSans-32\" transform=\"scale(0.015625)\"/>\n        <path d=\"M 2034 4250 \nQ 1547 4250 1301 3770 \nQ 1056 3291 1056 2328 \nQ 1056 1369 1301 889 \nQ 1547 409 2034 409 \nQ 2525 409 2770 889 \nQ 3016 1369 3016 2328 \nQ 3016 3291 2770 3770 \nQ 2525 4250 2034 4250 \nz\nM 2034 4750 \nQ 2819 4750 3233 4129 \nQ 3647 3509 3647 2328 \nQ 3647 1150 3233 529 \nQ 2819 -91 2034 -91 \nQ 1250 -91 836 529 \nQ 422 1150 422 2328 \nQ 422 3509 836 4129 \nQ 1250 4750 2034 4750 \nz\n\" id=\"DejaVuSans-30\" transform=\"scale(0.015625)\"/>\n        <path d=\"M 794 531 \nL 1825 531 \nL 1825 4091 \nL 703 3866 \nL 703 4441 \nL 1819 4666 \nL 2450 4666 \nL 2450 531 \nL 3481 531 \nL 3481 0 \nL 794 0 \nL 794 531 \nz\n\" id=\"DejaVuSans-31\" transform=\"scale(0.015625)\"/>\n        <path d=\"M 313 2009 \nL 1997 2009 \nL 1997 1497 \nL 313 1497 \nL 313 2009 \nz\n\" id=\"DejaVuSans-2d\" transform=\"scale(0.015625)\"/>\n       </defs>\n       <use xlink:href=\"#DejaVuSans-32\"/>\n       <use x=\"63.623047\" xlink:href=\"#DejaVuSans-30\"/>\n       <use x=\"127.246094\" xlink:href=\"#DejaVuSans-32\"/>\n       <use x=\"190.869141\" xlink:href=\"#DejaVuSans-31\"/>\n       <use x=\"254.492188\" xlink:href=\"#DejaVuSans-2d\"/>\n       <use x=\"290.576172\" xlink:href=\"#DejaVuSans-30\"/>\n       <use x=\"354.199219\" xlink:href=\"#DejaVuSans-31\"/>\n       <use x=\"417.822266\" xlink:href=\"#DejaVuSans-2d\"/>\n       <use x=\"453.90625\" xlink:href=\"#DejaVuSans-30\"/>\n       <use x=\"517.529297\" xlink:href=\"#DejaVuSans-31\"/>\n      </g>\n     </g>\n    </g>\n    <g id=\"xtick_2\">\n     <g id=\"line2d_2\">\n      <g>\n       <use style=\"stroke:#000000;stroke-width:0.8;\" x=\"174.13607\" xlink:href=\"#m138a13ff35\" y=\"402.838125\"/>\n      </g>\n     </g>\n     <g id=\"text_2\">\n      <!-- 2021-01-15 -->\n      <g transform=\"translate(145.078258 417.436562)scale(0.1 -0.1)\">\n       <defs>\n        <path d=\"M 691 4666 \nL 3169 4666 \nL 3169 4134 \nL 1269 4134 \nL 1269 2991 \nQ 1406 3038 1543 3061 \nQ 1681 3084 1819 3084 \nQ 2600 3084 3056 2656 \nQ 3513 2228 3513 1497 \nQ 3513 744 3044 326 \nQ 2575 -91 1722 -91 \nQ 1428 -91 1123 -41 \nQ 819 9 494 109 \nL 494 744 \nQ 775 591 1075 516 \nQ 1375 441 1709 441 \nQ 2250 441 2565 725 \nQ 2881 1009 2881 1497 \nQ 2881 1984 2565 2268 \nQ 2250 2553 1709 2553 \nQ 1456 2553 1204 2497 \nQ 953 2441 691 2322 \nL 691 4666 \nz\n\" id=\"DejaVuSans-35\" transform=\"scale(0.015625)\"/>\n       </defs>\n       <use xlink:href=\"#DejaVuSans-32\"/>\n       <use x=\"63.623047\" xlink:href=\"#DejaVuSans-30\"/>\n       <use x=\"127.246094\" xlink:href=\"#DejaVuSans-32\"/>\n       <use x=\"190.869141\" xlink:href=\"#DejaVuSans-31\"/>\n       <use x=\"254.492188\" xlink:href=\"#DejaVuSans-2d\"/>\n       <use x=\"290.576172\" xlink:href=\"#DejaVuSans-30\"/>\n       <use x=\"354.199219\" xlink:href=\"#DejaVuSans-31\"/>\n       <use x=\"417.822266\" xlink:href=\"#DejaVuSans-2d\"/>\n       <use x=\"453.90625\" xlink:href=\"#DejaVuSans-31\"/>\n       <use x=\"517.529297\" xlink:href=\"#DejaVuSans-35\"/>\n      </g>\n     </g>\n    </g>\n    <g id=\"xtick_3\">\n     <g id=\"line2d_3\">\n      <g>\n       <use style=\"stroke:#000000;stroke-width:0.8;\" x=\"330.929524\" xlink:href=\"#m138a13ff35\" y=\"402.838125\"/>\n      </g>\n     </g>\n     <g id=\"text_3\">\n      <!-- 2021-02-01 -->\n      <g transform=\"translate(301.871712 417.436562)scale(0.1 -0.1)\">\n       <use xlink:href=\"#DejaVuSans-32\"/>\n       <use x=\"63.623047\" xlink:href=\"#DejaVuSans-30\"/>\n       <use x=\"127.246094\" xlink:href=\"#DejaVuSans-32\"/>\n       <use x=\"190.869141\" xlink:href=\"#DejaVuSans-31\"/>\n       <use x=\"254.492188\" xlink:href=\"#DejaVuSans-2d\"/>\n       <use x=\"290.576172\" xlink:href=\"#DejaVuSans-30\"/>\n       <use x=\"354.199219\" xlink:href=\"#DejaVuSans-32\"/>\n       <use x=\"417.822266\" xlink:href=\"#DejaVuSans-2d\"/>\n       <use x=\"453.90625\" xlink:href=\"#DejaVuSans-30\"/>\n       <use x=\"517.529297\" xlink:href=\"#DejaVuSans-31\"/>\n      </g>\n     </g>\n    </g>\n    <g id=\"xtick_4\">\n     <g id=\"line2d_4\">\n      <g>\n       <use style=\"stroke:#000000;stroke-width:0.8;\" x=\"460.053546\" xlink:href=\"#m138a13ff35\" y=\"402.838125\"/>\n      </g>\n     </g>\n     <g id=\"text_4\">\n      <!-- 2021-02-15 -->\n      <g transform=\"translate(430.995733 417.436562)scale(0.1 -0.1)\">\n       <use xlink:href=\"#DejaVuSans-32\"/>\n       <use x=\"63.623047\" xlink:href=\"#DejaVuSans-30\"/>\n       <use x=\"127.246094\" xlink:href=\"#DejaVuSans-32\"/>\n       <use x=\"190.869141\" xlink:href=\"#DejaVuSans-31\"/>\n       <use x=\"254.492188\" xlink:href=\"#DejaVuSans-2d\"/>\n       <use x=\"290.576172\" xlink:href=\"#DejaVuSans-30\"/>\n       <use x=\"354.199219\" xlink:href=\"#DejaVuSans-32\"/>\n       <use x=\"417.822266\" xlink:href=\"#DejaVuSans-2d\"/>\n       <use x=\"453.90625\" xlink:href=\"#DejaVuSans-31\"/>\n       <use x=\"517.529297\" xlink:href=\"#DejaVuSans-35\"/>\n      </g>\n     </g>\n    </g>\n    <g id=\"xtick_5\">\n     <g id=\"line2d_5\">\n      <g>\n       <use style=\"stroke:#000000;stroke-width:0.8;\" x=\"589.177567\" xlink:href=\"#m138a13ff35\" y=\"402.838125\"/>\n      </g>\n     </g>\n     <g id=\"text_5\">\n      <!-- 2021-03-01 -->\n      <g transform=\"translate(560.119755 417.436562)scale(0.1 -0.1)\">\n       <defs>\n        <path d=\"M 2597 2516 \nQ 3050 2419 3304 2112 \nQ 3559 1806 3559 1356 \nQ 3559 666 3084 287 \nQ 2609 -91 1734 -91 \nQ 1441 -91 1130 -33 \nQ 819 25 488 141 \nL 488 750 \nQ 750 597 1062 519 \nQ 1375 441 1716 441 \nQ 2309 441 2620 675 \nQ 2931 909 2931 1356 \nQ 2931 1769 2642 2001 \nQ 2353 2234 1838 2234 \nL 1294 2234 \nL 1294 2753 \nL 1863 2753 \nQ 2328 2753 2575 2939 \nQ 2822 3125 2822 3475 \nQ 2822 3834 2567 4026 \nQ 2313 4219 1838 4219 \nQ 1578 4219 1281 4162 \nQ 984 4106 628 3988 \nL 628 4550 \nQ 988 4650 1302 4700 \nQ 1616 4750 1894 4750 \nQ 2613 4750 3031 4423 \nQ 3450 4097 3450 3541 \nQ 3450 3153 3228 2886 \nQ 3006 2619 2597 2516 \nz\n\" id=\"DejaVuSans-33\" transform=\"scale(0.015625)\"/>\n       </defs>\n       <use xlink:href=\"#DejaVuSans-32\"/>\n       <use x=\"63.623047\" xlink:href=\"#DejaVuSans-30\"/>\n       <use x=\"127.246094\" xlink:href=\"#DejaVuSans-32\"/>\n       <use x=\"190.869141\" xlink:href=\"#DejaVuSans-31\"/>\n       <use x=\"254.492188\" xlink:href=\"#DejaVuSans-2d\"/>\n       <use x=\"290.576172\" xlink:href=\"#DejaVuSans-30\"/>\n       <use x=\"354.199219\" xlink:href=\"#DejaVuSans-33\"/>\n       <use x=\"417.822266\" xlink:href=\"#DejaVuSans-2d\"/>\n       <use x=\"453.90625\" xlink:href=\"#DejaVuSans-30\"/>\n       <use x=\"517.529297\" xlink:href=\"#DejaVuSans-31\"/>\n      </g>\n     </g>\n    </g>\n    <g id=\"xtick_6\">\n     <g id=\"line2d_6\">\n      <g>\n       <use style=\"stroke:#000000;stroke-width:0.8;\" x=\"718.301588\" xlink:href=\"#m138a13ff35\" y=\"402.838125\"/>\n      </g>\n     </g>\n     <g id=\"text_6\">\n      <!-- 2021-03-15 -->\n      <g transform=\"translate(689.243776 417.436562)scale(0.1 -0.1)\">\n       <use xlink:href=\"#DejaVuSans-32\"/>\n       <use x=\"63.623047\" xlink:href=\"#DejaVuSans-30\"/>\n       <use x=\"127.246094\" xlink:href=\"#DejaVuSans-32\"/>\n       <use x=\"190.869141\" xlink:href=\"#DejaVuSans-31\"/>\n       <use x=\"254.492188\" xlink:href=\"#DejaVuSans-2d\"/>\n       <use x=\"290.576172\" xlink:href=\"#DejaVuSans-30\"/>\n       <use x=\"354.199219\" xlink:href=\"#DejaVuSans-33\"/>\n       <use x=\"417.822266\" xlink:href=\"#DejaVuSans-2d\"/>\n       <use x=\"453.90625\" xlink:href=\"#DejaVuSans-31\"/>\n       <use x=\"517.529297\" xlink:href=\"#DejaVuSans-35\"/>\n      </g>\n     </g>\n    </g>\n    <g id=\"xtick_7\">\n     <g id=\"line2d_7\">\n      <g>\n       <use style=\"stroke:#000000;stroke-width:0.8;\" x=\"875.095043\" xlink:href=\"#m138a13ff35\" y=\"402.838125\"/>\n      </g>\n     </g>\n     <g id=\"text_7\">\n      <!-- 2021-04-01 -->\n      <g transform=\"translate(846.03723 417.436562)scale(0.1 -0.1)\">\n       <defs>\n        <path d=\"M 2419 4116 \nL 825 1625 \nL 2419 1625 \nL 2419 4116 \nz\nM 2253 4666 \nL 3047 4666 \nL 3047 1625 \nL 3713 1625 \nL 3713 1100 \nL 3047 1100 \nL 3047 0 \nL 2419 0 \nL 2419 1100 \nL 313 1100 \nL 313 1709 \nL 2253 4666 \nz\n\" id=\"DejaVuSans-34\" transform=\"scale(0.015625)\"/>\n       </defs>\n       <use xlink:href=\"#DejaVuSans-32\"/>\n       <use x=\"63.623047\" xlink:href=\"#DejaVuSans-30\"/>\n       <use x=\"127.246094\" xlink:href=\"#DejaVuSans-32\"/>\n       <use x=\"190.869141\" xlink:href=\"#DejaVuSans-31\"/>\n       <use x=\"254.492188\" xlink:href=\"#DejaVuSans-2d\"/>\n       <use x=\"290.576172\" xlink:href=\"#DejaVuSans-30\"/>\n       <use x=\"354.199219\" xlink:href=\"#DejaVuSans-34\"/>\n       <use x=\"417.822266\" xlink:href=\"#DejaVuSans-2d\"/>\n       <use x=\"453.90625\" xlink:href=\"#DejaVuSans-30\"/>\n       <use x=\"517.529297\" xlink:href=\"#DejaVuSans-31\"/>\n      </g>\n     </g>\n    </g>\n    <g id=\"xtick_8\">\n     <g id=\"line2d_8\">\n      <g>\n       <use style=\"stroke:#000000;stroke-width:0.8;\" x=\"1004.219064\" xlink:href=\"#m138a13ff35\" y=\"402.838125\"/>\n      </g>\n     </g>\n     <g id=\"text_8\">\n      <!-- 2021-04-15 -->\n      <g transform=\"translate(975.161252 417.436562)scale(0.1 -0.1)\">\n       <use xlink:href=\"#DejaVuSans-32\"/>\n       <use x=\"63.623047\" xlink:href=\"#DejaVuSans-30\"/>\n       <use x=\"127.246094\" xlink:href=\"#DejaVuSans-32\"/>\n       <use x=\"190.869141\" xlink:href=\"#DejaVuSans-31\"/>\n       <use x=\"254.492188\" xlink:href=\"#DejaVuSans-2d\"/>\n       <use x=\"290.576172\" xlink:href=\"#DejaVuSans-30\"/>\n       <use x=\"354.199219\" xlink:href=\"#DejaVuSans-34\"/>\n       <use x=\"417.822266\" xlink:href=\"#DejaVuSans-2d\"/>\n       <use x=\"453.90625\" xlink:href=\"#DejaVuSans-31\"/>\n       <use x=\"517.529297\" xlink:href=\"#DejaVuSans-35\"/>\n      </g>\n     </g>\n    </g>\n    <g id=\"xtick_9\">\n     <g id=\"line2d_9\">\n      <g>\n       <use style=\"stroke:#000000;stroke-width:0.8;\" x=\"1151.789374\" xlink:href=\"#m138a13ff35\" y=\"402.838125\"/>\n      </g>\n     </g>\n     <g id=\"text_9\">\n      <!-- 2021-05-01 -->\n      <g transform=\"translate(1122.731562 417.436562)scale(0.1 -0.1)\">\n       <use xlink:href=\"#DejaVuSans-32\"/>\n       <use x=\"63.623047\" xlink:href=\"#DejaVuSans-30\"/>\n       <use x=\"127.246094\" xlink:href=\"#DejaVuSans-32\"/>\n       <use x=\"190.869141\" xlink:href=\"#DejaVuSans-31\"/>\n       <use x=\"254.492188\" xlink:href=\"#DejaVuSans-2d\"/>\n       <use x=\"290.576172\" xlink:href=\"#DejaVuSans-30\"/>\n       <use x=\"354.199219\" xlink:href=\"#DejaVuSans-35\"/>\n       <use x=\"417.822266\" xlink:href=\"#DejaVuSans-2d\"/>\n       <use x=\"453.90625\" xlink:href=\"#DejaVuSans-30\"/>\n       <use x=\"517.529297\" xlink:href=\"#DejaVuSans-31\"/>\n      </g>\n     </g>\n    </g>\n    <g id=\"text_10\">\n     <!-- Date -->\n     <g transform=\"translate(589.830469 431.114687)scale(0.1 -0.1)\">\n      <defs>\n       <path d=\"M 1259 4147 \nL 1259 519 \nL 2022 519 \nQ 2988 519 3436 956 \nQ 3884 1394 3884 2338 \nQ 3884 3275 3436 3711 \nQ 2988 4147 2022 4147 \nL 1259 4147 \nz\nM 628 4666 \nL 1925 4666 \nQ 3281 4666 3915 4102 \nQ 4550 3538 4550 2338 \nQ 4550 1131 3912 565 \nQ 3275 0 1925 0 \nL 628 0 \nL 628 4666 \nz\n\" id=\"DejaVuSans-44\" transform=\"scale(0.015625)\"/>\n       <path d=\"M 2194 1759 \nQ 1497 1759 1228 1600 \nQ 959 1441 959 1056 \nQ 959 750 1161 570 \nQ 1363 391 1709 391 \nQ 2188 391 2477 730 \nQ 2766 1069 2766 1631 \nL 2766 1759 \nL 2194 1759 \nz\nM 3341 1997 \nL 3341 0 \nL 2766 0 \nL 2766 531 \nQ 2569 213 2275 61 \nQ 1981 -91 1556 -91 \nQ 1019 -91 701 211 \nQ 384 513 384 1019 \nQ 384 1609 779 1909 \nQ 1175 2209 1959 2209 \nL 2766 2209 \nL 2766 2266 \nQ 2766 2663 2505 2880 \nQ 2244 3097 1772 3097 \nQ 1472 3097 1187 3025 \nQ 903 2953 641 2809 \nL 641 3341 \nQ 956 3463 1253 3523 \nQ 1550 3584 1831 3584 \nQ 2591 3584 2966 3190 \nQ 3341 2797 3341 1997 \nz\n\" id=\"DejaVuSans-61\" transform=\"scale(0.015625)\"/>\n       <path d=\"M 1172 4494 \nL 1172 3500 \nL 2356 3500 \nL 2356 3053 \nL 1172 3053 \nL 1172 1153 \nQ 1172 725 1289 603 \nQ 1406 481 1766 481 \nL 2356 481 \nL 2356 0 \nL 1766 0 \nQ 1100 0 847 248 \nQ 594 497 594 1153 \nL 594 3053 \nL 172 3053 \nL 172 3500 \nL 594 3500 \nL 594 4494 \nL 1172 4494 \nz\n\" id=\"DejaVuSans-74\" transform=\"scale(0.015625)\"/>\n       <path d=\"M 3597 1894 \nL 3597 1613 \nL 953 1613 \nQ 991 1019 1311 708 \nQ 1631 397 2203 397 \nQ 2534 397 2845 478 \nQ 3156 559 3463 722 \nL 3463 178 \nQ 3153 47 2828 -22 \nQ 2503 -91 2169 -91 \nQ 1331 -91 842 396 \nQ 353 884 353 1716 \nQ 353 2575 817 3079 \nQ 1281 3584 2069 3584 \nQ 2775 3584 3186 3129 \nQ 3597 2675 3597 1894 \nz\nM 3022 2063 \nQ 3016 2534 2758 2815 \nQ 2500 3097 2075 3097 \nQ 1594 3097 1305 2825 \nQ 1016 2553 972 2059 \nL 3022 2063 \nz\n\" id=\"DejaVuSans-65\" transform=\"scale(0.015625)\"/>\n      </defs>\n      <use xlink:href=\"#DejaVuSans-44\"/>\n      <use x=\"77.001953\" xlink:href=\"#DejaVuSans-61\"/>\n      <use x=\"138.28125\" xlink:href=\"#DejaVuSans-74\"/>\n      <use x=\"177.490234\" xlink:href=\"#DejaVuSans-65\"/>\n     </g>\n    </g>\n   </g>\n   <g id=\"matplotlib.axis_2\">\n    <g id=\"ytick_1\">\n     <g id=\"line2d_10\">\n      <path clip-path=\"url(#pa0f6f1726d)\" d=\"M 43.78125 402.838125 \nL 1159.78125 402.838125 \n\" style=\"fill:none;stroke:#b0b0b0;stroke-linecap:square;stroke-width:0.8;\"/>\n     </g>\n     <g id=\"line2d_11\">\n      <defs>\n       <path d=\"M 0 0 \nL -3.5 0 \n\" id=\"m1602ea4234\" style=\"stroke:#000000;stroke-width:0.8;\"/>\n      </defs>\n      <g>\n       <use style=\"stroke:#000000;stroke-width:0.8;\" x=\"43.78125\" xlink:href=\"#m1602ea4234\" y=\"402.838125\"/>\n      </g>\n     </g>\n     <g id=\"text_11\">\n      <!-- 0.0 -->\n      <g transform=\"translate(20.878125 406.637344)scale(0.1 -0.1)\">\n       <defs>\n        <path d=\"M 684 794 \nL 1344 794 \nL 1344 0 \nL 684 0 \nL 684 794 \nz\n\" id=\"DejaVuSans-2e\" transform=\"scale(0.015625)\"/>\n       </defs>\n       <use xlink:href=\"#DejaVuSans-30\"/>\n       <use x=\"63.623047\" xlink:href=\"#DejaVuSans-2e\"/>\n       <use x=\"95.410156\" xlink:href=\"#DejaVuSans-30\"/>\n      </g>\n     </g>\n    </g>\n    <g id=\"ytick_2\">\n     <g id=\"line2d_12\">\n      <path clip-path=\"url(#pa0f6f1726d)\" d=\"M 43.78125 333.65267 \nL 1159.78125 333.65267 \n\" style=\"fill:none;stroke:#b0b0b0;stroke-linecap:square;stroke-width:0.8;\"/>\n     </g>\n     <g id=\"line2d_13\">\n      <g>\n       <use style=\"stroke:#000000;stroke-width:0.8;\" x=\"43.78125\" xlink:href=\"#m1602ea4234\" y=\"333.65267\"/>\n      </g>\n     </g>\n     <g id=\"text_12\">\n      <!-- 0.2 -->\n      <g transform=\"translate(20.878125 337.451889)scale(0.1 -0.1)\">\n       <use xlink:href=\"#DejaVuSans-30\"/>\n       <use x=\"63.623047\" xlink:href=\"#DejaVuSans-2e\"/>\n       <use x=\"95.410156\" xlink:href=\"#DejaVuSans-32\"/>\n      </g>\n     </g>\n    </g>\n    <g id=\"ytick_3\">\n     <g id=\"line2d_14\">\n      <path clip-path=\"url(#pa0f6f1726d)\" d=\"M 43.78125 264.467216 \nL 1159.78125 264.467216 \n\" style=\"fill:none;stroke:#b0b0b0;stroke-linecap:square;stroke-width:0.8;\"/>\n     </g>\n     <g id=\"line2d_15\">\n      <g>\n       <use style=\"stroke:#000000;stroke-width:0.8;\" x=\"43.78125\" xlink:href=\"#m1602ea4234\" y=\"264.467216\"/>\n      </g>\n     </g>\n     <g id=\"text_13\">\n      <!-- 0.4 -->\n      <g transform=\"translate(20.878125 268.266435)scale(0.1 -0.1)\">\n       <use xlink:href=\"#DejaVuSans-30\"/>\n       <use x=\"63.623047\" xlink:href=\"#DejaVuSans-2e\"/>\n       <use x=\"95.410156\" xlink:href=\"#DejaVuSans-34\"/>\n      </g>\n     </g>\n    </g>\n    <g id=\"ytick_4\">\n     <g id=\"line2d_16\">\n      <path clip-path=\"url(#pa0f6f1726d)\" d=\"M 43.78125 195.281761 \nL 1159.78125 195.281761 \n\" style=\"fill:none;stroke:#b0b0b0;stroke-linecap:square;stroke-width:0.8;\"/>\n     </g>\n     <g id=\"line2d_17\">\n      <g>\n       <use style=\"stroke:#000000;stroke-width:0.8;\" x=\"43.78125\" xlink:href=\"#m1602ea4234\" y=\"195.281761\"/>\n      </g>\n     </g>\n     <g id=\"text_14\">\n      <!-- 0.6 -->\n      <g transform=\"translate(20.878125 199.08098)scale(0.1 -0.1)\">\n       <defs>\n        <path d=\"M 2113 2584 \nQ 1688 2584 1439 2293 \nQ 1191 2003 1191 1497 \nQ 1191 994 1439 701 \nQ 1688 409 2113 409 \nQ 2538 409 2786 701 \nQ 3034 994 3034 1497 \nQ 3034 2003 2786 2293 \nQ 2538 2584 2113 2584 \nz\nM 3366 4563 \nL 3366 3988 \nQ 3128 4100 2886 4159 \nQ 2644 4219 2406 4219 \nQ 1781 4219 1451 3797 \nQ 1122 3375 1075 2522 \nQ 1259 2794 1537 2939 \nQ 1816 3084 2150 3084 \nQ 2853 3084 3261 2657 \nQ 3669 2231 3669 1497 \nQ 3669 778 3244 343 \nQ 2819 -91 2113 -91 \nQ 1303 -91 875 529 \nQ 447 1150 447 2328 \nQ 447 3434 972 4092 \nQ 1497 4750 2381 4750 \nQ 2619 4750 2861 4703 \nQ 3103 4656 3366 4563 \nz\n\" id=\"DejaVuSans-36\" transform=\"scale(0.015625)\"/>\n       </defs>\n       <use xlink:href=\"#DejaVuSans-30\"/>\n       <use x=\"63.623047\" xlink:href=\"#DejaVuSans-2e\"/>\n       <use x=\"95.410156\" xlink:href=\"#DejaVuSans-36\"/>\n      </g>\n     </g>\n    </g>\n    <g id=\"ytick_5\">\n     <g id=\"line2d_18\">\n      <path clip-path=\"url(#pa0f6f1726d)\" d=\"M 43.78125 126.096307 \nL 1159.78125 126.096307 \n\" style=\"fill:none;stroke:#b0b0b0;stroke-linecap:square;stroke-width:0.8;\"/>\n     </g>\n     <g id=\"line2d_19\">\n      <g>\n       <use style=\"stroke:#000000;stroke-width:0.8;\" x=\"43.78125\" xlink:href=\"#m1602ea4234\" y=\"126.096307\"/>\n      </g>\n     </g>\n     <g id=\"text_15\">\n      <!-- 0.8 -->\n      <g transform=\"translate(20.878125 129.895526)scale(0.1 -0.1)\">\n       <defs>\n        <path d=\"M 2034 2216 \nQ 1584 2216 1326 1975 \nQ 1069 1734 1069 1313 \nQ 1069 891 1326 650 \nQ 1584 409 2034 409 \nQ 2484 409 2743 651 \nQ 3003 894 3003 1313 \nQ 3003 1734 2745 1975 \nQ 2488 2216 2034 2216 \nz\nM 1403 2484 \nQ 997 2584 770 2862 \nQ 544 3141 544 3541 \nQ 544 4100 942 4425 \nQ 1341 4750 2034 4750 \nQ 2731 4750 3128 4425 \nQ 3525 4100 3525 3541 \nQ 3525 3141 3298 2862 \nQ 3072 2584 2669 2484 \nQ 3125 2378 3379 2068 \nQ 3634 1759 3634 1313 \nQ 3634 634 3220 271 \nQ 2806 -91 2034 -91 \nQ 1263 -91 848 271 \nQ 434 634 434 1313 \nQ 434 1759 690 2068 \nQ 947 2378 1403 2484 \nz\nM 1172 3481 \nQ 1172 3119 1398 2916 \nQ 1625 2713 2034 2713 \nQ 2441 2713 2670 2916 \nQ 2900 3119 2900 3481 \nQ 2900 3844 2670 4047 \nQ 2441 4250 2034 4250 \nQ 1625 4250 1398 4047 \nQ 1172 3844 1172 3481 \nz\n\" id=\"DejaVuSans-38\" transform=\"scale(0.015625)\"/>\n       </defs>\n       <use xlink:href=\"#DejaVuSans-30\"/>\n       <use x=\"63.623047\" xlink:href=\"#DejaVuSans-2e\"/>\n       <use x=\"95.410156\" xlink:href=\"#DejaVuSans-38\"/>\n      </g>\n     </g>\n    </g>\n    <g id=\"ytick_6\">\n     <g id=\"line2d_20\">\n      <path clip-path=\"url(#pa0f6f1726d)\" d=\"M 43.78125 56.910852 \nL 1159.78125 56.910852 \n\" style=\"fill:none;stroke:#b0b0b0;stroke-linecap:square;stroke-width:0.8;\"/>\n     </g>\n     <g id=\"line2d_21\">\n      <g>\n       <use style=\"stroke:#000000;stroke-width:0.8;\" x=\"43.78125\" xlink:href=\"#m1602ea4234\" y=\"56.910852\"/>\n      </g>\n     </g>\n     <g id=\"text_16\">\n      <!-- 1.0 -->\n      <g transform=\"translate(20.878125 60.710071)scale(0.1 -0.1)\">\n       <use xlink:href=\"#DejaVuSans-31\"/>\n       <use x=\"63.623047\" xlink:href=\"#DejaVuSans-2e\"/>\n       <use x=\"95.410156\" xlink:href=\"#DejaVuSans-30\"/>\n      </g>\n     </g>\n    </g>\n    <g id=\"text_17\">\n     <!-- Water Level -->\n     <g transform=\"translate(14.798437 242.148437)rotate(-90)scale(0.1 -0.1)\">\n      <defs>\n       <path d=\"M 213 4666 \nL 850 4666 \nL 1831 722 \nL 2809 4666 \nL 3519 4666 \nL 4500 722 \nL 5478 4666 \nL 6119 4666 \nL 4947 0 \nL 4153 0 \nL 3169 4050 \nL 2175 0 \nL 1381 0 \nL 213 4666 \nz\n\" id=\"DejaVuSans-57\" transform=\"scale(0.015625)\"/>\n       <path d=\"M 2631 2963 \nQ 2534 3019 2420 3045 \nQ 2306 3072 2169 3072 \nQ 1681 3072 1420 2755 \nQ 1159 2438 1159 1844 \nL 1159 0 \nL 581 0 \nL 581 3500 \nL 1159 3500 \nL 1159 2956 \nQ 1341 3275 1631 3429 \nQ 1922 3584 2338 3584 \nQ 2397 3584 2469 3576 \nQ 2541 3569 2628 3553 \nL 2631 2963 \nz\n\" id=\"DejaVuSans-72\" transform=\"scale(0.015625)\"/>\n       <path id=\"DejaVuSans-20\" transform=\"scale(0.015625)\"/>\n       <path d=\"M 628 4666 \nL 1259 4666 \nL 1259 531 \nL 3531 531 \nL 3531 0 \nL 628 0 \nL 628 4666 \nz\n\" id=\"DejaVuSans-4c\" transform=\"scale(0.015625)\"/>\n       <path d=\"M 191 3500 \nL 800 3500 \nL 1894 563 \nL 2988 3500 \nL 3597 3500 \nL 2284 0 \nL 1503 0 \nL 191 3500 \nz\n\" id=\"DejaVuSans-76\" transform=\"scale(0.015625)\"/>\n       <path d=\"M 603 4863 \nL 1178 4863 \nL 1178 0 \nL 603 0 \nL 603 4863 \nz\n\" id=\"DejaVuSans-6c\" transform=\"scale(0.015625)\"/>\n      </defs>\n      <use xlink:href=\"#DejaVuSans-57\"/>\n      <use x=\"92.501953\" xlink:href=\"#DejaVuSans-61\"/>\n      <use x=\"153.78125\" xlink:href=\"#DejaVuSans-74\"/>\n      <use x=\"192.990234\" xlink:href=\"#DejaVuSans-65\"/>\n      <use x=\"254.513672\" xlink:href=\"#DejaVuSans-72\"/>\n      <use x=\"295.626953\" xlink:href=\"#DejaVuSans-20\"/>\n      <use x=\"327.414062\" xlink:href=\"#DejaVuSans-4c\"/>\n      <use x=\"381.376953\" xlink:href=\"#DejaVuSans-65\"/>\n      <use x=\"442.900391\" xlink:href=\"#DejaVuSans-76\"/>\n      <use x=\"502.080078\" xlink:href=\"#DejaVuSans-65\"/>\n      <use x=\"563.603516\" xlink:href=\"#DejaVuSans-6c\"/>\n     </g>\n    </g>\n   </g>\n   <g id=\"line2d_22\">\n    <path clip-path=\"url(#pa0f6f1726d)\" d=\"M 94.508523 334.20674 \nL 463.434191 347.117594 \nL 509.549486 353.755969 \nL 601.781357 280.263411 \nL 647.897185 331.697748 \nL 694.012801 329.972816 \nL 924.59109 309.900879 \nL 1109.053977 289.619861 \n\" style=\"fill:none;stroke:#0000ff;stroke-linecap:square;stroke-opacity:0.7;stroke-width:1.5;\"/>\n    <defs>\n     <path d=\"M 0 3 \nC 0.795609 3 1.55874 2.683901 2.12132 2.12132 \nC 2.683901 1.55874 3 0.795609 3 0 \nC 3 -0.795609 2.683901 -1.55874 2.12132 -2.12132 \nC 1.55874 -2.683901 0.795609 -3 0 -3 \nC -0.795609 -3 -1.55874 -2.683901 -2.12132 -2.12132 \nC -2.683901 -1.55874 -3 -0.795609 -3 0 \nC -3 0.795609 -2.683901 1.55874 -2.12132 2.12132 \nC -1.55874 2.683901 -0.795609 3 0 3 \nz\n\" id=\"m729d2ff055\" style=\"stroke:#0000ff;stroke-opacity:0.7;\"/>\n    </defs>\n    <g clip-path=\"url(#pa0f6f1726d)\">\n     <use style=\"fill:#0000ff;fill-opacity:0.7;stroke:#0000ff;stroke-opacity:0.7;\" x=\"94.508523\" xlink:href=\"#m729d2ff055\" y=\"334.20674\"/>\n     <use style=\"fill:#0000ff;fill-opacity:0.7;stroke:#0000ff;stroke-opacity:0.7;\" x=\"463.434191\" xlink:href=\"#m729d2ff055\" y=\"347.117594\"/>\n     <use style=\"fill:#0000ff;fill-opacity:0.7;stroke:#0000ff;stroke-opacity:0.7;\" x=\"509.549486\" xlink:href=\"#m729d2ff055\" y=\"353.755969\"/>\n     <use style=\"fill:#0000ff;fill-opacity:0.7;stroke:#0000ff;stroke-opacity:0.7;\" x=\"601.781357\" xlink:href=\"#m729d2ff055\" y=\"280.263411\"/>\n     <use style=\"fill:#0000ff;fill-opacity:0.7;stroke:#0000ff;stroke-opacity:0.7;\" x=\"647.897185\" xlink:href=\"#m729d2ff055\" y=\"331.697748\"/>\n     <use style=\"fill:#0000ff;fill-opacity:0.7;stroke:#0000ff;stroke-opacity:0.7;\" x=\"694.012801\" xlink:href=\"#m729d2ff055\" y=\"329.972816\"/>\n     <use style=\"fill:#0000ff;fill-opacity:0.7;stroke:#0000ff;stroke-opacity:0.7;\" x=\"924.59109\" xlink:href=\"#m729d2ff055\" y=\"309.900879\"/>\n     <use style=\"fill:#0000ff;fill-opacity:0.7;stroke:#0000ff;stroke-opacity:0.7;\" x=\"1109.053977\" xlink:href=\"#m729d2ff055\" y=\"289.619861\"/>\n    </g>\n   </g>\n   <g id=\"line2d_23\">\n    <path clip-path=\"url(#pa0f6f1726d)\" d=\"M 94.508523 402.838125 \nL 463.434191 402.838125 \nL 509.549486 402.838125 \nL 601.781357 401.609679 \nL 647.897185 402.838125 \nL 694.012801 402.838125 \nL 924.59109 402.838125 \nL 1109.053977 402.838125 \n\" style=\"fill:none;stroke:#808080;stroke-dasharray:5.55,2.4;stroke-dashoffset:0;stroke-opacity:0.7;stroke-width:1.5;\"/>\n   </g>\n   <g id=\"patch_3\">\n    <path d=\"M 43.78125 402.838125 \nL 43.78125 22.318125 \n\" style=\"fill:none;stroke:#000000;stroke-linecap:square;stroke-linejoin:miter;stroke-width:0.8;\"/>\n   </g>\n   <g id=\"patch_4\">\n    <path d=\"M 1159.78125 402.838125 \nL 1159.78125 22.318125 \n\" style=\"fill:none;stroke:#000000;stroke-linecap:square;stroke-linejoin:miter;stroke-width:0.8;\"/>\n   </g>\n   <g id=\"patch_5\">\n    <path d=\"M 43.78125 402.838125 \nL 1159.78125 402.838125 \n\" style=\"fill:none;stroke:#000000;stroke-linecap:square;stroke-linejoin:miter;stroke-width:0.8;\"/>\n   </g>\n   <g id=\"patch_6\">\n    <path d=\"M 43.78125 22.318125 \nL 1159.78125 22.318125 \n\" style=\"fill:none;stroke:#000000;stroke-linecap:square;stroke-linejoin:miter;stroke-width:0.8;\"/>\n   </g>\n   <g id=\"text_18\">\n    <!-- Detected Water Level -->\n    <g transform=\"translate(536.881875 16.318125)scale(0.12 -0.12)\">\n     <defs>\n      <path d=\"M 3122 3366 \nL 3122 2828 \nQ 2878 2963 2633 3030 \nQ 2388 3097 2138 3097 \nQ 1578 3097 1268 2742 \nQ 959 2388 959 1747 \nQ 959 1106 1268 751 \nQ 1578 397 2138 397 \nQ 2388 397 2633 464 \nQ 2878 531 3122 666 \nL 3122 134 \nQ 2881 22 2623 -34 \nQ 2366 -91 2075 -91 \nQ 1284 -91 818 406 \nQ 353 903 353 1747 \nQ 353 2603 823 3093 \nQ 1294 3584 2113 3584 \nQ 2378 3584 2631 3529 \nQ 2884 3475 3122 3366 \nz\n\" id=\"DejaVuSans-63\" transform=\"scale(0.015625)\"/>\n      <path d=\"M 2906 2969 \nL 2906 4863 \nL 3481 4863 \nL 3481 0 \nL 2906 0 \nL 2906 525 \nQ 2725 213 2448 61 \nQ 2172 -91 1784 -91 \nQ 1150 -91 751 415 \nQ 353 922 353 1747 \nQ 353 2572 751 3078 \nQ 1150 3584 1784 3584 \nQ 2172 3584 2448 3432 \nQ 2725 3281 2906 2969 \nz\nM 947 1747 \nQ 947 1113 1208 752 \nQ 1469 391 1925 391 \nQ 2381 391 2643 752 \nQ 2906 1113 2906 1747 \nQ 2906 2381 2643 2742 \nQ 2381 3103 1925 3103 \nQ 1469 3103 1208 2742 \nQ 947 2381 947 1747 \nz\n\" id=\"DejaVuSans-64\" transform=\"scale(0.015625)\"/>\n     </defs>\n     <use xlink:href=\"#DejaVuSans-44\"/>\n     <use x=\"77.001953\" xlink:href=\"#DejaVuSans-65\"/>\n     <use x=\"138.525391\" xlink:href=\"#DejaVuSans-74\"/>\n     <use x=\"177.734375\" xlink:href=\"#DejaVuSans-65\"/>\n     <use x=\"239.257812\" xlink:href=\"#DejaVuSans-63\"/>\n     <use x=\"294.238281\" xlink:href=\"#DejaVuSans-74\"/>\n     <use x=\"333.447266\" xlink:href=\"#DejaVuSans-65\"/>\n     <use x=\"394.970703\" xlink:href=\"#DejaVuSans-64\"/>\n     <use x=\"458.447266\" xlink:href=\"#DejaVuSans-20\"/>\n     <use x=\"490.234375\" xlink:href=\"#DejaVuSans-57\"/>\n     <use x=\"582.736328\" xlink:href=\"#DejaVuSans-61\"/>\n     <use x=\"644.015625\" xlink:href=\"#DejaVuSans-74\"/>\n     <use x=\"683.224609\" xlink:href=\"#DejaVuSans-65\"/>\n     <use x=\"744.748047\" xlink:href=\"#DejaVuSans-72\"/>\n     <use x=\"785.861328\" xlink:href=\"#DejaVuSans-20\"/>\n     <use x=\"817.648438\" xlink:href=\"#DejaVuSans-4c\"/>\n     <use x=\"871.611328\" xlink:href=\"#DejaVuSans-65\"/>\n     <use x=\"933.134766\" xlink:href=\"#DejaVuSans-76\"/>\n     <use x=\"992.314453\" xlink:href=\"#DejaVuSans-65\"/>\n     <use x=\"1053.837891\" xlink:href=\"#DejaVuSans-6c\"/>\n    </g>\n   </g>\n   <g id=\"legend_1\">\n    <g id=\"patch_7\">\n     <path d=\"M 1041.123437 59.674375 \nL 1152.78125 59.674375 \nQ 1154.78125 59.674375 1154.78125 57.674375 \nL 1154.78125 29.318125 \nQ 1154.78125 27.318125 1152.78125 27.318125 \nL 1041.123437 27.318125 \nQ 1039.123437 27.318125 1039.123437 29.318125 \nL 1039.123437 57.674375 \nQ 1039.123437 59.674375 1041.123437 59.674375 \nz\n\" style=\"fill:#ffffff;opacity:0.8;stroke:#cccccc;stroke-linejoin:miter;\"/>\n    </g>\n    <g id=\"line2d_24\">\n     <path d=\"M 1043.123437 35.416562 \nL 1063.123437 35.416562 \n\" style=\"fill:none;stroke:#0000ff;stroke-linecap:square;stroke-opacity:0.7;stroke-width:1.5;\"/>\n    </g>\n    <g id=\"line2d_25\">\n     <g>\n      <use style=\"fill:#0000ff;fill-opacity:0.7;stroke:#0000ff;stroke-opacity:0.7;\" x=\"1053.123437\" xlink:href=\"#m729d2ff055\" y=\"35.416562\"/>\n     </g>\n    </g>\n    <g id=\"text_19\">\n     <!-- Water Level -->\n     <g transform=\"translate(1071.123437 38.916562)scale(0.1 -0.1)\">\n      <use xlink:href=\"#DejaVuSans-57\"/>\n      <use x=\"92.501953\" xlink:href=\"#DejaVuSans-61\"/>\n      <use x=\"153.78125\" xlink:href=\"#DejaVuSans-74\"/>\n      <use x=\"192.990234\" xlink:href=\"#DejaVuSans-65\"/>\n      <use x=\"254.513672\" xlink:href=\"#DejaVuSans-72\"/>\n      <use x=\"295.626953\" xlink:href=\"#DejaVuSans-20\"/>\n      <use x=\"327.414062\" xlink:href=\"#DejaVuSans-4c\"/>\n      <use x=\"381.376953\" xlink:href=\"#DejaVuSans-65\"/>\n      <use x=\"442.900391\" xlink:href=\"#DejaVuSans-76\"/>\n      <use x=\"502.080078\" xlink:href=\"#DejaVuSans-65\"/>\n      <use x=\"563.603516\" xlink:href=\"#DejaVuSans-6c\"/>\n     </g>\n    </g>\n    <g id=\"line2d_26\">\n     <path d=\"M 1043.123437 50.094687 \nL 1063.123437 50.094687 \n\" style=\"fill:none;stroke:#808080;stroke-dasharray:5.55,2.4;stroke-dashoffset:0;stroke-opacity:0.7;stroke-width:1.5;\"/>\n    </g>\n    <g id=\"line2d_27\"/>\n    <g id=\"text_20\">\n     <!-- Cloud Coverage -->\n     <g transform=\"translate(1071.123437 53.594687)scale(0.1 -0.1)\">\n      <defs>\n       <path d=\"M 4122 4306 \nL 4122 3641 \nQ 3803 3938 3442 4084 \nQ 3081 4231 2675 4231 \nQ 1875 4231 1450 3742 \nQ 1025 3253 1025 2328 \nQ 1025 1406 1450 917 \nQ 1875 428 2675 428 \nQ 3081 428 3442 575 \nQ 3803 722 4122 1019 \nL 4122 359 \nQ 3791 134 3420 21 \nQ 3050 -91 2638 -91 \nQ 1578 -91 968 557 \nQ 359 1206 359 2328 \nQ 359 3453 968 4101 \nQ 1578 4750 2638 4750 \nQ 3056 4750 3426 4639 \nQ 3797 4528 4122 4306 \nz\n\" id=\"DejaVuSans-43\" transform=\"scale(0.015625)\"/>\n       <path d=\"M 1959 3097 \nQ 1497 3097 1228 2736 \nQ 959 2375 959 1747 \nQ 959 1119 1226 758 \nQ 1494 397 1959 397 \nQ 2419 397 2687 759 \nQ 2956 1122 2956 1747 \nQ 2956 2369 2687 2733 \nQ 2419 3097 1959 3097 \nz\nM 1959 3584 \nQ 2709 3584 3137 3096 \nQ 3566 2609 3566 1747 \nQ 3566 888 3137 398 \nQ 2709 -91 1959 -91 \nQ 1206 -91 779 398 \nQ 353 888 353 1747 \nQ 353 2609 779 3096 \nQ 1206 3584 1959 3584 \nz\n\" id=\"DejaVuSans-6f\" transform=\"scale(0.015625)\"/>\n       <path d=\"M 544 1381 \nL 544 3500 \nL 1119 3500 \nL 1119 1403 \nQ 1119 906 1312 657 \nQ 1506 409 1894 409 \nQ 2359 409 2629 706 \nQ 2900 1003 2900 1516 \nL 2900 3500 \nL 3475 3500 \nL 3475 0 \nL 2900 0 \nL 2900 538 \nQ 2691 219 2414 64 \nQ 2138 -91 1772 -91 \nQ 1169 -91 856 284 \nQ 544 659 544 1381 \nz\nM 1991 3584 \nL 1991 3584 \nz\n\" id=\"DejaVuSans-75\" transform=\"scale(0.015625)\"/>\n       <path d=\"M 2906 1791 \nQ 2906 2416 2648 2759 \nQ 2391 3103 1925 3103 \nQ 1463 3103 1205 2759 \nQ 947 2416 947 1791 \nQ 947 1169 1205 825 \nQ 1463 481 1925 481 \nQ 2391 481 2648 825 \nQ 2906 1169 2906 1791 \nz\nM 3481 434 \nQ 3481 -459 3084 -895 \nQ 2688 -1331 1869 -1331 \nQ 1566 -1331 1297 -1286 \nQ 1028 -1241 775 -1147 \nL 775 -588 \nQ 1028 -725 1275 -790 \nQ 1522 -856 1778 -856 \nQ 2344 -856 2625 -561 \nQ 2906 -266 2906 331 \nL 2906 616 \nQ 2728 306 2450 153 \nQ 2172 0 1784 0 \nQ 1141 0 747 490 \nQ 353 981 353 1791 \nQ 353 2603 747 3093 \nQ 1141 3584 1784 3584 \nQ 2172 3584 2450 3431 \nQ 2728 3278 2906 2969 \nL 2906 3500 \nL 3481 3500 \nL 3481 434 \nz\n\" id=\"DejaVuSans-67\" transform=\"scale(0.015625)\"/>\n      </defs>\n      <use xlink:href=\"#DejaVuSans-43\"/>\n      <use x=\"69.824219\" xlink:href=\"#DejaVuSans-6c\"/>\n      <use x=\"97.607422\" xlink:href=\"#DejaVuSans-6f\"/>\n      <use x=\"158.789062\" xlink:href=\"#DejaVuSans-75\"/>\n      <use x=\"222.167969\" xlink:href=\"#DejaVuSans-64\"/>\n      <use x=\"285.644531\" xlink:href=\"#DejaVuSans-20\"/>\n      <use x=\"317.431641\" xlink:href=\"#DejaVuSans-43\"/>\n      <use x=\"387.255859\" xlink:href=\"#DejaVuSans-6f\"/>\n      <use x=\"448.4375\" xlink:href=\"#DejaVuSans-76\"/>\n      <use x=\"507.617188\" xlink:href=\"#DejaVuSans-65\"/>\n      <use x=\"569.140625\" xlink:href=\"#DejaVuSans-72\"/>\n      <use x=\"610.253906\" xlink:href=\"#DejaVuSans-61\"/>\n      <use x=\"671.533203\" xlink:href=\"#DejaVuSans-67\"/>\n      <use x=\"735.009766\" xlink:href=\"#DejaVuSans-65\"/>\n     </g>\n    </g>\n   </g>\n  </g>\n </g>\n <defs>\n  <clipPath id=\"pa0f6f1726d\">\n   <rect height=\"380.52\" width=\"1116\" x=\"43.78125\" y=\"22.318125\"/>\n  </clipPath>\n </defs>\n</svg>\n",
      "image/png": "[encoded data removed]"
     },
     "metadata": {
      "needs_background": "light"
     }
    }
   ],
   "source": [
    "ax = plot_water_levels(eopatch, 1.0);"
   ]
  },
  {
   "cell_type": "code",
   "execution_count": 82,
   "metadata": {},
   "outputs": [
    {
     "output_type": "execute_result",
     "data": {
      "text/plain": [
       "EOPatch(\n",
       "  data: {\n",
       "    BANDS: numpy.ndarray(shape=(5, 109, 94, 4), dtype=float32)\n",
       "    NDWI: numpy.ndarray(shape=(5, 109, 94, 1), dtype=float32)\n",
       "  }\n",
       "  mask: {\n",
       "    CLM: numpy.ndarray(shape=(5, 109, 94, 1), dtype=uint8)\n",
       "    IS_DATA: numpy.ndarray(shape=(5, 109, 94, 1), dtype=bool)\n",
       "    VALID_DATA: numpy.ndarray(shape=(5, 109, 94, 1), dtype=bool)\n",
       "    WATER_MASK: numpy.ndarray(shape=(5, 109, 94, 1), dtype=uint8)\n",
       "  }\n",
       "  scalar: {\n",
       "    COVERAGE: numpy.ndarray(shape=(5, 1), dtype=float64)\n",
       "    WATER_LEVEL: numpy.ndarray(shape=(5, 1), dtype=float64)\n",
       "  }\n",
       "  label: {}\n",
       "  vector: {}\n",
       "  data_timeless: {}\n",
       "  mask_timeless: {\n",
       "    NOMINAL_WATER: numpy.ndarray(shape=(109, 94, 1), dtype=uint8)\n",
       "  }\n",
       "  scalar_timeless: {}\n",
       "  label_timeless: {}\n",
       "  vector_timeless: {}\n",
       "  meta_info: {\n",
       "    maxcc: 0.5\n",
       "    size_x: 94\n",
       "    size_y: 109\n",
       "    time_difference: datetime.timedelta(seconds=1)\n",
       "    time_interval: (datetime.datetime(2020, 3, 5, 0, 0), datetime.datetime(2020, 4, 5, 23, 59, 59))\n",
       "  }\n",
       "  bbox: BBox(((35.3071403503418, 45.13725047061371), (35.33177375793457, 45.15631924063114)), crs=CRS('4326'))\n",
       "  timestamp: [datetime.datetime(2020, 3, 7, 8, 47, 29, tzinfo=tzutc()), ...], length=5\n",
       ")"
      ]
     },
     "metadata": {},
     "execution_count": 82
    }
   ],
   "source": [
    "eopatch #COVERAGE  WATER_LEVEL  bbox+CRS  timestamp"
   ]
  },
  {
   "cell_type": "code",
   "execution_count": 120,
   "metadata": {},
   "outputs": [],
   "source": [
    "def get_observed_shape(eopatch, idx):\n",
    "    ratio = np.abs(eopatch.bbox.max_x - eopatch.bbox.min_x) / np.abs(eopatch.bbox.max_y - eopatch.bbox.min_y)\n",
    "    \n",
    "    tolerance = 0.00025\n",
    "    \n",
    "    observed = eopatch.mask['WATER_MASK'][idx,...,0]\n",
    "    observed = dilation(observed)\n",
    "    observed = np.ma.masked_where(observed == False, observed)\n",
    "    observedShape = mask_to_polygons_layer(observed, eopatch, tolerance)\n",
    "    return toGeoJson(observedShape)"
   ]
  },
  {
   "cell_type": "code",
   "execution_count": 125,
   "metadata": {},
   "outputs": [],
   "source": [
    "def get_water_mask_from_S2(ndwi, canny_sigma=4, canny_threshold=0.3, selem=disk(4)):\n",
    "    \"\"\"\n",
    "    Make water detection on input NDWI single band image.\n",
    "    \n",
    "    \"\"\"\n",
    "    # default threshold (no water detected)\n",
    "    otsu_thr = 1.0\n",
    "    status = 0\n",
    "    \n",
    "    # transform NDWI values to [0,1]\n",
    "    ndwi_std = (ndwi - np.min(ndwi))/np.ptp(ndwi)\n",
    "    \n",
    "    if len(np.unique(ndwi)) > 1:\n",
    "        edges = canny(ndwi_std, sigma=canny_sigma, high_threshold=canny_threshold)\n",
    "        edges = binary_dilation(edges, selem)\n",
    "        ndwi_masked = ma.masked_array(ndwi, mask=np.logical_not(edges))\n",
    "        \n",
    "        if len(np.unique(ndwi_masked.data[~ndwi_masked.mask])) > 1:\n",
    "            # threshold determined using dilated canny edge + otsu\n",
    "            otsu_thr = threshold_otsu(ndwi_masked.data[~ndwi_masked.mask])\n",
    "            status = 1\n",
    "\n",
    "            # if majority of pixels above threshold have negative NDWI values\n",
    "            # change the threshold to 0.0\n",
    "            fraction = np.count_nonzero(ndwi>0)/np.count_nonzero(ndwi>otsu_thr)\n",
    "            if fraction < 0.9:\n",
    "                otsu_thr = 0.0\n",
    "                status = 3\n",
    "        else:\n",
    "            # theshold determined with otsu on entire image\n",
    "            otsu_thr = threshold_otsu(ndwi)\n",
    "            status = 2\n",
    "            \n",
    "            # if majority of pixels above threshold have negative NDWI values\n",
    "            # change the threshold to 0.0\n",
    "            fraction = np.count_nonzero(ndwi>0)/np.count_nonzero(ndwi>otsu_thr)\n",
    "            if fraction < 0.9:\n",
    "                otsu_thr = 0.0\n",
    "                status = 4\n",
    "\n",
    "    return status, (ndwi>otsu_thr).astype(np.uint8)\n",
    "\n",
    "def get_water_level_optical(timestamp, ndwi, dam_poly, dam_bbox, simplify=True):\n",
    "    \"\"\"\n",
    "    Run water detection algorithm for an NDWI image.\n",
    "    \"\"\"\n",
    "    water_det_status, water_mask = get_water_mask_from_S2(ndwi)\n",
    "    measured_water_extent = get_water_extent(water_mask, dam_poly, dam_bbox, simplify)\n",
    "    \n",
    "    return {'alg_status':water_det_status,\n",
    "            'water_level':measured_water_extent.area/dam_poly.area,\n",
    "            'geometry':measured_water_extent}\n",
    "\n",
    "class WaterDetector(EOTask):\n",
    "    def execute(self, eopatch):\n",
    "        \n",
    "        results = [get_water_level_optical(date, eopatch.data['NDWI'][idx,...,0], geom, bbox, simplify=True) for idx, date in enumerate(eopatch.timestamp)]\n",
    "        \n",
    "        df = list([x['geometry'] for x in results])\n",
    "        gdf = gpd.GeoDataFrame(geometry = df, crs = {'init': eopatch.bbox.crs.ogc_string()})\n",
    "        gdf['TIMESTAMP'] = eopatch.timestamp\n",
    "        \n",
    "        eopatch.add_feature(FeatureType.VECTOR, 'WATER_OUTLINE', gdf)\n",
    "        eopatch.add_feature(FeatureType.SCALAR, 'WATER_LEVEL', np.array([x['water_level'] for x in results])[..., np.newaxis])\n",
    "        \n",
    "        return eopatch"
   ]
  },
  {
   "cell_type": "code",
   "execution_count": null,
   "metadata": {},
   "outputs": [],
   "source": [
    "water_det = WaterDetector()"
   ]
  },
  {
   "cell_type": "code",
   "execution_count": 121,
   "metadata": {},
   "outputs": [
    {
     "output_type": "execute_result",
     "data": {
      "text/plain": [
       "'{\"type\": \"Polygon\", \"coordinates\": [[[34.1449776923602, 44.93558977896407], [34.14575319370013, 44.935411732934696], [34.14549469325349, 44.934877594846576], [34.14627019459342, 44.934877594846576], [34.14704569593336, 44.934343456758455], [34.14756269682665, 44.933097134552845], [34.148338198166584, 44.93345322661159], [34.14937219995316, 44.93291908852347], [34.14911369950652, 44.93220690440598], [34.15092320263304, 44.93113862822974], [34.15144020352633, 44.930248398082874], [34.153508207099485, 44.92971425999475], [34.152991206206195, 44.92935816793601], [34.152991206206195, 44.92828989175977], [34.154025207992774, 44.92757770764228], [34.154025207992774, 44.92686552352478], [34.15454220888607, 44.92668747749541], [34.155317710226, 44.925441155289796], [34.15609321156594, 44.92508506323105], [34.15635171201258, 44.92330460293732], [34.15609321156594, 44.922414372790456], [34.154025207992774, 44.92170218867296], [34.152991206206195, 44.92223632676108], [34.152474205312906, 44.92330460293732], [34.15092320263304, 44.92383874102544], [34.15118170307968, 44.92437287911356], [34.1501477012931, 44.92437287911356], [34.15066470218639, 44.92508506323105], [34.14988920084645, 44.925441155289796], [34.14963070039981, 44.927221615583534], [34.147821197273295, 44.92882402984789], [34.14704569593336, 44.92882402984789], [34.146787195486716, 44.93042644411225], [34.144460691466904, 44.93167276631786], [34.142909688787036, 44.931850812347236], [34.14239268789375, 44.932562996464725], [34.14135868610717, 44.93291908852347], [34.14161718655381, 44.933631272640966], [34.14058318476723, 44.933631272640966], [34.14058318476723, 44.93398736469971], [34.14161718655381, 44.93452150278783], [34.14368519012697, 44.935411732934696], [34.14471919191355, 44.93505564087595], [34.1449776923602, 44.93558977896407]]]}'"
      ]
     },
     "metadata": {},
     "execution_count": 121
    }
   ],
   "source": [
    "\n",
    "from skimage.morphology import dilation\n",
    "get_observed_shape(eopatch, 0)\n"
   ]
  },
  {
   "cell_type": "code",
   "execution_count": 122,
   "metadata": {
    "tags": []
   },
   "outputs": [],
   "source": [
    "import geojson\n",
    "output = []\n",
    "\n",
    "for i in range(len(eopatch.scalar['WATER_LEVEL'])):\n",
    "    numpyData = {\"measurement_date\": eopatch.timestamp[i].strftime('%d/%m/%Y'), \"bbox\": eopatch.bbox.geometry.bounds, \"crs\": eopatch.bbox.crs.epsg, \"water_level\": eopatch.scalar['WATER_LEVEL'][i,0], \"cloud_coverage\": eopatch.scalar['COVERAGE'][i,0], \"measurement_type\": \"observed\"}\n",
    "    #obJect = {\"type\": \"Feature\", \"properties\": numpyData, \"geometry\": get_observed_shape(eopatch, i)}\n",
    "    obJect = {\"type\": \"FeatureCollection\", \"features\":[{\"type\":\"Feature\", \"properties\": numpyData, \"geometry\": get_observed_shape(eopatch, i)}]}\n",
    "    output.append(obJect)\n",
    "\n",
    "#output_json = json.dumps(output, ensure_ascii=False).encode('utf-8')\n",
    "#json.loads(json.dumps(output_json))\n",
    "#json.dump(output, open(\"result2.json\",\"w\"), ensure_ascii=False)\n",
    "# with open('data.json', 'a') as f:\n",
    "#     json.dump(output, f)"
   ]
  },
  {
   "cell_type": "code",
   "execution_count": 123,
   "metadata": {},
   "outputs": [
    {
     "output_type": "execute_result",
     "data": {
      "text/plain": [
       "[{'type': 'FeatureCollection',\n",
       "  'features': [{'type': 'Feature',\n",
       "    'properties': {'measurement_date': '06/01/2021',\n",
       "     'bbox': (34.138773681640714,\n",
       "      44.9055,\n",
       "      34.172120239257936,\n",
       "      44.9373702392578),\n",
       "     'crs': 4326,\n",
       "     'water_level': 0.19839830764581445,\n",
       "     'cloud_coverage': 0.0,\n",
       "     'measurement_type': 'observed'},\n",
       "    'geometry': '{\"type\": \"Polygon\", \"coordinates\": [[[34.1449776923602, 44.93558977896407], [34.14575319370013, 44.935411732934696], [34.14549469325349, 44.934877594846576], [34.14627019459342, 44.934877594846576], [34.14704569593336, 44.934343456758455], [34.14756269682665, 44.933097134552845], [34.148338198166584, 44.93345322661159], [34.14937219995316, 44.93291908852347], [34.14911369950652, 44.93220690440598], [34.15092320263304, 44.93113862822974], [34.15144020352633, 44.930248398082874], [34.153508207099485, 44.92971425999475], [34.152991206206195, 44.92935816793601], [34.152991206206195, 44.92828989175977], [34.154025207992774, 44.92757770764228], [34.154025207992774, 44.92686552352478], [34.15454220888607, 44.92668747749541], [34.155317710226, 44.925441155289796], [34.15609321156594, 44.92508506323105], [34.15635171201258, 44.92330460293732], [34.15609321156594, 44.922414372790456], [34.154025207992774, 44.92170218867296], [34.152991206206195, 44.92223632676108], [34.152474205312906, 44.92330460293732], [34.15092320263304, 44.92383874102544], [34.15118170307968, 44.92437287911356], [34.1501477012931, 44.92437287911356], [34.15066470218639, 44.92508506323105], [34.14988920084645, 44.925441155289796], [34.14963070039981, 44.927221615583534], [34.147821197273295, 44.92882402984789], [34.14704569593336, 44.92882402984789], [34.146787195486716, 44.93042644411225], [34.144460691466904, 44.93167276631786], [34.142909688787036, 44.931850812347236], [34.14239268789375, 44.932562996464725], [34.14135868610717, 44.93291908852347], [34.14161718655381, 44.933631272640966], [34.14058318476723, 44.933631272640966], [34.14058318476723, 44.93398736469971], [34.14161718655381, 44.93452150278783], [34.14368519012697, 44.935411732934696], [34.14471919191355, 44.93505564087595], [34.1449776923602, 44.93558977896407]]]}'}]},\n",
       " {'type': 'FeatureCollection',\n",
       "  'features': [{'type': 'Feature',\n",
       "    'properties': {'measurement_date': '15/02/2021',\n",
       "     'bbox': (34.138773681640714,\n",
       "      44.9055,\n",
       "      34.172120239257936,\n",
       "      44.9373702392578),\n",
       "     'crs': 4326,\n",
       "     'water_level': 0.1610758537322454,\n",
       "     'cloud_coverage': 0.0,\n",
       "     'measurement_type': 'observed'},\n",
       "    'geometry': '{\"type\": \"Polygon\", \"coordinates\": [[[34.1449776923602, 44.935411732934696], [34.14549469325349, 44.93523368690533], [34.14523619280684, 44.93469954881721], [34.14704569593336, 44.934165410729086], [34.14704569593336, 44.933631272640966], [34.147821197273295, 44.93291908852347], [34.14911369950652, 44.9327410424941], [34.148855199059874, 44.932384950435356], [34.15066470218639, 44.931316674259115], [34.15092320263304, 44.93042644411225], [34.152991206206195, 44.929536213965385], [34.152732705759554, 44.928467937789144], [34.154025207992774, 44.9273996616129], [34.15428370843942, 44.92615333940729], [34.15505920977936, 44.92579724734855], [34.15505920977936, 44.92508506323105], [34.15557621067265, 44.92490701720168], [34.155317710226, 44.92401678705481], [34.15454220888607, 44.923660694996066], [34.154025207992774, 44.9227704648492], [34.152991206206195, 44.9227704648492], [34.15118170307968, 44.92419483308419], [34.15092320263304, 44.92508506323105], [34.14988920084645, 44.92597529337792], [34.14988920084645, 44.927221615583534], [34.148855199059874, 44.927755753671654], [34.148079697719936, 44.929002075877264], [34.147304196380006, 44.92918012190663], [34.146787195486716, 44.93060449014162], [34.14471919191355, 44.93167276631786], [34.142909688787036, 44.932028858376604], [34.14265118834039, 44.932562996464725], [34.14161718655381, 44.93291908852347], [34.14161718655381, 44.933631272640966], [34.14110018566052, 44.93380931867034], [34.14368519012697, 44.93523368690533], [34.14471919191355, 44.934877594846576], [34.1449776923602, 44.935411732934696]]]}'}]},\n",
       " {'type': 'FeatureCollection',\n",
       "  'features': [{'type': 'Feature',\n",
       "    'properties': {'measurement_date': '20/02/2021',\n",
       "     'bbox': (34.138773681640714,\n",
       "      44.9055,\n",
       "      34.172120239257936,\n",
       "      44.9373702392578),\n",
       "     'crs': 4326,\n",
       "     'water_level': 0.14188576609247508,\n",
       "     'cloud_coverage': 0.0,\n",
       "     'measurement_type': 'observed'},\n",
       "    'geometry': '{\"type\": \"Polygon\", \"coordinates\": [[[34.14368519012697, 44.93523368690533], [34.14471919191355, 44.93469954881721], [34.14652869504007, 44.93452150278783], [34.14756269682665, 44.93345322661159], [34.14756269682665, 44.93291908852347], [34.148855199059874, 44.93291908852347], [34.14911369950652, 44.932562996464725], [34.148855199059874, 44.932384950435356], [34.14963070039981, 44.932028858376604], [34.14963070039981, 44.93167276631786], [34.15066470218639, 44.931316674259115], [34.15092320263304, 44.93042644411225], [34.152991206206195, 44.929536213965385], [34.152732705759554, 44.928467937789144], [34.154025207992774, 44.9273996616129], [34.15428370843942, 44.92615333940729], [34.155317710226, 44.925441155289796], [34.15505920977936, 44.92508506323105], [34.15557621067265, 44.92490701720168], [34.15557621067265, 44.92437287911356], [34.155317710226, 44.92401678705481], [34.15428370843942, 44.9234826489667], [34.152474205312906, 44.92330460293732], [34.15118170307968, 44.92419483308419], [34.15092320263304, 44.925441155289796], [34.14988920084645, 44.92650943146604], [34.14988920084645, 44.927221615583534], [34.148079697719936, 44.928467937789144], [34.148079697719936, 44.929002075877264], [34.147304196380006, 44.92918012190663], [34.146787195486716, 44.93060449014162], [34.14187568700046, 44.9327410424941], [34.14187568700046, 44.93345322661159], [34.14239268789375, 44.933631272640966], [34.14265118834039, 44.93291908852347], [34.14368519012697, 44.932562996464725], [34.143426689680325, 44.934165410729086], [34.143943690573614, 44.93469954881721], [34.143426689680325, 44.93505564087595], [34.14368519012697, 44.93523368690533]]]}'}]},\n",
       " {'type': 'FeatureCollection',\n",
       "  'features': [{'type': 'Feature',\n",
       "    'properties': {'measurement_date': '02/03/2021',\n",
       "     'bbox': (34.138773681640714,\n",
       "      44.9055,\n",
       "      34.172120239257936,\n",
       "      44.9373702392578),\n",
       "     'crs': 4326,\n",
       "     'water_level': 0.35433665760048355,\n",
       "     'cloud_coverage': 0.0035511671213892537,\n",
       "     'measurement_type': 'observed'},\n",
       "    'geometry': '{\"type\": \"Polygon\", \"coordinates\": [[[34.13980768342729, 44.93452150278783], [34.14032468432058, 44.934165410729086], [34.138773681640714, 44.93291908852347], [34.138773681640714, 44.93398736469971], [34.13980768342729, 44.93452150278783]]]}'}]},\n",
       " {'type': 'FeatureCollection',\n",
       "  'features': [{'type': 'Feature',\n",
       "    'properties': {'measurement_date': '07/03/2021',\n",
       "     'bbox': (34.138773681640714,\n",
       "      44.9055,\n",
       "      34.172120239257936,\n",
       "      44.9373702392578),\n",
       "     'crs': 4326,\n",
       "     'water_level': 0.20565125415533395,\n",
       "     'cloud_coverage': 0.0,\n",
       "     'measurement_type': 'observed'},\n",
       "    'geometry': '{\"type\": \"Polygon\", \"coordinates\": [[[34.1449776923602, 44.93558977896407], [34.14575319370013, 44.935411732934696], [34.14549469325349, 44.934877594846576], [34.14704569593336, 44.93452150278783], [34.14756269682665, 44.93327518058222], [34.148338198166584, 44.93345322661159], [34.14859669861323, 44.933097134552845], [34.14937219995316, 44.933097134552845], [34.14911369950652, 44.93220690440598], [34.15092320263304, 44.93113862822974], [34.15144020352633, 44.930248398082874], [34.153508207099485, 44.92971425999475], [34.152991206206195, 44.928467937789144], [34.154025207992774, 44.927755753671654], [34.15428370843942, 44.92668747749541], [34.15635171201258, 44.92490701720168], [34.15661021245923, 44.922414372790456], [34.15635171201258, 44.921880234702336], [34.155317710226, 44.921346096614215], [34.15324970665284, 44.92152414264359], [34.152991206206195, 44.9227704648492], [34.152474205312906, 44.92294851087858], [34.15221570486626, 44.923660694996066], [34.15118170307968, 44.92401678705481], [34.15092320263304, 44.92490701720168], [34.14988920084645, 44.925441155289796], [34.14963070039981, 44.927221615583534], [34.147821197273295, 44.92882402984789], [34.147304196380006, 44.92864598381852], [34.146787195486716, 44.929002075877264], [34.14704569593336, 44.930070352053505], [34.14652869504007, 44.93060449014162], [34.144460691466904, 44.93167276631786], [34.14265118834039, 44.932028858376604], [34.14135868610717, 44.93291908852347], [34.14161718655381, 44.93327518058222], [34.14135868610717, 44.933631272640966], [34.14032468432058, 44.933631272640966], [34.14239268789375, 44.934877594846576], [34.14368519012697, 44.935411732934696], [34.14471919191355, 44.93523368690533], [34.1449776923602, 44.93558977896407]]]}'}]},\n",
       " {'type': 'FeatureCollection',\n",
       "  'features': [{'type': 'Feature',\n",
       "    'properties': {'measurement_date': '12/03/2021',\n",
       "     'bbox': (34.138773681640714,\n",
       "      44.9055,\n",
       "      34.172120239257936,\n",
       "      44.9373702392578),\n",
       "     'crs': 4326,\n",
       "     'water_level': 0.21063765488062858,\n",
       "     'cloud_coverage': 0.0,\n",
       "     'measurement_type': 'observed'},\n",
       "    'geometry': '{\"type\": \"Polygon\", \"coordinates\": [[[34.1449776923602, 44.93558977896407], [34.14549469325349, 44.93558977896407], [34.14575319370013, 44.934877594846576], [34.14704569593336, 44.934343456758455], [34.14756269682665, 44.933097134552845], [34.148338198166584, 44.93345322661159], [34.14859669861323, 44.93291908852347], [34.14937219995316, 44.93291908852347], [34.14911369950652, 44.93220690440598], [34.15092320263304, 44.93113862822974], [34.15144020352633, 44.930248398082874], [34.153508207099485, 44.92971425999475], [34.153508207099485, 44.92918012190663], [34.152991206206195, 44.929002075877264], [34.15324970665284, 44.92793379970102], [34.154025207992774, 44.92757770764228], [34.154025207992774, 44.92686552352478], [34.15661021245923, 44.92455092514293], [34.15635171201258, 44.92170218867296], [34.155317710226, 44.92099000455547], [34.15324970665284, 44.921168050584846], [34.152991206206195, 44.9227704648492], [34.14988920084645, 44.925441155289796], [34.14963070039981, 44.927221615583534], [34.147821197273295, 44.92864598381852], [34.147304196380006, 44.928467937789144], [34.146787195486716, 44.92882402984789], [34.14704569593336, 44.92989230602413], [34.146787195486716, 44.930248398082874], [34.14161718655381, 44.932562996464725], [34.14135868610717, 44.93345322661159], [34.14032468432058, 44.93345322661159], [34.14032468432058, 44.93380931867034], [34.1421341874471, 44.93469954881721], [34.14368519012697, 44.935411732934696], [34.14471919191355, 44.93505564087595], [34.1449776923602, 44.93558977896407]]]}'}]},\n",
       " {'type': 'FeatureCollection',\n",
       "  'features': [{'type': 'Feature',\n",
       "    'properties': {'measurement_date': '06/04/2021',\n",
       "     'bbox': (34.138773681640714,\n",
       "      44.9055,\n",
       "      34.172120239257936,\n",
       "      44.9373702392578),\n",
       "     'crs': 4326,\n",
       "     'water_level': 0.2686612269567845,\n",
       "     'cloud_coverage': 0.0,\n",
       "     'measurement_type': 'observed'},\n",
       "    'geometry': '{\"type\": \"Polygon\", \"coordinates\": [[[34.14575319370013, 44.93594587102282], [34.14627019459342, 44.93576782499344], [34.14601169414678, 44.93505564087595], [34.147304196380006, 44.93452150278783], [34.14756269682665, 44.933631272640966], [34.148338198166584, 44.93380931867034], [34.14963070039981, 44.93327518058222], [34.14937219995316, 44.93220690440598], [34.15092320263304, 44.93149472028849], [34.15118170307968, 44.93060449014162], [34.154025207992774, 44.92989230602413], [34.153508207099485, 44.92918012190663], [34.153508207099485, 44.92828989175977], [34.15428370843942, 44.927755753671654], [34.15428370843942, 44.92686552352478], [34.15635171201258, 44.925441155289796], [34.15712721335252, 44.92419483308419], [34.156868712905876, 44.92294851087858], [34.157902714692455, 44.92259241881983], [34.157902714692455, 44.92205828073171], [34.158419715585744, 44.921880234702336], [34.158419715585744, 44.92045586646735], [34.157902714692455, 44.919565636320485], [34.15635171201258, 44.919031498232364], [34.152991206206195, 44.920633912496726], [34.152732705759554, 44.92259241881983], [34.152991206206195, 44.9227704648492], [34.15118170307968, 44.92401678705481], [34.15040620173974, 44.92526310926043], [34.14963070039981, 44.92526310926043], [34.14937219995316, 44.92650943146604], [34.14963070039981, 44.927221615583534], [34.148079697719936, 44.928467937789144], [34.146787195486716, 44.92828989175977], [34.14704569593336, 44.92864598381852], [34.146787195486716, 44.92864598381852], [34.146787195486716, 44.92989230602413], [34.14601169414678, 44.930782536170994], [34.1449776923602, 44.93096058220037], [34.143943690573614, 44.931850812347236], [34.14161718655381, 44.932384950435356], [34.14135868610717, 44.93327518058222], [34.14032468432058, 44.93345322661159], [34.14058318476723, 44.934165410729086], [34.142909688787036, 44.93523368690533], [34.143943690573614, 44.93558977896407], [34.1449776923602, 44.935411732934696], [34.14575319370013, 44.93594587102282]]]}'}]},\n",
       " {'type': 'FeatureCollection',\n",
       "  'features': [{'type': 'Feature',\n",
       "    'properties': {'measurement_date': '26/04/2021',\n",
       "     'bbox': (34.138773681640714,\n",
       "      44.9055,\n",
       "      34.172120239257936,\n",
       "      44.9373702392578),\n",
       "     'crs': 4326,\n",
       "     'water_level': 0.3272892112420671,\n",
       "     'cloud_coverage': 0.0,\n",
       "     'measurement_type': 'observed'},\n",
       "    'geometry': '{\"type\": \"Polygon\", \"coordinates\": [[[34.14549469325349, 44.93594587102282], [34.14627019459342, 44.93576782499344], [34.14601169414678, 44.93505564087595], [34.147304196380006, 44.93469954881721], [34.14756269682665, 44.93380931867034], [34.148338198166584, 44.93398736469971], [34.148855199059874, 44.93345322661159], [34.14937219995316, 44.933631272640966], [34.14988920084645, 44.93327518058222], [34.14937219995316, 44.932384950435356], [34.14988920084645, 44.931850812347236], [34.15092320263304, 44.93167276631786], [34.15092320263304, 44.93113862822974], [34.15169870397297, 44.93042644411225], [34.15428370843942, 44.930070352053505], [34.15376670754613, 44.92828989175977], [34.15428370843942, 44.9281118457304], [34.15428370843942, 44.92686552352478], [34.15557621067265, 44.92650943146604], [34.15635171201258, 44.92579724734855], [34.157385713799165, 44.92437287911356], [34.15712721335252, 44.923126556907945], [34.15893671647903, 44.922414372790456], [34.15867821603239, 44.921880234702336], [34.15893671647903, 44.921346096614215], [34.15997071826561, 44.920811958526095], [34.15997071826561, 44.91992172837923], [34.158161215139096, 44.91920954426174], [34.157902714692455, 44.918497360144244], [34.158419715585744, 44.918319314114875], [34.15867821603239, 44.91760712999738], [34.157385713799165, 44.91636080779177], [34.155317710226, 44.91689494587989], [34.15454220888607, 44.91760712999738], [34.15454220888607, 44.91867540617362], [34.155317710226, 44.919031498232364], [34.155317710226, 44.919565636320485], [34.152991206206195, 44.92045586646735], [34.152991206206195, 44.921168050584846], [34.152474205312906, 44.921346096614215], [34.152732705759554, 44.92294851087858], [34.15092320263304, 44.92419483308419], [34.15066470218639, 44.92490701720168], [34.14937219995316, 44.92526310926043], [34.14937219995316, 44.9273996616129], [34.148079697719936, 44.928467937789144], [34.146787195486716, 44.92828989175977], [34.14652869504007, 44.92935816793601], [34.146787195486716, 44.92971425999475], [34.14601169414678, 44.930070352053505], [34.14601169414678, 44.93060449014162], [34.14549469325349, 44.93096058220037], [34.14471919191355, 44.93096058220037], [34.14368519012697, 44.931850812347236], [34.14135868610717, 44.932384950435356], [34.14084168521388, 44.9327410424941], [34.14110018566052, 44.933097134552845], [34.14006618387394, 44.93327518058222], [34.14032468432058, 44.934343456758455], [34.14084168521388, 44.934165410729086], [34.143943690573614, 44.93576782499344], [34.14471919191355, 44.935411732934696], [34.14549469325349, 44.93594587102282]]]}'}]}]"
      ]
     },
     "metadata": {},
     "execution_count": 123
    }
   ],
   "source": [
    "output"
   ]
  },
  {
   "cell_type": "code",
   "execution_count": null,
   "metadata": {},
   "outputs": [],
   "source": []
  }
 ],
 "metadata": {
  "kernelspec": {
   "name": "python385jvsc74a57bd0fef6762e37a5fc74a111351b7fe0296b074499d10b9b8d3255434cd71b7cc659",
   "display_name": "Python 3.8.5 64-bit ('geo': conda)"
  },
  "language_info": {
   "codemirror_mode": {
    "name": "ipython",
    "version": 3
   },
   "file_extension": ".py",
   "mimetype": "text/x-python",
   "name": "python",
   "nbconvert_exporter": "python",
   "pygments_lexer": "ipython3",
   "version": "3.8.5"
  }
 },
 "nbformat": 4,
 "nbformat_minor": 2
}