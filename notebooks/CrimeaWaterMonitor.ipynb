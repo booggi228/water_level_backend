{
 "cells": [
  {
   "cell_type": "code",
   "execution_count": 1,
   "metadata": {},
   "outputs": [],
   "source": [
    "import sys, json, io\n",
    "with open('../data/Феодосийское.geojson') as f:\n",
    "    input_json = json.load(f)"
   ]
  },
  {
   "cell_type": "code",
   "execution_count": 2,
   "metadata": {},
   "outputs": [],
   "source": [
    "from eolearn.core import EOTask, EOPatch, LinearWorkflow, Dependency, FeatureType\n",
    "\n",
    "# We'll use Sentinel-2 imagery (Level-1C) provided through Sentinel Hub\n",
    "# If you don't know what `Level 1C` means, don't worry. It doesn't matter.\n",
    "\n",
    "from eolearn.io import SentinelHubInputTask\n",
    "from eolearn.core import LoadFromDisk, SaveToDisk\n",
    "\n",
    "from eolearn.mask import AddValidDataMaskTask\n",
    "\n",
    "# filtering of scenes\n",
    "from eolearn.features import SimpleFilterTask, NormalizedDifferenceIndexTask\n",
    "\n",
    "# burning the vectorised polygon to raster\n",
    "from eolearn.geometry import VectorToRaster"
   ]
  },
  {
   "cell_type": "code",
   "execution_count": 3,
   "metadata": {},
   "outputs": [
    {
     "output_type": "stream",
     "name": "stderr",
     "text": [
      "/home/vlas/.local/lib/python3.8/site-packages/ipykernel/ipkernel.py:283: DeprecationWarning: `should_run_async` will not call `transform_cell` automatically in the future. Please pass the result to `transformed_cell` argument and any exception that happen during thetransform in `preprocessing_exc_tuple` in IPython 7.17 and above.\n",
      "  and should_run_async(code)\n",
      "/home/vlas/.local/lib/python3.8/site-packages/ipykernel/pylab/config.py:70: DeprecationWarning: InlineBackend._figure_formats_changed is deprecated in traitlets 4.1: use @observe and @unobserve instead.\n",
      "  def _figure_formats_changed(self, name, old, new):\n"
     ]
    }
   ],
   "source": [
    "# The golden standard: numpy and matplotlib\n",
    "import numpy as np\n",
    "\n",
    "# import matplotlib\n",
    "import matplotlib.pyplot as plt\n",
    "from mpl_toolkits.axes_grid1 import make_axes_locatable\n",
    "\n",
    "# For manipulating geo-spatial vector dataset (polygons of nominal water extent)\n",
    "import geopandas as gpd\n",
    "\n",
    "# Image manipulations\n",
    "# Our water detector is going to be based on a simple threshold \n",
    "# of Normalised Difference Water Index (NDWI) grayscale image\n",
    "from skimage.filters import threshold_otsu\n",
    "\n",
    "# Loading polygon of nominal water extent\n",
    "import shapely.wkt\n",
    "from shapely.geometry import Polygon\n",
    "\n",
    "# sentinelhub-py package\n",
    "from sentinelhub import BBox, CRS, DataCollection, SHConfig"
   ]
  },
  {
   "cell_type": "code",
   "execution_count": 5,
   "metadata": {},
   "outputs": [],
   "source": [
    "CLIENT_ID = '705de065-d047-4187-b8d2-01386b232165'\n",
    "CLIENT_SECRET = 'U3n%1|B*pa@GvjA}UvxgyO@!RT-o}C}r1T?#7SwN'\n",
    "    \n",
    "config = SHConfig()\n",
    "config.instance_id = '274430c0-0c82-493a-95c6-694e4640cf14'\n",
    "    \n",
    "if CLIENT_ID and CLIENT_SECRET:\n",
    "    config.sh_client_id = CLIENT_ID\n",
    "    config.sh_client_secret = CLIENT_SECRET\n",
    "if config.sh_client_id == '' or config.sh_client_secret == '' or config.instance_id == '':\n",
    "    print(\"Warning! To use Sentinel Hub services, please provide the credentials (client ID and client secret).\")\n",
    "# config.save()"
   ]
  },
  {
   "cell_type": "code",
   "execution_count": 7,
   "metadata": {},
   "outputs": [
    {
     "output_type": "execute_result",
     "data": {
      "text/plain": [
       "<shapely.geometry.polygon.Polygon at 0x7f6ed8e38100>"
      ],
      "image/svg+xml": "<svg xmlns=\"http://www.w3.org/2000/svg\" xmlns:xlink=\"http://www.w3.org/1999/xlink\" width=\"100.0\" height=\"100.0\" viewBox=\"35.30615501403808 45.136265134309994 0.026604080200200997 0.021039442624861238\" preserveAspectRatio=\"xMinYMin meet\"><g transform=\"matrix(1,0,0,-1,0,90.29356971124486)\"><path fill-rule=\"evenodd\" fill=\"#66cc99\" stroke=\"#555555\" stroke-width=\"0.00053208160400402\" opacity=\"0.6\" d=\"M 35.30911445617676,45.155017924242884 L 35.3085994720459,45.15465476087732 L 35.30808448791504,45.153898163099186 L 35.30735492706299,45.15292970328562 L 35.3071403503418,45.15256652661254 L 35.30752658843994,45.15180990111042 L 35.307698249816895,45.1513559209876 L 35.30812740325928,45.150992734285694 L 35.30851364135742,45.150538747653734 L 35.308685302734375,45.15011502353467 L 35.30937194824219,45.149782095231245 L 35.30945777893066,45.149267565846266 L 35.30962944030761,45.14884383227693 L 35.3095006942749,45.14835956148331 L 35.30885696411133,45.148147691717305 L 35.308170318603516,45.147875286575264 L 35.30834197998047,45.14769368242401 L 35.30928611755371,45.14793582116377 L 35.30954360961914,45.147845019256906 L 35.31035900115967,45.14808715735381 L 35.310959815979004,45.14793582116377 L 35.31160354614257,45.14766341500922 L 35.311946868896484,45.14733047238572 L 35.31237602233887,45.14693699223259 L 35.3126335144043,45.146482973296166 L 35.3126335144043,45.14618029199622 L 35.3129768371582,45.146119755543374 L 35.31357765197753,45.146059219026235 L 35.31387805938721,45.14575653547625 L 35.31413555145264,45.145393313094765 L 35.31435012817383,45.14515116355469 L 35.31435012817383,45.14478793731594 L 35.31422138214111,45.14445497789733 L 35.31460762023926,45.14457605427456 L 35.31486511230469,45.14448524701576 L 35.31538009643554,45.144394439612284 L 35.31580924987793,45.14421282437144 L 35.31606674194336,45.143849592153934 L 35.316152572631836,45.1435166272548 L 35.31632423400879,45.14321393020441 L 35.31598091125488,45.14300204131286 L 35.31585216522217,45.14266907146359 L 35.315895080566406,45.142457180547 L 35.31550884246826,45.14233609966964 L 35.315937995910645,45.14215447787143 L 35.31628131866455,45.14236636991307 L 35.31632423400879,45.142547991036245 L 35.31632423400879,45.14285069162247 L 35.31675338745117,45.14300204131286 L 35.31709671020508,45.14306258107654 L 35.3175687789917,45.14321393020441 L 35.31782627105713,45.143032311202745 L 35.31821250915527,45.14291123154685 L 35.318684577941895,45.14272961158084 L 35.31911373138428,45.14266907146359 L 35.31915664672851,45.142971771406934 L 35.319457054138184,45.142971771406934 L 35.31954288482666,45.14275988161534 L 35.319457054138184,45.142547991036245 L 35.31980037689209,45.142517720889224 L 35.32052993774414,45.14279015163379 L 35.32083034515381,45.14282042163616 L 35.32113075256347,45.14272961158084 L 35.32151699066162,45.142547991036245 L 35.32173156738281,45.14218474821132 L 35.32198905944824,45.14188204408931 L 35.32181739807129,45.141549067698755 L 35.32186031341553,45.14130690182965 L 35.322160720825195,45.141064734931916 L 35.322418212890625,45.141064734931916 L 35.32211780548095,45.140701482656695 L 35.32224655151367,45.14045931318746 L 35.32254695892334,45.14045931318746 L 35.322890281677246,45.14036849937133 L 35.32327651977538,45.14012632848777 L 35.32271862030029,45.13985388501425 L 35.32198905944824,45.13985388501425 L 35.321431159973145,45.13982361343684 L 35.320916175842285,45.139702526966445 L 35.320186614990234,45.13952089677874 L 35.31975746154785,45.1389457307005 L 35.31954288482666,45.13867328158577 L 35.32014369964599,45.13879437024191 L 35.32052993774414,45.138733825946 L 35.32057285308838,45.138915458640945 L 35.32087326049805,45.13912736272043 L 35.32113075256347,45.13909709075729 L 35.321431159973145,45.138976002744016 L 35.32198905944824,45.1389457307005 L 35.32233238220215,45.13882464236579 L 35.322675704956055,45.13876409810199 L 35.323190689086914,45.13876409810199 L 35.323920249938965,45.13906681877809 L 35.324177742004395,45.13888518656529 L 35.32473564147949,45.138188924389624 L 35.32477855682373,45.13797701682252 L 35.325422286987305,45.13797701682252 L 35.325679779052734,45.13794674424864 L 35.32602310180664,45.1379164716587 L 35.32645225524902,45.137734835781515 L 35.326881408691406,45.13758347210854 L 35.327138900756836,45.13746238088087 L 35.327224731445305,45.13725047061371 L 35.32748222351074,45.13725047061371 L 35.327653884887695,45.13743210803379 L 35.327224731445305,45.137734835781515 L 35.32679557800293,45.13788619905268 L 35.32632350921631,45.138128379450826 L 35.32576560974121,45.13840083116919 L 35.32546520233154,45.13864300938156 L 35.32559394836426,45.13882464236579 L 35.32580852508545,45.138915458640945 L 35.32610893249512,45.13909709075729 L 35.326409339904785,45.13903654678279 L 35.32670974731445,45.13888518656529 L 35.32705307006835,45.138915458640945 L 35.32735347747803,45.138915458640945 L 35.32761096954346,45.13900627477143 L 35.32795429229736,45.1389457307005 L 35.32795429229736,45.13909709075729 L 35.32786846160889,45.13930899416178 L 35.32748222351074,45.139187906598494 L 35.32683849334717,45.13924845041229 L 35.32632350921631,45.1394300814679 L 35.325937271118164,45.139581440238935 L 35.32636642456055,45.14024741405812 L 35.32726764678955,45.14036849937133 L 35.32610893249512,45.140762024863285 L 35.326194763183594,45.141034463997364 L 35.32628059387207,45.14127663102368 L 35.32649517059326,45.14145825561839 L 35.326409339904785,45.14163987963449 L 35.32658100128174,45.141821503072016 L 35.32658100128174,45.142003125930955 L 35.327138900756836,45.14282042163616 L 35.32735347747803,45.14306258107654 L 35.327439308166504,45.14354689687145 L 35.32735347747803,45.143819322698015 L 35.327396392822266,45.14418255510835 L 35.327138900756836,45.14457605427456 L 35.327224731445305,45.14478793731594 L 35.3270959854126,45.14490901298599 L 35.3270959854126,45.14521170103612 L 35.327224731445305,45.145393313094765 L 35.327181816101074,45.14554465603498 L 35.32731056213379,45.1458776090891 L 35.32701015472412,45.146271096554955 L 35.327138900756836,45.146452705238495 L 35.3270959854126,45.14678565298892 L 35.32662391662598,45.14717913418674 L 35.3265380859375,45.14796608843391 L 35.32636642456055,45.14826876025146 L 35.32632350921631,45.14857143046178 L 35.32649517059326,45.14890436583685 L 35.32649517059326,45.149267565846266 L 35.32628059387207,45.14953996433454 L 35.325894355773926,45.149842627794705 L 35.325636863708496,45.150175555744546 L 35.32529354095459,45.15044794989342 L 35.32546520233154,45.150690076932854 L 35.32572269439697,45.15087167153743 L 35.32632350921631,45.151022999932565 L 35.326666831970215,45.1509322029437 L 35.326881408691406,45.15075060853199 L 35.326881408691406,45.15044794989342 L 35.32701015472412,45.15020582182537 L 35.32726764678955,45.150175555744546 L 35.32778263092041,45.14993342651933 L 35.32795429229736,45.14957023075288 L 35.3279972076416,45.14929783240926 L 35.32829761505127,45.14929783240926 L 35.32859802246094,45.14932809895617 L 35.3291130065918,45.14929783240926 L 35.32975673675537,45.149267565846266 L 35.33005714416504,45.14908596613085 L 35.33010005950928,45.14887409906493 L 35.33052921295166,45.14878329865275 L 35.33104419708252,45.148601697394426 L 35.33177375793457,45.14817795887496 L 35.33173084259033,45.148631964310994 L 35.3314733505249,45.14896489933246 L 35.33121585845947,45.14908596613085 L 35.33070087432861,45.14914649943362 L 35.33074378967285,45.14947943144966 L 35.33048629760742,45.14996369272875 L 35.33027172088623,45.150175555744546 L 35.33005714416504,45.150569013541705 L 35.32979965209961,45.150992734285694 L 35.32958507537842,45.15138618644162 L 35.32924175262451,45.15171910537516 L 35.32885551452637,45.15187043152024 L 35.32846927642822,45.15202175726355 L 35.32773971557617,45.15202175726355 L 35.325164794921875,45.15435212297146 L 35.31980037689209,45.15631924063114 L 35.30911445617676,45.155017924242884 z\" /></g></svg>"
     },
     "metadata": {},
     "execution_count": 7
    }
   ],
   "source": [
    "from shapely.geometry import shape\n",
    "\n",
    "dam_nominal = shape(input_json[\"features\"][0][\"geometry\"])\n",
    "# print(dam_nominal)\n",
    "# inflate the BBOX \n",
    "inflate_bbox = 0 #0.1\n",
    "minx, miny, maxx, maxy = dam_nominal.bounds\n",
    "\n",
    "delx = maxx - minx\n",
    "dely = maxy - miny\n",
    "minx = minx - delx * inflate_bbox\n",
    "maxx = maxx + delx * inflate_bbox\n",
    "miny = miny - dely * inflate_bbox\n",
    "maxy = maxy + dely * inflate_bbox\n",
    "    \n",
    "dam_bbox = BBox([minx, miny, maxx, maxy], crs=CRS.WGS84)\n",
    "dam_nominal\n",
    "\n",
    "# for geom in dam_nominal.geoms:\n",
    "#     plt.plot(*geom.exterior.xy)\n"
   ]
  },
  {
   "cell_type": "code",
   "execution_count": 8,
   "metadata": {},
   "outputs": [],
   "source": [
    "download_task = SentinelHubInputTask(data_collection=DataCollection.SENTINEL2_L1C, \n",
    "                                     bands_feature=(FeatureType.DATA, 'BANDS'),\n",
    "                                     resolution=20, \n",
    "                                     maxcc=0.5, \n",
    "                                     bands=['B02', 'B03', 'B04', 'B08'], \n",
    "                                     additional_data=[(FeatureType.MASK, 'dataMask', 'IS_DATA'), (FeatureType.MASK, 'CLM')],\n",
    "                                     config=config\n",
    "                                    )\n",
    "\n",
    "calculate_ndwi = NormalizedDifferenceIndexTask((FeatureType.DATA, 'BANDS'), (FeatureType.DATA, 'NDWI'), (1, 3))"
   ]
  },
  {
   "cell_type": "code",
   "execution_count": 9,
   "metadata": {},
   "outputs": [],
   "source": [
    "dam_gdf = gpd.GeoDataFrame(crs=CRS.WGS84.pyproj_crs(), geometry=[dam_nominal])\n"
   ]
  },
  {
   "cell_type": "code",
   "execution_count": 10,
   "metadata": {},
   "outputs": [
    {
     "output_type": "display_data",
     "data": {
      "text/plain": "<Figure size 432x288 with 1 Axes>",
      "image/svg+xml": "<?xml version=\"1.0\" encoding=\"utf-8\" standalone=\"no\"?>\n<!DOCTYPE svg PUBLIC \"-//W3C//DTD SVG 1.1//EN\"\n  \"http://www.w3.org/Graphics/SVG/1.1/DTD/svg11.dtd\">\n<svg height=\"248.518125pt\" version=\"1.1\" viewBox=\"0 0 260.865128 248.518125\" width=\"260.865128pt\" xmlns=\"http://www.w3.org/2000/svg\" xmlns:xlink=\"http://www.w3.org/1999/xlink\">\n <metadata>\n  <rdf:RDF xmlns:cc=\"http://creativecommons.org/ns#\" xmlns:dc=\"http://purl.org/dc/elements/1.1/\" xmlns:rdf=\"http://www.w3.org/1999/02/22-rdf-syntax-ns#\">\n   <cc:Work>\n    <dc:type rdf:resource=\"http://purl.org/dc/dcmitype/StillImage\"/>\n    <dc:date>2021-05-20T17:09:03.627836</dc:date>\n    <dc:format>image/svg+xml</dc:format>\n    <dc:creator>\n     <cc:Agent>\n      <dc:title>Matplotlib v3.4.2, https://matplotlib.org/</dc:title>\n     </cc:Agent>\n    </dc:creator>\n   </cc:Work>\n  </rdf:RDF>\n </metadata>\n <defs>\n  <style type=\"text/css\">*{stroke-linecap:butt;stroke-linejoin:round;}</style>\n </defs>\n <g id=\"figure_1\">\n  <g id=\"patch_1\">\n   <path d=\"M 0 248.518125 \nL 260.865128 248.518125 \nL 260.865128 0 \nL 0 0 \nz\n\" style=\"fill:none;\"/>\n  </g>\n  <g id=\"axes_1\">\n   <g id=\"patch_2\">\n    <path d=\"M 55.553125 224.64 \nL 253.665128 224.64 \nL 253.665128 7.2 \nL 55.553125 7.2 \nz\n\" style=\"fill:#ffffff;\"/>\n   </g>\n   <g id=\"PatchCollection_1\">\n    <path clip-path=\"url(#pd5e78f9480)\" d=\"M 78.991463 30.573482 \nL 75.226268 34.338145 \nL 71.461073 42.18127 \nL 66.127047 52.220622 \nL 64.558216 55.985423 \nL 67.382112 63.828835 \nL 68.637177 68.534932 \nL 71.77484 72.299837 \nL 74.598736 77.006002 \nL 75.853801 81.398457 \nL 80.87406 84.849694 \nL 81.501593 90.183463 \nL 82.756658 94.576016 \nL 81.815359 99.596115 \nL 77.108866 101.792422 \nL 72.088606 104.616258 \nL 73.343671 106.498822 \nL 80.246528 103.988738 \nL 82.129125 104.930018 \nL 88.090684 102.41994 \nL 92.483411 103.988738 \nL 97.189905 106.812584 \nL 99.700035 110.263969 \nL 102.837697 114.342905 \nL 104.720295 119.049405 \nL 104.720295 122.187092 \nL 107.230424 122.814632 \nL 111.623152 123.442172 \nL 113.819515 126.579882 \nL 115.702113 130.345157 \nL 117.270944 132.855354 \nL 117.270944 136.620669 \nL 116.329645 140.072228 \nL 119.153541 138.817113 \nL 121.036139 139.758449 \nL 124.801334 140.699787 \nL 127.938996 142.582466 \nL 129.821594 146.347843 \nL 130.449126 149.799459 \nL 131.704191 152.93731 \nL 129.194061 155.133815 \nL 128.252762 158.585483 \nL 128.566529 160.782009 \nL 125.742632 162.037171 \nL 128.880295 163.919918 \nL 131.390425 161.72338 \nL 131.704191 159.84064 \nL 131.704191 156.702752 \nL 134.841853 155.133815 \nL 137.351983 154.506241 \nL 140.803412 152.93731 \nL 142.686009 154.820028 \nL 145.509905 156.075177 \nL 148.961334 157.957905 \nL 152.098996 158.585483 \nL 152.412763 155.447602 \nL 154.609126 155.447602 \nL 155.236659 157.644117 \nL 154.609126 159.84064 \nL 157.119256 160.154429 \nL 162.453282 157.330329 \nL 164.649646 157.01654 \nL 166.84601 157.957905 \nL 169.669906 159.84064 \nL 171.238737 163.606126 \nL 173.121334 166.74405 \nL 171.866269 170.195786 \nL 172.180036 172.706152 \nL 174.376399 175.216528 \nL 176.258997 175.216528 \nL 174.062633 178.982113 \nL 175.003932 181.492516 \nL 177.200296 181.492516 \nL 179.710425 182.43392 \nL 182.534322 184.944338 \nL 178.45536 187.76857 \nL 173.121334 187.76857 \nL 169.042373 188.082375 \nL 165.277178 189.337594 \nL 159.943152 191.220429 \nL 156.80549 197.182777 \nL 155.236659 200.007068 \nL 159.629386 198.751826 \nL 162.453282 199.379447 \nL 162.767049 197.496586 \nL 164.963412 195.299924 \nL 166.84601 195.613732 \nL 169.042373 196.868968 \nL 173.121334 197.182777 \nL 175.631464 198.438016 \nL 178.141594 199.065636 \nL 181.906789 199.065636 \nL 187.240815 195.927541 \nL 189.123413 197.810396 \nL 193.202374 205.028064 \nL 193.51614 207.224762 \nL 198.222633 207.224762 \nL 200.105231 207.538577 \nL 202.615361 207.852392 \nL 205.753023 209.735286 \nL 208.890686 211.304368 \nL 210.773283 212.559637 \nL 211.400815 214.756364 \nL 213.283413 214.756364 \nL 214.538478 212.873454 \nL 211.400815 209.735286 \nL 208.263153 208.166207 \nL 204.811724 205.655691 \nL 200.732763 202.831373 \nL 198.5364 200.320879 \nL 199.477698 198.438016 \nL 201.04653 197.496586 \nL 203.242893 195.613732 \nL 205.439257 196.241349 \nL 207.635621 197.810396 \nL 210.145751 197.496586 \nL 212.342114 197.496586 \nL 214.224712 196.555158 \nL 216.734842 197.182777 \nL 216.734842 195.613732 \nL 216.107309 193.417076 \nL 213.283413 194.672307 \nL 208.576919 194.044691 \nL 204.811724 192.161848 \nL 201.987828 190.592817 \nL 205.125491 183.689127 \nL 211.714582 182.43392 \nL 203.242893 178.354514 \nL 203.870426 175.530326 \nL 204.497958 173.019948 \nL 206.066789 171.137172 \nL 205.439257 169.254401 \nL 206.694322 167.371637 \nL 206.694322 165.488879 \nL 210.773283 157.01654 \nL 212.342114 154.506241 \nL 212.969647 149.485675 \nL 212.342114 146.661625 \nL 212.65588 142.896246 \nL 210.773283 138.817113 \nL 211.400815 136.620669 \nL 210.459517 135.365561 \nL 210.459517 132.227804 \nL 211.400815 130.345157 \nL 211.087049 128.77629 \nL 212.028348 125.324796 \nL 209.831984 121.245784 \nL 210.773283 119.363173 \nL 210.459517 115.911734 \nL 207.008088 111.832787 \nL 206.380556 103.674978 \nL 205.125491 100.537389 \nL 204.811724 97.399816 \nL 206.066789 93.948506 \nL 206.066789 90.183463 \nL 204.497958 87.359697 \nL 201.674062 84.222194 \nL 199.791465 80.770961 \nL 197.281335 77.94724 \nL 198.5364 75.437276 \nL 200.418997 73.554811 \nL 204.811724 71.986094 \nL 207.321854 72.927324 \nL 208.890686 74.809787 \nL 208.890686 77.94724 \nL 209.831984 80.457214 \nL 211.714582 80.770961 \nL 215.479777 83.280947 \nL 216.734842 87.045946 \nL 217.048608 89.869711 \nL 219.244971 89.869711 \nL 221.441335 89.555958 \nL 225.20653 89.869711 \nL 229.913024 90.183463 \nL 232.109387 92.065982 \nL 232.423153 94.262261 \nL 235.560816 95.203526 \nL 239.326011 97.08606 \nL 244.660037 101.478664 \nL 244.34627 96.772304 \nL 242.463673 93.320997 \nL 240.581076 92.065982 \nL 236.815881 91.438475 \nL 237.129647 87.987199 \nL 235.24705 82.967198 \nL 233.678218 80.770961 \nL 232.109387 76.692257 \nL 230.22679 72.299837 \nL 228.657959 68.221191 \nL 226.147829 64.770051 \nL 223.323933 63.201358 \nL 220.500036 61.632669 \nL 215.16601 61.632669 \nL 196.340036 37.475382 \nL 157.119256 17.083636 \nL 78.991463 30.573482 \n\" style=\"fill:#1f77b4;\"/>\n   </g>\n   <g id=\"matplotlib.axis_1\">\n    <g id=\"xtick_1\">\n     <g id=\"line2d_1\">\n      <defs>\n       <path d=\"M 0 0 \nL 0 3.5 \n\" id=\"m5f1043dc88\" style=\"stroke:#000000;stroke-width:0.8;\"/>\n      </defs>\n      <g>\n       <use style=\"stroke:#000000;stroke-width:0.8;\" x=\"85.465925\" xlink:href=\"#m5f1043dc88\" y=\"224.64\"/>\n      </g>\n     </g>\n     <g id=\"text_1\">\n      <!-- 35.310 -->\n      <g transform=\"translate(67.970612 239.238438)scale(0.1 -0.1)\">\n       <defs>\n        <path d=\"M 2597 2516 \nQ 3050 2419 3304 2112 \nQ 3559 1806 3559 1356 \nQ 3559 666 3084 287 \nQ 2609 -91 1734 -91 \nQ 1441 -91 1130 -33 \nQ 819 25 488 141 \nL 488 750 \nQ 750 597 1062 519 \nQ 1375 441 1716 441 \nQ 2309 441 2620 675 \nQ 2931 909 2931 1356 \nQ 2931 1769 2642 2001 \nQ 2353 2234 1838 2234 \nL 1294 2234 \nL 1294 2753 \nL 1863 2753 \nQ 2328 2753 2575 2939 \nQ 2822 3125 2822 3475 \nQ 2822 3834 2567 4026 \nQ 2313 4219 1838 4219 \nQ 1578 4219 1281 4162 \nQ 984 4106 628 3988 \nL 628 4550 \nQ 988 4650 1302 4700 \nQ 1616 4750 1894 4750 \nQ 2613 4750 3031 4423 \nQ 3450 4097 3450 3541 \nQ 3450 3153 3228 2886 \nQ 3006 2619 2597 2516 \nz\n\" id=\"DejaVuSans-33\" transform=\"scale(0.015625)\"/>\n        <path d=\"M 691 4666 \nL 3169 4666 \nL 3169 4134 \nL 1269 4134 \nL 1269 2991 \nQ 1406 3038 1543 3061 \nQ 1681 3084 1819 3084 \nQ 2600 3084 3056 2656 \nQ 3513 2228 3513 1497 \nQ 3513 744 3044 326 \nQ 2575 -91 1722 -91 \nQ 1428 -91 1123 -41 \nQ 819 9 494 109 \nL 494 744 \nQ 775 591 1075 516 \nQ 1375 441 1709 441 \nQ 2250 441 2565 725 \nQ 2881 1009 2881 1497 \nQ 2881 1984 2565 2268 \nQ 2250 2553 1709 2553 \nQ 1456 2553 1204 2497 \nQ 953 2441 691 2322 \nL 691 4666 \nz\n\" id=\"DejaVuSans-35\" transform=\"scale(0.015625)\"/>\n        <path d=\"M 684 794 \nL 1344 794 \nL 1344 0 \nL 684 0 \nL 684 794 \nz\n\" id=\"DejaVuSans-2e\" transform=\"scale(0.015625)\"/>\n        <path d=\"M 794 531 \nL 1825 531 \nL 1825 4091 \nL 703 3866 \nL 703 4441 \nL 1819 4666 \nL 2450 4666 \nL 2450 531 \nL 3481 531 \nL 3481 0 \nL 794 0 \nL 794 531 \nz\n\" id=\"DejaVuSans-31\" transform=\"scale(0.015625)\"/>\n        <path d=\"M 2034 4250 \nQ 1547 4250 1301 3770 \nQ 1056 3291 1056 2328 \nQ 1056 1369 1301 889 \nQ 1547 409 2034 409 \nQ 2525 409 2770 889 \nQ 3016 1369 3016 2328 \nQ 3016 3291 2770 3770 \nQ 2525 4250 2034 4250 \nz\nM 2034 4750 \nQ 2819 4750 3233 4129 \nQ 3647 3509 3647 2328 \nQ 3647 1150 3233 529 \nQ 2819 -91 2034 -91 \nQ 1250 -91 836 529 \nQ 422 1150 422 2328 \nQ 422 3509 836 4129 \nQ 1250 4750 2034 4750 \nz\n\" id=\"DejaVuSans-30\" transform=\"scale(0.015625)\"/>\n       </defs>\n       <use xlink:href=\"#DejaVuSans-33\"/>\n       <use x=\"63.623047\" xlink:href=\"#DejaVuSans-35\"/>\n       <use x=\"127.246094\" xlink:href=\"#DejaVuSans-2e\"/>\n       <use x=\"159.033203\" xlink:href=\"#DejaVuSans-33\"/>\n       <use x=\"222.65625\" xlink:href=\"#DejaVuSans-31\"/>\n       <use x=\"286.279297\" xlink:href=\"#DejaVuSans-30\"/>\n      </g>\n     </g>\n    </g>\n    <g id=\"xtick_2\">\n     <g id=\"line2d_2\">\n      <g>\n       <use style=\"stroke:#000000;stroke-width:0.8;\" x=\"122.022341\" xlink:href=\"#m5f1043dc88\" y=\"224.64\"/>\n      </g>\n     </g>\n     <g id=\"text_2\">\n      <!-- 35.315 -->\n      <g transform=\"translate(104.527029 239.238438)scale(0.1 -0.1)\">\n       <use xlink:href=\"#DejaVuSans-33\"/>\n       <use x=\"63.623047\" xlink:href=\"#DejaVuSans-35\"/>\n       <use x=\"127.246094\" xlink:href=\"#DejaVuSans-2e\"/>\n       <use x=\"159.033203\" xlink:href=\"#DejaVuSans-33\"/>\n       <use x=\"222.65625\" xlink:href=\"#DejaVuSans-31\"/>\n       <use x=\"286.279297\" xlink:href=\"#DejaVuSans-35\"/>\n      </g>\n     </g>\n    </g>\n    <g id=\"xtick_3\">\n     <g id=\"line2d_3\">\n      <g>\n       <use style=\"stroke:#000000;stroke-width:0.8;\" x=\"158.578757\" xlink:href=\"#m5f1043dc88\" y=\"224.64\"/>\n      </g>\n     </g>\n     <g id=\"text_3\">\n      <!-- 35.320 -->\n      <g transform=\"translate(141.083445 239.238438)scale(0.1 -0.1)\">\n       <defs>\n        <path d=\"M 1228 531 \nL 3431 531 \nL 3431 0 \nL 469 0 \nL 469 531 \nQ 828 903 1448 1529 \nQ 2069 2156 2228 2338 \nQ 2531 2678 2651 2914 \nQ 2772 3150 2772 3378 \nQ 2772 3750 2511 3984 \nQ 2250 4219 1831 4219 \nQ 1534 4219 1204 4116 \nQ 875 4013 500 3803 \nL 500 4441 \nQ 881 4594 1212 4672 \nQ 1544 4750 1819 4750 \nQ 2544 4750 2975 4387 \nQ 3406 4025 3406 3419 \nQ 3406 3131 3298 2873 \nQ 3191 2616 2906 2266 \nQ 2828 2175 2409 1742 \nQ 1991 1309 1228 531 \nz\n\" id=\"DejaVuSans-32\" transform=\"scale(0.015625)\"/>\n       </defs>\n       <use xlink:href=\"#DejaVuSans-33\"/>\n       <use x=\"63.623047\" xlink:href=\"#DejaVuSans-35\"/>\n       <use x=\"127.246094\" xlink:href=\"#DejaVuSans-2e\"/>\n       <use x=\"159.033203\" xlink:href=\"#DejaVuSans-33\"/>\n       <use x=\"222.65625\" xlink:href=\"#DejaVuSans-32\"/>\n       <use x=\"286.279297\" xlink:href=\"#DejaVuSans-30\"/>\n      </g>\n     </g>\n    </g>\n    <g id=\"xtick_4\">\n     <g id=\"line2d_4\">\n      <g>\n       <use style=\"stroke:#000000;stroke-width:0.8;\" x=\"195.135174\" xlink:href=\"#m5f1043dc88\" y=\"224.64\"/>\n      </g>\n     </g>\n     <g id=\"text_4\">\n      <!-- 35.325 -->\n      <g transform=\"translate(177.639861 239.238438)scale(0.1 -0.1)\">\n       <use xlink:href=\"#DejaVuSans-33\"/>\n       <use x=\"63.623047\" xlink:href=\"#DejaVuSans-35\"/>\n       <use x=\"127.246094\" xlink:href=\"#DejaVuSans-2e\"/>\n       <use x=\"159.033203\" xlink:href=\"#DejaVuSans-33\"/>\n       <use x=\"222.65625\" xlink:href=\"#DejaVuSans-32\"/>\n       <use x=\"286.279297\" xlink:href=\"#DejaVuSans-35\"/>\n      </g>\n     </g>\n    </g>\n    <g id=\"xtick_5\">\n     <g id=\"line2d_5\">\n      <g>\n       <use style=\"stroke:#000000;stroke-width:0.8;\" x=\"231.69159\" xlink:href=\"#m5f1043dc88\" y=\"224.64\"/>\n      </g>\n     </g>\n     <g id=\"text_5\">\n      <!-- 35.330 -->\n      <g transform=\"translate(214.196278 239.238438)scale(0.1 -0.1)\">\n       <use xlink:href=\"#DejaVuSans-33\"/>\n       <use x=\"63.623047\" xlink:href=\"#DejaVuSans-35\"/>\n       <use x=\"127.246094\" xlink:href=\"#DejaVuSans-2e\"/>\n       <use x=\"159.033203\" xlink:href=\"#DejaVuSans-33\"/>\n       <use x=\"222.65625\" xlink:href=\"#DejaVuSans-33\"/>\n       <use x=\"286.279297\" xlink:href=\"#DejaVuSans-30\"/>\n      </g>\n     </g>\n    </g>\n   </g>\n   <g id=\"matplotlib.axis_2\">\n    <g id=\"ytick_1\">\n     <g id=\"line2d_6\">\n      <defs>\n       <path d=\"M 0 0 \nL -3.5 0 \n\" id=\"m197d324f7a\" style=\"stroke:#000000;stroke-width:0.8;\"/>\n      </defs>\n      <g>\n       <use style=\"stroke:#000000;stroke-width:0.8;\" x=\"55.553125\" xlink:href=\"#m197d324f7a\" y=\"212.169665\"/>\n      </g>\n     </g>\n     <g id=\"text_6\">\n      <!-- 45.1375 -->\n      <g transform=\"translate(7.2 215.968884)scale(0.1 -0.1)\">\n       <defs>\n        <path d=\"M 2419 4116 \nL 825 1625 \nL 2419 1625 \nL 2419 4116 \nz\nM 2253 4666 \nL 3047 4666 \nL 3047 1625 \nL 3713 1625 \nL 3713 1100 \nL 3047 1100 \nL 3047 0 \nL 2419 0 \nL 2419 1100 \nL 313 1100 \nL 313 1709 \nL 2253 4666 \nz\n\" id=\"DejaVuSans-34\" transform=\"scale(0.015625)\"/>\n        <path d=\"M 525 4666 \nL 3525 4666 \nL 3525 4397 \nL 1831 0 \nL 1172 0 \nL 2766 4134 \nL 525 4134 \nL 525 4666 \nz\n\" id=\"DejaVuSans-37\" transform=\"scale(0.015625)\"/>\n       </defs>\n       <use xlink:href=\"#DejaVuSans-34\"/>\n       <use x=\"63.623047\" xlink:href=\"#DejaVuSans-35\"/>\n       <use x=\"127.246094\" xlink:href=\"#DejaVuSans-2e\"/>\n       <use x=\"159.033203\" xlink:href=\"#DejaVuSans-31\"/>\n       <use x=\"222.65625\" xlink:href=\"#DejaVuSans-33\"/>\n       <use x=\"286.279297\" xlink:href=\"#DejaVuSans-37\"/>\n       <use x=\"349.902344\" xlink:href=\"#DejaVuSans-35\"/>\n      </g>\n     </g>\n    </g>\n    <g id=\"ytick_2\">\n     <g id=\"line2d_7\">\n      <g>\n       <use style=\"stroke:#000000;stroke-width:0.8;\" x=\"55.553125\" xlink:href=\"#m197d324f7a\" y=\"186.253897\"/>\n      </g>\n     </g>\n     <g id=\"text_7\">\n      <!-- 45.1400 -->\n      <g transform=\"translate(7.2 190.053116)scale(0.1 -0.1)\">\n       <use xlink:href=\"#DejaVuSans-34\"/>\n       <use x=\"63.623047\" xlink:href=\"#DejaVuSans-35\"/>\n       <use x=\"127.246094\" xlink:href=\"#DejaVuSans-2e\"/>\n       <use x=\"159.033203\" xlink:href=\"#DejaVuSans-31\"/>\n       <use x=\"222.65625\" xlink:href=\"#DejaVuSans-34\"/>\n       <use x=\"286.279297\" xlink:href=\"#DejaVuSans-30\"/>\n       <use x=\"349.902344\" xlink:href=\"#DejaVuSans-30\"/>\n      </g>\n     </g>\n    </g>\n    <g id=\"ytick_3\">\n     <g id=\"line2d_8\">\n      <g>\n       <use style=\"stroke:#000000;stroke-width:0.8;\" x=\"55.553125\" xlink:href=\"#m197d324f7a\" y=\"160.33813\"/>\n      </g>\n     </g>\n     <g id=\"text_8\">\n      <!-- 45.1425 -->\n      <g transform=\"translate(7.2 164.137348)scale(0.1 -0.1)\">\n       <use xlink:href=\"#DejaVuSans-34\"/>\n       <use x=\"63.623047\" xlink:href=\"#DejaVuSans-35\"/>\n       <use x=\"127.246094\" xlink:href=\"#DejaVuSans-2e\"/>\n       <use x=\"159.033203\" xlink:href=\"#DejaVuSans-31\"/>\n       <use x=\"222.65625\" xlink:href=\"#DejaVuSans-34\"/>\n       <use x=\"286.279297\" xlink:href=\"#DejaVuSans-32\"/>\n       <use x=\"349.902344\" xlink:href=\"#DejaVuSans-35\"/>\n      </g>\n     </g>\n    </g>\n    <g id=\"ytick_4\">\n     <g id=\"line2d_9\">\n      <g>\n       <use style=\"stroke:#000000;stroke-width:0.8;\" x=\"55.553125\" xlink:href=\"#m197d324f7a\" y=\"134.422362\"/>\n      </g>\n     </g>\n     <g id=\"text_9\">\n      <!-- 45.1450 -->\n      <g transform=\"translate(7.2 138.22158)scale(0.1 -0.1)\">\n       <use xlink:href=\"#DejaVuSans-34\"/>\n       <use x=\"63.623047\" xlink:href=\"#DejaVuSans-35\"/>\n       <use x=\"127.246094\" xlink:href=\"#DejaVuSans-2e\"/>\n       <use x=\"159.033203\" xlink:href=\"#DejaVuSans-31\"/>\n       <use x=\"222.65625\" xlink:href=\"#DejaVuSans-34\"/>\n       <use x=\"286.279297\" xlink:href=\"#DejaVuSans-35\"/>\n       <use x=\"349.902344\" xlink:href=\"#DejaVuSans-30\"/>\n      </g>\n     </g>\n    </g>\n    <g id=\"ytick_5\">\n     <g id=\"line2d_10\">\n      <g>\n       <use style=\"stroke:#000000;stroke-width:0.8;\" x=\"55.553125\" xlink:href=\"#m197d324f7a\" y=\"108.506594\"/>\n      </g>\n     </g>\n     <g id=\"text_10\">\n      <!-- 45.1475 -->\n      <g transform=\"translate(7.2 112.305812)scale(0.1 -0.1)\">\n       <use xlink:href=\"#DejaVuSans-34\"/>\n       <use x=\"63.623047\" xlink:href=\"#DejaVuSans-35\"/>\n       <use x=\"127.246094\" xlink:href=\"#DejaVuSans-2e\"/>\n       <use x=\"159.033203\" xlink:href=\"#DejaVuSans-31\"/>\n       <use x=\"222.65625\" xlink:href=\"#DejaVuSans-34\"/>\n       <use x=\"286.279297\" xlink:href=\"#DejaVuSans-37\"/>\n       <use x=\"349.902344\" xlink:href=\"#DejaVuSans-35\"/>\n      </g>\n     </g>\n    </g>\n    <g id=\"ytick_6\">\n     <g id=\"line2d_11\">\n      <g>\n       <use style=\"stroke:#000000;stroke-width:0.8;\" x=\"55.553125\" xlink:href=\"#m197d324f7a\" y=\"82.590826\"/>\n      </g>\n     </g>\n     <g id=\"text_11\">\n      <!-- 45.1500 -->\n      <g transform=\"translate(7.2 86.390045)scale(0.1 -0.1)\">\n       <use xlink:href=\"#DejaVuSans-34\"/>\n       <use x=\"63.623047\" xlink:href=\"#DejaVuSans-35\"/>\n       <use x=\"127.246094\" xlink:href=\"#DejaVuSans-2e\"/>\n       <use x=\"159.033203\" xlink:href=\"#DejaVuSans-31\"/>\n       <use x=\"222.65625\" xlink:href=\"#DejaVuSans-35\"/>\n       <use x=\"286.279297\" xlink:href=\"#DejaVuSans-30\"/>\n       <use x=\"349.902344\" xlink:href=\"#DejaVuSans-30\"/>\n      </g>\n     </g>\n    </g>\n    <g id=\"ytick_7\">\n     <g id=\"line2d_12\">\n      <g>\n       <use style=\"stroke:#000000;stroke-width:0.8;\" x=\"55.553125\" xlink:href=\"#m197d324f7a\" y=\"56.675058\"/>\n      </g>\n     </g>\n     <g id=\"text_12\">\n      <!-- 45.1525 -->\n      <g transform=\"translate(7.2 60.474277)scale(0.1 -0.1)\">\n       <use xlink:href=\"#DejaVuSans-34\"/>\n       <use x=\"63.623047\" xlink:href=\"#DejaVuSans-35\"/>\n       <use x=\"127.246094\" xlink:href=\"#DejaVuSans-2e\"/>\n       <use x=\"159.033203\" xlink:href=\"#DejaVuSans-31\"/>\n       <use x=\"222.65625\" xlink:href=\"#DejaVuSans-35\"/>\n       <use x=\"286.279297\" xlink:href=\"#DejaVuSans-32\"/>\n       <use x=\"349.902344\" xlink:href=\"#DejaVuSans-35\"/>\n      </g>\n     </g>\n    </g>\n    <g id=\"ytick_8\">\n     <g id=\"line2d_13\">\n      <g>\n       <use style=\"stroke:#000000;stroke-width:0.8;\" x=\"55.553125\" xlink:href=\"#m197d324f7a\" y=\"30.75929\"/>\n      </g>\n     </g>\n     <g id=\"text_13\">\n      <!-- 45.1550 -->\n      <g transform=\"translate(7.2 34.558509)scale(0.1 -0.1)\">\n       <use xlink:href=\"#DejaVuSans-34\"/>\n       <use x=\"63.623047\" xlink:href=\"#DejaVuSans-35\"/>\n       <use x=\"127.246094\" xlink:href=\"#DejaVuSans-2e\"/>\n       <use x=\"159.033203\" xlink:href=\"#DejaVuSans-31\"/>\n       <use x=\"222.65625\" xlink:href=\"#DejaVuSans-35\"/>\n       <use x=\"286.279297\" xlink:href=\"#DejaVuSans-35\"/>\n       <use x=\"349.902344\" xlink:href=\"#DejaVuSans-30\"/>\n      </g>\n     </g>\n    </g>\n   </g>\n   <g id=\"patch_3\">\n    <path d=\"M 55.553125 224.64 \nL 55.553125 7.2 \n\" style=\"fill:none;stroke:#000000;stroke-linecap:square;stroke-linejoin:miter;stroke-width:0.8;\"/>\n   </g>\n   <g id=\"patch_4\">\n    <path d=\"M 253.665128 224.64 \nL 253.665128 7.2 \n\" style=\"fill:none;stroke:#000000;stroke-linecap:square;stroke-linejoin:miter;stroke-width:0.8;\"/>\n   </g>\n   <g id=\"patch_5\">\n    <path d=\"M 55.553125 224.64 \nL 253.665128 224.64 \n\" style=\"fill:none;stroke:#000000;stroke-linecap:square;stroke-linejoin:miter;stroke-width:0.8;\"/>\n   </g>\n   <g id=\"patch_6\">\n    <path d=\"M 55.553125 7.2 \nL 253.665128 7.2 \n\" style=\"fill:none;stroke:#000000;stroke-linecap:square;stroke-linejoin:miter;stroke-width:0.8;\"/>\n   </g>\n  </g>\n </g>\n <defs>\n  <clipPath id=\"pd5e78f9480\">\n   <rect height=\"217.44\" width=\"198.112003\" x=\"55.553125\" y=\"7.2\"/>\n  </clipPath>\n </defs>\n</svg>\n",
      "image/png": "[encoded data removed]"
     },
     "metadata": {
      "needs_background": "light"
     }
    }
   ],
   "source": [
    "dam_gdf.plot();"
   ]
  },
  {
   "cell_type": "code",
   "execution_count": 11,
   "metadata": {},
   "outputs": [],
   "source": [
    "add_nominal_water = VectorToRaster(dam_gdf, (FeatureType.MASK_TIMELESS, 'NOMINAL_WATER'), values=1, \n",
    "                                   raster_shape=(FeatureType.MASK, 'IS_DATA'), raster_dtype=np.uint8)"
   ]
  },
  {
   "cell_type": "code",
   "execution_count": 12,
   "metadata": {},
   "outputs": [
    {
     "output_type": "stream",
     "name": "stderr",
     "text": [
      "/home/vlas/.local/lib/python3.8/site-packages/ipykernel/ipkernel.py:283: DeprecationWarning: `should_run_async` will not call `transform_cell` automatically in the future. Please pass the result to `transformed_cell` argument and any exception that happen during thetransform in `preprocessing_exc_tuple` in IPython 7.17 and above.\n  and should_run_async(code)\n"
     ]
    }
   ],
   "source": [
    "\n",
    "\n",
    "def calculate_valid_data_mask(eopatch):\n",
    "    is_data_mask = eopatch.mask['IS_DATA'].astype(np.bool)\n",
    "    cloud_mask = ~eopatch.mask['CLM'].astype(np.bool)\n",
    "    return np.logical_and(is_data_mask, cloud_mask)\n",
    "\n",
    "add_valid_mask = AddValidDataMaskTask(predicate=calculate_valid_data_mask)"
   ]
  },
  {
   "cell_type": "code",
   "execution_count": 13,
   "metadata": {},
   "outputs": [],
   "source": [
    "def calculate_coverage(array):\n",
    "    return 1.0 - np.count_nonzero(array) / np.size(array)\n",
    "\n",
    "class AddValidDataCoverage(EOTask):\n",
    "    \n",
    "    def execute(self, eopatch):\n",
    "        \n",
    "        valid_data = eopatch.get_feature(FeatureType.MASK, 'VALID_DATA')\n",
    "        time, height, width, channels = valid_data.shape\n",
    "        \n",
    "        coverage = np.apply_along_axis(calculate_coverage, 1,\n",
    "                                       valid_data.reshape((time, height * width * channels)))\n",
    "        \n",
    "        eopatch.add_feature(FeatureType.SCALAR, 'COVERAGE', coverage[:, np.newaxis])\n",
    "        return eopatch\n",
    "    \n",
    "add_coverage = AddValidDataCoverage()"
   ]
  },
  {
   "cell_type": "code",
   "execution_count": 14,
   "metadata": {},
   "outputs": [],
   "source": [
    "cloud_coverage_threshold = 0.05 \n",
    "\n",
    "class ValidDataCoveragePredicate:\n",
    "    \n",
    "    def __init__(self, threshold):\n",
    "        self.threshold = threshold\n",
    "        \n",
    "    def __call__(self, array):\n",
    "        return calculate_coverage(array) < self.threshold\n",
    "    \n",
    "remove_cloudy_scenes = SimpleFilterTask((FeatureType.MASK, 'VALID_DATA'),\n",
    "                                        ValidDataCoveragePredicate(cloud_coverage_threshold))"
   ]
  },
  {
   "cell_type": "code",
   "execution_count": 15,
   "metadata": {},
   "outputs": [],
   "source": [
    "class WaterDetector(EOTask):\n",
    "    \n",
    "    @staticmethod\n",
    "    def detect_water(ndwi):\n",
    "        \"\"\"\n",
    "        Very simple water detector based on Otsu thresholding method of NDWI.\n",
    "        \"\"\"\n",
    "        otsu_thr = 1.0\n",
    "        if len(np.unique(ndwi)) > 1:\n",
    "            ndwi[np.isnan(ndwi)] = -1\n",
    "            otsu_thr = threshold_otsu(ndwi)\n",
    "\n",
    "        return ndwi > otsu_thr\n",
    "\n",
    "    def execute(self, eopatch):\n",
    "        water_masks = np.asarray([self.detect_water(ndwi[...,0]) for ndwi in eopatch.data['NDWI']])\n",
    "        \n",
    "        # we're only interested in the water within the dam borders\n",
    "        water_masks = water_masks[...,np.newaxis] * eopatch.mask_timeless['NOMINAL_WATER']\n",
    "        \n",
    "        water_levels = np.asarray([np.count_nonzero(mask)/np.count_nonzero(eopatch.mask_timeless['NOMINAL_WATER']) \n",
    "                                   for mask in water_masks])\n",
    "        \n",
    "        eopatch.add_feature(FeatureType.MASK, 'WATER_MASK', water_masks)\n",
    "        eopatch.add_feature(FeatureType.SCALAR, 'WATER_LEVEL', water_levels[...,np.newaxis])\n",
    "        \n",
    "        return eopatch\n",
    "    \n",
    "water_detection = WaterDetector()"
   ]
  },
  {
   "cell_type": "code",
   "execution_count": 16,
   "metadata": {},
   "outputs": [],
   "source": [
    "workflow = LinearWorkflow(download_task, calculate_ndwi, add_nominal_water, add_valid_mask,\n",
    "                          add_coverage, remove_cloudy_scenes, water_detection)"
   ]
  },
  {
   "cell_type": "code",
   "execution_count": 17,
   "metadata": {},
   "outputs": [],
   "source": [
    "time_interval = ['2021-01-06','2021-05-06']"
   ]
  },
  {
   "cell_type": "code",
   "execution_count": 18,
   "metadata": {
    "scrolled": true
   },
   "outputs": [
    {
     "output_type": "stream",
     "name": "stderr",
     "text": [
      "<ipython-input-12-1d363147cad0>:2: DeprecationWarning: `np.bool` is a deprecated alias for the builtin `bool`. To silence this warning, use `bool` by itself. Doing this will not modify any behavior and is safe. If you specifically wanted the numpy scalar type, use `np.bool_` here.\nDeprecated in NumPy 1.20; for more details and guidance: https://numpy.org/devdocs/release/1.20.0-notes.html#deprecations\n  is_data_mask = eopatch.mask['IS_DATA'].astype(np.bool)\n<ipython-input-12-1d363147cad0>:3: DeprecationWarning: `np.bool` is a deprecated alias for the builtin `bool`. To silence this warning, use `bool` by itself. Doing this will not modify any behavior and is safe. If you specifically wanted the numpy scalar type, use `np.bool_` here.\nDeprecated in NumPy 1.20; for more details and guidance: https://numpy.org/devdocs/release/1.20.0-notes.html#deprecations\n  cloud_mask = ~eopatch.mask['CLM'].astype(np.bool)\n"
     ]
    }
   ],
   "source": [
    "result = workflow.execute({\n",
    "    download_task: {\n",
    "        'bbox': dam_bbox,\n",
    "        'time_interval': time_interval\n",
    "    },\n",
    "})"
   ]
  },
  {
   "cell_type": "code",
   "execution_count": 19,
   "metadata": {},
   "outputs": [
    {
     "output_type": "stream",
     "name": "stderr",
     "text": [
      "/home/vlas/.local/lib/python3.8/site-packages/ipykernel/ipkernel.py:283: DeprecationWarning: `should_run_async` will not call `transform_cell` automatically in the future. Please pass the result to `transformed_cell` argument and any exception that happen during thetransform in `preprocessing_exc_tuple` in IPython 7.17 and above.\n  and should_run_async(code)\n"
     ]
    }
   ],
   "source": [
    "eopatch = list(result.values())[-1]"
   ]
  },
  {
   "cell_type": "code",
   "execution_count": 20,
   "metadata": {},
   "outputs": [],
   "source": [
    "from skimage.filters import sobel\n",
    "from skimage.morphology import disk\n",
    "from skimage.morphology import erosion, dilation, opening, closing, white_tophat"
   ]
  },
  {
   "cell_type": "code",
   "execution_count": 21,
   "metadata": {},
   "outputs": [],
   "source": [
    "import rasterio\n",
    "from rasterio import features\n",
    "import shapely\n",
    "from shapely.geometry import Point, Polygon\n",
    "\n",
    "def mask_to_polygons_layer(mask, eopatch, tolerance):\n",
    "    \n",
    "    all_polygons = []\n",
    "    bbox = eopatch.bbox\n",
    "    size_x = eopatch.meta_info['size_x']\n",
    "    size_y = eopatch.meta_info['size_y']\n",
    "    \n",
    "    vx = bbox.min_x\n",
    "    vy = bbox.max_y\n",
    "    cx = (bbox.max_x-bbox.min_x)/size_x\n",
    "    cy = (bbox.max_y-bbox.min_y)/size_y\n",
    "    \n",
    "    for shape, value in features.shapes(mask.astype(np.int16), mask=(mask == 1), transform=rasterio.Affine(cx, 0.0, vx,\n",
    "       0.0, -cy, vy)): \n",
    "        return shapely.geometry.shape(shape).simplify(tolerance, False)\n",
    "        all_polygons.append(shapely.geometry.shape(shape))\n",
    "    \n",
    "    all_polygons = shapely.geometry.MultiPolygon(all_polygons)\n",
    "    if not all_polygons.is_valid:\n",
    "        all_polygons = all_polygons.buffer(0)\n",
    "        # Sometimes buffer() converts a simple Multipolygon to just a Polygon,\n",
    "        # need to keep it a Multi throughout\n",
    "        if all_polygons.type == 'Polygon':\n",
    "            all_polygons = shapely.geometry.MultiPolygon([all_polygons])\n",
    "    return all_polygons\n",
    "\n",
    "\n",
    "def toGeoJson (shape):\n",
    "    return json.dumps(shapely.geometry.mapping(shape))\n"
   ]
  },
  {
   "cell_type": "code",
   "execution_count": 22,
   "metadata": {},
   "outputs": [],
   "source": [
    "\n",
    "def plot_rgb_w_water(eopatch, idx):\n",
    "    ratio = np.abs(eopatch.bbox.max_x - eopatch.bbox.min_x) / np.abs(eopatch.bbox.max_y - eopatch.bbox.min_y)\n",
    "    \n",
    "    tolerance = 0.00025\n",
    "    \n",
    "    observed = eopatch.mask['WATER_MASK'][idx,...,0]\n",
    "    observed = dilation(observed)\n",
    "    observed = np.ma.masked_where(observed == False, observed)\n",
    "    observedShape = mask_to_polygons_layer(observed, eopatch, tolerance)# вернуть\n",
    "    return toGeoJson(observedShape)"
   ]
  },
  {
   "cell_type": "code",
   "execution_count": 23,
   "metadata": {},
   "outputs": [],
   "source": [
    "# geometry\n",
    "fetch_data = plot_rgb_w_water(eopatch, 0)"
   ]
  },
  {
   "cell_type": "code",
   "execution_count": 24,
   "metadata": {},
   "outputs": [
    {
     "output_type": "execute_result",
     "data": {
      "text/plain": [
       "'{\"type\": \"Polygon\", \"coordinates\": [[[35.318670881555434, 45.15579441209855], [35.323387917051924, 45.15474475503337], [35.324960262217424, 45.15352015512399], [35.325746434800166, 45.15229555521462], [35.326532607382916, 45.15247049805882], [35.32705672243808, 45.15194566952623], [35.326532607382916, 45.15142084099364], [35.324960262217424, 45.15142084099364], [35.324960262217424, 45.151070955305244], [35.32391203210709, 45.15054612677265], [35.324174089634674, 45.14949646970747], [35.32548437727259, 45.14949646970747], [35.32548437727259, 45.148271869798094], [35.324960262217424, 45.1479219841097], [35.325222319745, 45.145822669979346], [35.324960262217424, 45.145822669979346], [35.324960262217424, 45.14494795575836], [35.32391203210709, 45.14407324153738], [35.322601744469175, 45.14407324153738], [35.32155351435885, 45.14494795575836], [35.31971911166577, 45.144773012914165], [35.319457054138184, 45.14547278429095], [35.31971911166577, 45.145822669979346], [35.318670881555434, 45.14652244135613], [35.318408824027856, 45.14722221273291], [35.31657442133477, 45.14669738420033], [35.31631236380719, 45.147747041265504], [35.31526413369686, 45.148271869798094], [35.31526413369686, 45.14862175548649], [35.31421590358653, 45.14844681264229], [35.3131676734762, 45.14897164117488], [35.312905615948615, 45.14844681264229], [35.3115953283107, 45.14844681264229], [35.31080915572795, 45.14949646970747], [35.31002298314521, 45.149846355395866], [35.30949886809004, 45.152120612370425], [35.308712695507296, 45.15282038374721], [35.308974753034875, 45.154394869344976], [35.30949886809004, 45.15474475503337], [35.318670881555434, 45.15579441209855]]]}'"
      ]
     },
     "metadata": {},
     "execution_count": 24
    }
   ],
   "source": [
    "plot_rgb_w_water(eopatch, 0)"
   ]
  },
  {
   "cell_type": "code",
   "execution_count": 25,
   "metadata": {},
   "outputs": [
    {
     "output_type": "execute_result",
     "data": {
      "text/plain": [
       "'{\"type\": \"Polygon\", \"coordinates\": [[[35.316836478862356, 45.15579441209855], [35.32050528424851, 45.15579441209855], [35.323387917051924, 45.15491969787757], [35.32469820468984, 45.15404498365658], [35.32548437727259, 45.15282038374721], [35.32627054985533, 45.15282038374721], [35.327580837493244, 45.15194566952623], [35.32705672243808, 45.15124589814944], [35.325222319745, 45.15142084099364], [35.324174089634674, 45.15054612677265], [35.32443614716225, 45.14967141255167], [35.325222319745, 45.149846355395866], [35.325746434800166, 45.14949646970747], [35.325746434800166, 45.148271869798094], [35.325222319745, 45.1480969269539], [35.325746434800166, 45.147047269888716], [35.32548437727259, 45.147047269888716], [35.325222319745, 45.14494795575836], [35.325746434800166, 45.14389829869318], [35.32548437727259, 45.14389829869318], [35.325222319745, 45.14179898456282], [35.32469820468984, 45.141449098874425], [35.324960262217424, 45.140224498965054], [35.32312585952434, 45.13882495621148], [35.322339686941596, 45.13917484189987], [35.32443614716225, 45.14039944180925], [35.324174089634674, 45.14109921318603], [35.32443614716225, 45.141449098874425], [35.32391203210709, 45.14162404171862], [35.32364997457951, 45.14337347016059], [35.32207762941401, 45.14389829869318], [35.322339686941596, 45.14442312722577], [35.321815571886425, 45.144773012914165], [35.31893293908302, 45.144248184381574], [35.318670881555434, 45.14512289860256], [35.319457054138184, 45.14547278429095], [35.319457054138184, 45.145822669979346], [35.318408824027856, 45.146347498511936], [35.31814676650027, 45.147047269888716], [35.31631236380719, 45.146347498511936], [35.31605030627961, 45.147747041265504], [35.31526413369686, 45.1479219841097], [35.31500207616928, 45.14844681264229], [35.31395384605894, 45.14844681264229], [35.313691788531365, 45.148796698330685], [35.312905615948615, 45.14844681264229], [35.31080915572795, 45.14862175548649], [35.310547098200374, 45.149321526863275], [35.31080915572795, 45.14949646970747], [35.309760925617624, 45.15002129824006], [35.30949886809004, 45.15194566952623], [35.30845063797971, 45.15299532659141], [35.308712695507296, 45.15421992650078], [35.30923681056246, 45.15474475503337], [35.316836478862356, 45.15579441209855]]]}'"
      ]
     },
     "metadata": {},
     "execution_count": 25
    }
   ],
   "source": [
    "plot_rgb_w_water(eopatch, -5)"
   ]
  },
  {
   "cell_type": "code",
   "execution_count": 26,
   "metadata": {},
   "outputs": [],
   "source": [
    "def plot_water_levels(eopatch, max_coverage=1.0):\n",
    "    fig, ax = plt.subplots(figsize=(20,7))\n",
    "\n",
    "    dates = np.asarray(eopatch.timestamp)\n",
    "    ax.plot(dates[eopatch.scalar['COVERAGE'][...,0]<max_coverage],\n",
    "            eopatch.scalar['WATER_LEVEL'][eopatch.scalar['COVERAGE'][...,0]<max_coverage],\n",
    "            'bo-',alpha=0.7, label='Water Level')\n",
    "    ax.plot(dates[eopatch.scalar['COVERAGE'][...,0]<max_coverage],\n",
    "            eopatch.scalar['COVERAGE'][eopatch.scalar['COVERAGE'][...,0]<max_coverage],\n",
    "            '--',color='gray',alpha=0.7, label='Cloud Coverage')\n",
    "    ax.set_ylim(0.0,1.1)\n",
    "    ax.set_xlabel('Date')\n",
    "    ax.set_ylabel('Water Level')\n",
    "    ax.set_title('Detected Water Level')\n",
    "    ax.grid(axis='y')\n",
    "    ax.legend(loc='best')\n",
    "    return ax"
   ]
  },
  {
   "cell_type": "code",
   "execution_count": 27,
   "metadata": {},
   "outputs": [
    {
     "output_type": "display_data",
     "data": {
      "text/plain": "<Figure size 1440x504 with 1 Axes>",
      "image/svg+xml": "<?xml version=\"1.0\" encoding=\"utf-8\" standalone=\"no\"?>\n<!DOCTYPE svg PUBLIC \"-//W3C//DTD SVG 1.1//EN\"\n  \"http://www.w3.org/Graphics/SVG/1.1/DTD/svg11.dtd\">\n<svg height=\"440.394375pt\" version=\"1.1\" viewBox=\"0 0 1166.98125 440.394375\" width=\"1166.98125pt\" xmlns=\"http://www.w3.org/2000/svg\" xmlns:xlink=\"http://www.w3.org/1999/xlink\">\n <metadata>\n  <rdf:RDF xmlns:cc=\"http://creativecommons.org/ns#\" xmlns:dc=\"http://purl.org/dc/elements/1.1/\" xmlns:rdf=\"http://www.w3.org/1999/02/22-rdf-syntax-ns#\">\n   <cc:Work>\n    <dc:type rdf:resource=\"http://purl.org/dc/dcmitype/StillImage\"/>\n    <dc:date>2021-05-20T17:10:05.715978</dc:date>\n    <dc:format>image/svg+xml</dc:format>\n    <dc:creator>\n     <cc:Agent>\n      <dc:title>Matplotlib v3.4.2, https://matplotlib.org/</dc:title>\n     </cc:Agent>\n    </dc:creator>\n   </cc:Work>\n  </rdf:RDF>\n </metadata>\n <defs>\n  <style type=\"text/css\">*{stroke-linecap:butt;stroke-linejoin:round;}</style>\n </defs>\n <g id=\"figure_1\">\n  <g id=\"patch_1\">\n   <path d=\"M 0 440.394375 \nL 1166.98125 440.394375 \nL 1166.98125 0 \nL 0 0 \nz\n\" style=\"fill:none;\"/>\n  </g>\n  <g id=\"axes_1\">\n   <g id=\"patch_2\">\n    <path d=\"M 43.78125 402.838125 \nL 1159.78125 402.838125 \nL 1159.78125 22.318125 \nL 43.78125 22.318125 \nz\n\" style=\"fill:#ffffff;\"/>\n   </g>\n   <g id=\"matplotlib.axis_1\">\n    <g id=\"xtick_1\">\n     <g id=\"line2d_1\">\n      <defs>\n       <path d=\"M 0 0 \nL 0 3.5 \n\" id=\"m70f3206483\" style=\"stroke:#000000;stroke-width:0.8;\"/>\n      </defs>\n      <g>\n       <use style=\"stroke:#000000;stroke-width:0.8;\" x=\"211.298813\" xlink:href=\"#m70f3206483\" y=\"402.838125\"/>\n      </g>\n     </g>\n     <g id=\"text_1\">\n      <!-- 2021-03-01 -->\n      <g transform=\"translate(182.241 417.436562)scale(0.1 -0.1)\">\n       <defs>\n        <path d=\"M 1228 531 \nL 3431 531 \nL 3431 0 \nL 469 0 \nL 469 531 \nQ 828 903 1448 1529 \nQ 2069 2156 2228 2338 \nQ 2531 2678 2651 2914 \nQ 2772 3150 2772 3378 \nQ 2772 3750 2511 3984 \nQ 2250 4219 1831 4219 \nQ 1534 4219 1204 4116 \nQ 875 4013 500 3803 \nL 500 4441 \nQ 881 4594 1212 4672 \nQ 1544 4750 1819 4750 \nQ 2544 4750 2975 4387 \nQ 3406 4025 3406 3419 \nQ 3406 3131 3298 2873 \nQ 3191 2616 2906 2266 \nQ 2828 2175 2409 1742 \nQ 1991 1309 1228 531 \nz\n\" id=\"DejaVuSans-32\" transform=\"scale(0.015625)\"/>\n        <path d=\"M 2034 4250 \nQ 1547 4250 1301 3770 \nQ 1056 3291 1056 2328 \nQ 1056 1369 1301 889 \nQ 1547 409 2034 409 \nQ 2525 409 2770 889 \nQ 3016 1369 3016 2328 \nQ 3016 3291 2770 3770 \nQ 2525 4250 2034 4250 \nz\nM 2034 4750 \nQ 2819 4750 3233 4129 \nQ 3647 3509 3647 2328 \nQ 3647 1150 3233 529 \nQ 2819 -91 2034 -91 \nQ 1250 -91 836 529 \nQ 422 1150 422 2328 \nQ 422 3509 836 4129 \nQ 1250 4750 2034 4750 \nz\n\" id=\"DejaVuSans-30\" transform=\"scale(0.015625)\"/>\n        <path d=\"M 794 531 \nL 1825 531 \nL 1825 4091 \nL 703 3866 \nL 703 4441 \nL 1819 4666 \nL 2450 4666 \nL 2450 531 \nL 3481 531 \nL 3481 0 \nL 794 0 \nL 794 531 \nz\n\" id=\"DejaVuSans-31\" transform=\"scale(0.015625)\"/>\n        <path d=\"M 313 2009 \nL 1997 2009 \nL 1997 1497 \nL 313 1497 \nL 313 2009 \nz\n\" id=\"DejaVuSans-2d\" transform=\"scale(0.015625)\"/>\n        <path d=\"M 2597 2516 \nQ 3050 2419 3304 2112 \nQ 3559 1806 3559 1356 \nQ 3559 666 3084 287 \nQ 2609 -91 1734 -91 \nQ 1441 -91 1130 -33 \nQ 819 25 488 141 \nL 488 750 \nQ 750 597 1062 519 \nQ 1375 441 1716 441 \nQ 2309 441 2620 675 \nQ 2931 909 2931 1356 \nQ 2931 1769 2642 2001 \nQ 2353 2234 1838 2234 \nL 1294 2234 \nL 1294 2753 \nL 1863 2753 \nQ 2328 2753 2575 2939 \nQ 2822 3125 2822 3475 \nQ 2822 3834 2567 4026 \nQ 2313 4219 1838 4219 \nQ 1578 4219 1281 4162 \nQ 984 4106 628 3988 \nL 628 4550 \nQ 988 4650 1302 4700 \nQ 1616 4750 1894 4750 \nQ 2613 4750 3031 4423 \nQ 3450 4097 3450 3541 \nQ 3450 3153 3228 2886 \nQ 3006 2619 2597 2516 \nz\n\" id=\"DejaVuSans-33\" transform=\"scale(0.015625)\"/>\n       </defs>\n       <use xlink:href=\"#DejaVuSans-32\"/>\n       <use x=\"63.623047\" xlink:href=\"#DejaVuSans-30\"/>\n       <use x=\"127.246094\" xlink:href=\"#DejaVuSans-32\"/>\n       <use x=\"190.869141\" xlink:href=\"#DejaVuSans-31\"/>\n       <use x=\"254.492188\" xlink:href=\"#DejaVuSans-2d\"/>\n       <use x=\"290.576172\" xlink:href=\"#DejaVuSans-30\"/>\n       <use x=\"354.199219\" xlink:href=\"#DejaVuSans-33\"/>\n       <use x=\"417.822266\" xlink:href=\"#DejaVuSans-2d\"/>\n       <use x=\"453.90625\" xlink:href=\"#DejaVuSans-30\"/>\n       <use x=\"517.529297\" xlink:href=\"#DejaVuSans-31\"/>\n      </g>\n     </g>\n    </g>\n    <g id=\"xtick_2\">\n     <g id=\"line2d_2\">\n      <g>\n       <use style=\"stroke:#000000;stroke-width:0.8;\" x=\"400.680602\" xlink:href=\"#m70f3206483\" y=\"402.838125\"/>\n      </g>\n     </g>\n     <g id=\"text_2\">\n      <!-- 2021-03-15 -->\n      <g transform=\"translate(371.622789 417.436562)scale(0.1 -0.1)\">\n       <defs>\n        <path d=\"M 691 4666 \nL 3169 4666 \nL 3169 4134 \nL 1269 4134 \nL 1269 2991 \nQ 1406 3038 1543 3061 \nQ 1681 3084 1819 3084 \nQ 2600 3084 3056 2656 \nQ 3513 2228 3513 1497 \nQ 3513 744 3044 326 \nQ 2575 -91 1722 -91 \nQ 1428 -91 1123 -41 \nQ 819 9 494 109 \nL 494 744 \nQ 775 591 1075 516 \nQ 1375 441 1709 441 \nQ 2250 441 2565 725 \nQ 2881 1009 2881 1497 \nQ 2881 1984 2565 2268 \nQ 2250 2553 1709 2553 \nQ 1456 2553 1204 2497 \nQ 953 2441 691 2322 \nL 691 4666 \nz\n\" id=\"DejaVuSans-35\" transform=\"scale(0.015625)\"/>\n       </defs>\n       <use xlink:href=\"#DejaVuSans-32\"/>\n       <use x=\"63.623047\" xlink:href=\"#DejaVuSans-30\"/>\n       <use x=\"127.246094\" xlink:href=\"#DejaVuSans-32\"/>\n       <use x=\"190.869141\" xlink:href=\"#DejaVuSans-31\"/>\n       <use x=\"254.492188\" xlink:href=\"#DejaVuSans-2d\"/>\n       <use x=\"290.576172\" xlink:href=\"#DejaVuSans-30\"/>\n       <use x=\"354.199219\" xlink:href=\"#DejaVuSans-33\"/>\n       <use x=\"417.822266\" xlink:href=\"#DejaVuSans-2d\"/>\n       <use x=\"453.90625\" xlink:href=\"#DejaVuSans-31\"/>\n       <use x=\"517.529297\" xlink:href=\"#DejaVuSans-35\"/>\n      </g>\n     </g>\n    </g>\n    <g id=\"xtick_3\">\n     <g id=\"line2d_3\">\n      <g>\n       <use style=\"stroke:#000000;stroke-width:0.8;\" x=\"630.644203\" xlink:href=\"#m70f3206483\" y=\"402.838125\"/>\n      </g>\n     </g>\n     <g id=\"text_3\">\n      <!-- 2021-04-01 -->\n      <g transform=\"translate(601.58639 417.436562)scale(0.1 -0.1)\">\n       <defs>\n        <path d=\"M 2419 4116 \nL 825 1625 \nL 2419 1625 \nL 2419 4116 \nz\nM 2253 4666 \nL 3047 4666 \nL 3047 1625 \nL 3713 1625 \nL 3713 1100 \nL 3047 1100 \nL 3047 0 \nL 2419 0 \nL 2419 1100 \nL 313 1100 \nL 313 1709 \nL 2253 4666 \nz\n\" id=\"DejaVuSans-34\" transform=\"scale(0.015625)\"/>\n       </defs>\n       <use xlink:href=\"#DejaVuSans-32\"/>\n       <use x=\"63.623047\" xlink:href=\"#DejaVuSans-30\"/>\n       <use x=\"127.246094\" xlink:href=\"#DejaVuSans-32\"/>\n       <use x=\"190.869141\" xlink:href=\"#DejaVuSans-31\"/>\n       <use x=\"254.492188\" xlink:href=\"#DejaVuSans-2d\"/>\n       <use x=\"290.576172\" xlink:href=\"#DejaVuSans-30\"/>\n       <use x=\"354.199219\" xlink:href=\"#DejaVuSans-34\"/>\n       <use x=\"417.822266\" xlink:href=\"#DejaVuSans-2d\"/>\n       <use x=\"453.90625\" xlink:href=\"#DejaVuSans-30\"/>\n       <use x=\"517.529297\" xlink:href=\"#DejaVuSans-31\"/>\n      </g>\n     </g>\n    </g>\n    <g id=\"xtick_4\">\n     <g id=\"line2d_4\">\n      <g>\n       <use style=\"stroke:#000000;stroke-width:0.8;\" x=\"820.025992\" xlink:href=\"#m70f3206483\" y=\"402.838125\"/>\n      </g>\n     </g>\n     <g id=\"text_4\">\n      <!-- 2021-04-15 -->\n      <g transform=\"translate(790.968179 417.436562)scale(0.1 -0.1)\">\n       <use xlink:href=\"#DejaVuSans-32\"/>\n       <use x=\"63.623047\" xlink:href=\"#DejaVuSans-30\"/>\n       <use x=\"127.246094\" xlink:href=\"#DejaVuSans-32\"/>\n       <use x=\"190.869141\" xlink:href=\"#DejaVuSans-31\"/>\n       <use x=\"254.492188\" xlink:href=\"#DejaVuSans-2d\"/>\n       <use x=\"290.576172\" xlink:href=\"#DejaVuSans-30\"/>\n       <use x=\"354.199219\" xlink:href=\"#DejaVuSans-34\"/>\n       <use x=\"417.822266\" xlink:href=\"#DejaVuSans-2d\"/>\n       <use x=\"453.90625\" xlink:href=\"#DejaVuSans-31\"/>\n       <use x=\"517.529297\" xlink:href=\"#DejaVuSans-35\"/>\n      </g>\n     </g>\n    </g>\n    <g id=\"xtick_5\">\n     <g id=\"line2d_5\">\n      <g>\n       <use style=\"stroke:#000000;stroke-width:0.8;\" x=\"1036.462322\" xlink:href=\"#m70f3206483\" y=\"402.838125\"/>\n      </g>\n     </g>\n     <g id=\"text_5\">\n      <!-- 2021-05-01 -->\n      <g transform=\"translate(1007.404509 417.436562)scale(0.1 -0.1)\">\n       <use xlink:href=\"#DejaVuSans-32\"/>\n       <use x=\"63.623047\" xlink:href=\"#DejaVuSans-30\"/>\n       <use x=\"127.246094\" xlink:href=\"#DejaVuSans-32\"/>\n       <use x=\"190.869141\" xlink:href=\"#DejaVuSans-31\"/>\n       <use x=\"254.492188\" xlink:href=\"#DejaVuSans-2d\"/>\n       <use x=\"290.576172\" xlink:href=\"#DejaVuSans-30\"/>\n       <use x=\"354.199219\" xlink:href=\"#DejaVuSans-35\"/>\n       <use x=\"417.822266\" xlink:href=\"#DejaVuSans-2d\"/>\n       <use x=\"453.90625\" xlink:href=\"#DejaVuSans-30\"/>\n       <use x=\"517.529297\" xlink:href=\"#DejaVuSans-31\"/>\n      </g>\n     </g>\n    </g>\n    <g id=\"text_6\">\n     <!-- Date -->\n     <g transform=\"translate(589.830469 431.114687)scale(0.1 -0.1)\">\n      <defs>\n       <path d=\"M 1259 4147 \nL 1259 519 \nL 2022 519 \nQ 2988 519 3436 956 \nQ 3884 1394 3884 2338 \nQ 3884 3275 3436 3711 \nQ 2988 4147 2022 4147 \nL 1259 4147 \nz\nM 628 4666 \nL 1925 4666 \nQ 3281 4666 3915 4102 \nQ 4550 3538 4550 2338 \nQ 4550 1131 3912 565 \nQ 3275 0 1925 0 \nL 628 0 \nL 628 4666 \nz\n\" id=\"DejaVuSans-44\" transform=\"scale(0.015625)\"/>\n       <path d=\"M 2194 1759 \nQ 1497 1759 1228 1600 \nQ 959 1441 959 1056 \nQ 959 750 1161 570 \nQ 1363 391 1709 391 \nQ 2188 391 2477 730 \nQ 2766 1069 2766 1631 \nL 2766 1759 \nL 2194 1759 \nz\nM 3341 1997 \nL 3341 0 \nL 2766 0 \nL 2766 531 \nQ 2569 213 2275 61 \nQ 1981 -91 1556 -91 \nQ 1019 -91 701 211 \nQ 384 513 384 1019 \nQ 384 1609 779 1909 \nQ 1175 2209 1959 2209 \nL 2766 2209 \nL 2766 2266 \nQ 2766 2663 2505 2880 \nQ 2244 3097 1772 3097 \nQ 1472 3097 1187 3025 \nQ 903 2953 641 2809 \nL 641 3341 \nQ 956 3463 1253 3523 \nQ 1550 3584 1831 3584 \nQ 2591 3584 2966 3190 \nQ 3341 2797 3341 1997 \nz\n\" id=\"DejaVuSans-61\" transform=\"scale(0.015625)\"/>\n       <path d=\"M 1172 4494 \nL 1172 3500 \nL 2356 3500 \nL 2356 3053 \nL 1172 3053 \nL 1172 1153 \nQ 1172 725 1289 603 \nQ 1406 481 1766 481 \nL 2356 481 \nL 2356 0 \nL 1766 0 \nQ 1100 0 847 248 \nQ 594 497 594 1153 \nL 594 3053 \nL 172 3053 \nL 172 3500 \nL 594 3500 \nL 594 4494 \nL 1172 4494 \nz\n\" id=\"DejaVuSans-74\" transform=\"scale(0.015625)\"/>\n       <path d=\"M 3597 1894 \nL 3597 1613 \nL 953 1613 \nQ 991 1019 1311 708 \nQ 1631 397 2203 397 \nQ 2534 397 2845 478 \nQ 3156 559 3463 722 \nL 3463 178 \nQ 3153 47 2828 -22 \nQ 2503 -91 2169 -91 \nQ 1331 -91 842 396 \nQ 353 884 353 1716 \nQ 353 2575 817 3079 \nQ 1281 3584 2069 3584 \nQ 2775 3584 3186 3129 \nQ 3597 2675 3597 1894 \nz\nM 3022 2063 \nQ 3016 2534 2758 2815 \nQ 2500 3097 2075 3097 \nQ 1594 3097 1305 2825 \nQ 1016 2553 972 2059 \nL 3022 2063 \nz\n\" id=\"DejaVuSans-65\" transform=\"scale(0.015625)\"/>\n      </defs>\n      <use xlink:href=\"#DejaVuSans-44\"/>\n      <use x=\"77.001953\" xlink:href=\"#DejaVuSans-61\"/>\n      <use x=\"138.28125\" xlink:href=\"#DejaVuSans-74\"/>\n      <use x=\"177.490234\" xlink:href=\"#DejaVuSans-65\"/>\n     </g>\n    </g>\n   </g>\n   <g id=\"matplotlib.axis_2\">\n    <g id=\"ytick_1\">\n     <g id=\"line2d_6\">\n      <path clip-path=\"url(#p4d598b4251)\" d=\"M 43.78125 402.838125 \nL 1159.78125 402.838125 \n\" style=\"fill:none;stroke:#b0b0b0;stroke-linecap:square;stroke-width:0.8;\"/>\n     </g>\n     <g id=\"line2d_7\">\n      <defs>\n       <path d=\"M 0 0 \nL -3.5 0 \n\" id=\"mf7be5c3775\" style=\"stroke:#000000;stroke-width:0.8;\"/>\n      </defs>\n      <g>\n       <use style=\"stroke:#000000;stroke-width:0.8;\" x=\"43.78125\" xlink:href=\"#mf7be5c3775\" y=\"402.838125\"/>\n      </g>\n     </g>\n     <g id=\"text_7\">\n      <!-- 0.0 -->\n      <g transform=\"translate(20.878125 406.637344)scale(0.1 -0.1)\">\n       <defs>\n        <path d=\"M 684 794 \nL 1344 794 \nL 1344 0 \nL 684 0 \nL 684 794 \nz\n\" id=\"DejaVuSans-2e\" transform=\"scale(0.015625)\"/>\n       </defs>\n       <use xlink:href=\"#DejaVuSans-30\"/>\n       <use x=\"63.623047\" xlink:href=\"#DejaVuSans-2e\"/>\n       <use x=\"95.410156\" xlink:href=\"#DejaVuSans-30\"/>\n      </g>\n     </g>\n    </g>\n    <g id=\"ytick_2\">\n     <g id=\"line2d_8\">\n      <path clip-path=\"url(#p4d598b4251)\" d=\"M 43.78125 333.65267 \nL 1159.78125 333.65267 \n\" style=\"fill:none;stroke:#b0b0b0;stroke-linecap:square;stroke-width:0.8;\"/>\n     </g>\n     <g id=\"line2d_9\">\n      <g>\n       <use style=\"stroke:#000000;stroke-width:0.8;\" x=\"43.78125\" xlink:href=\"#mf7be5c3775\" y=\"333.65267\"/>\n      </g>\n     </g>\n     <g id=\"text_8\">\n      <!-- 0.2 -->\n      <g transform=\"translate(20.878125 337.451889)scale(0.1 -0.1)\">\n       <use xlink:href=\"#DejaVuSans-30\"/>\n       <use x=\"63.623047\" xlink:href=\"#DejaVuSans-2e\"/>\n       <use x=\"95.410156\" xlink:href=\"#DejaVuSans-32\"/>\n      </g>\n     </g>\n    </g>\n    <g id=\"ytick_3\">\n     <g id=\"line2d_10\">\n      <path clip-path=\"url(#p4d598b4251)\" d=\"M 43.78125 264.467216 \nL 1159.78125 264.467216 \n\" style=\"fill:none;stroke:#b0b0b0;stroke-linecap:square;stroke-width:0.8;\"/>\n     </g>\n     <g id=\"line2d_11\">\n      <g>\n       <use style=\"stroke:#000000;stroke-width:0.8;\" x=\"43.78125\" xlink:href=\"#mf7be5c3775\" y=\"264.467216\"/>\n      </g>\n     </g>\n     <g id=\"text_9\">\n      <!-- 0.4 -->\n      <g transform=\"translate(20.878125 268.266435)scale(0.1 -0.1)\">\n       <use xlink:href=\"#DejaVuSans-30\"/>\n       <use x=\"63.623047\" xlink:href=\"#DejaVuSans-2e\"/>\n       <use x=\"95.410156\" xlink:href=\"#DejaVuSans-34\"/>\n      </g>\n     </g>\n    </g>\n    <g id=\"ytick_4\">\n     <g id=\"line2d_12\">\n      <path clip-path=\"url(#p4d598b4251)\" d=\"M 43.78125 195.281761 \nL 1159.78125 195.281761 \n\" style=\"fill:none;stroke:#b0b0b0;stroke-linecap:square;stroke-width:0.8;\"/>\n     </g>\n     <g id=\"line2d_13\">\n      <g>\n       <use style=\"stroke:#000000;stroke-width:0.8;\" x=\"43.78125\" xlink:href=\"#mf7be5c3775\" y=\"195.281761\"/>\n      </g>\n     </g>\n     <g id=\"text_10\">\n      <!-- 0.6 -->\n      <g transform=\"translate(20.878125 199.08098)scale(0.1 -0.1)\">\n       <defs>\n        <path d=\"M 2113 2584 \nQ 1688 2584 1439 2293 \nQ 1191 2003 1191 1497 \nQ 1191 994 1439 701 \nQ 1688 409 2113 409 \nQ 2538 409 2786 701 \nQ 3034 994 3034 1497 \nQ 3034 2003 2786 2293 \nQ 2538 2584 2113 2584 \nz\nM 3366 4563 \nL 3366 3988 \nQ 3128 4100 2886 4159 \nQ 2644 4219 2406 4219 \nQ 1781 4219 1451 3797 \nQ 1122 3375 1075 2522 \nQ 1259 2794 1537 2939 \nQ 1816 3084 2150 3084 \nQ 2853 3084 3261 2657 \nQ 3669 2231 3669 1497 \nQ 3669 778 3244 343 \nQ 2819 -91 2113 -91 \nQ 1303 -91 875 529 \nQ 447 1150 447 2328 \nQ 447 3434 972 4092 \nQ 1497 4750 2381 4750 \nQ 2619 4750 2861 4703 \nQ 3103 4656 3366 4563 \nz\n\" id=\"DejaVuSans-36\" transform=\"scale(0.015625)\"/>\n       </defs>\n       <use xlink:href=\"#DejaVuSans-30\"/>\n       <use x=\"63.623047\" xlink:href=\"#DejaVuSans-2e\"/>\n       <use x=\"95.410156\" xlink:href=\"#DejaVuSans-36\"/>\n      </g>\n     </g>\n    </g>\n    <g id=\"ytick_5\">\n     <g id=\"line2d_14\">\n      <path clip-path=\"url(#p4d598b4251)\" d=\"M 43.78125 126.096307 \nL 1159.78125 126.096307 \n\" style=\"fill:none;stroke:#b0b0b0;stroke-linecap:square;stroke-width:0.8;\"/>\n     </g>\n     <g id=\"line2d_15\">\n      <g>\n       <use style=\"stroke:#000000;stroke-width:0.8;\" x=\"43.78125\" xlink:href=\"#mf7be5c3775\" y=\"126.096307\"/>\n      </g>\n     </g>\n     <g id=\"text_11\">\n      <!-- 0.8 -->\n      <g transform=\"translate(20.878125 129.895526)scale(0.1 -0.1)\">\n       <defs>\n        <path d=\"M 2034 2216 \nQ 1584 2216 1326 1975 \nQ 1069 1734 1069 1313 \nQ 1069 891 1326 650 \nQ 1584 409 2034 409 \nQ 2484 409 2743 651 \nQ 3003 894 3003 1313 \nQ 3003 1734 2745 1975 \nQ 2488 2216 2034 2216 \nz\nM 1403 2484 \nQ 997 2584 770 2862 \nQ 544 3141 544 3541 \nQ 544 4100 942 4425 \nQ 1341 4750 2034 4750 \nQ 2731 4750 3128 4425 \nQ 3525 4100 3525 3541 \nQ 3525 3141 3298 2862 \nQ 3072 2584 2669 2484 \nQ 3125 2378 3379 2068 \nQ 3634 1759 3634 1313 \nQ 3634 634 3220 271 \nQ 2806 -91 2034 -91 \nQ 1263 -91 848 271 \nQ 434 634 434 1313 \nQ 434 1759 690 2068 \nQ 947 2378 1403 2484 \nz\nM 1172 3481 \nQ 1172 3119 1398 2916 \nQ 1625 2713 2034 2713 \nQ 2441 2713 2670 2916 \nQ 2900 3119 2900 3481 \nQ 2900 3844 2670 4047 \nQ 2441 4250 2034 4250 \nQ 1625 4250 1398 4047 \nQ 1172 3844 1172 3481 \nz\n\" id=\"DejaVuSans-38\" transform=\"scale(0.015625)\"/>\n       </defs>\n       <use xlink:href=\"#DejaVuSans-30\"/>\n       <use x=\"63.623047\" xlink:href=\"#DejaVuSans-2e\"/>\n       <use x=\"95.410156\" xlink:href=\"#DejaVuSans-38\"/>\n      </g>\n     </g>\n    </g>\n    <g id=\"ytick_6\">\n     <g id=\"line2d_16\">\n      <path clip-path=\"url(#p4d598b4251)\" d=\"M 43.78125 56.910852 \nL 1159.78125 56.910852 \n\" style=\"fill:none;stroke:#b0b0b0;stroke-linecap:square;stroke-width:0.8;\"/>\n     </g>\n     <g id=\"line2d_17\">\n      <g>\n       <use style=\"stroke:#000000;stroke-width:0.8;\" x=\"43.78125\" xlink:href=\"#mf7be5c3775\" y=\"56.910852\"/>\n      </g>\n     </g>\n     <g id=\"text_12\">\n      <!-- 1.0 -->\n      <g transform=\"translate(20.878125 60.710071)scale(0.1 -0.1)\">\n       <use xlink:href=\"#DejaVuSans-31\"/>\n       <use x=\"63.623047\" xlink:href=\"#DejaVuSans-2e\"/>\n       <use x=\"95.410156\" xlink:href=\"#DejaVuSans-30\"/>\n      </g>\n     </g>\n    </g>\n    <g id=\"text_13\">\n     <!-- Water Level -->\n     <g transform=\"translate(14.798437 242.148437)rotate(-90)scale(0.1 -0.1)\">\n      <defs>\n       <path d=\"M 213 4666 \nL 850 4666 \nL 1831 722 \nL 2809 4666 \nL 3519 4666 \nL 4500 722 \nL 5478 4666 \nL 6119 4666 \nL 4947 0 \nL 4153 0 \nL 3169 4050 \nL 2175 0 \nL 1381 0 \nL 213 4666 \nz\n\" id=\"DejaVuSans-57\" transform=\"scale(0.015625)\"/>\n       <path d=\"M 2631 2963 \nQ 2534 3019 2420 3045 \nQ 2306 3072 2169 3072 \nQ 1681 3072 1420 2755 \nQ 1159 2438 1159 1844 \nL 1159 0 \nL 581 0 \nL 581 3500 \nL 1159 3500 \nL 1159 2956 \nQ 1341 3275 1631 3429 \nQ 1922 3584 2338 3584 \nQ 2397 3584 2469 3576 \nQ 2541 3569 2628 3553 \nL 2631 2963 \nz\n\" id=\"DejaVuSans-72\" transform=\"scale(0.015625)\"/>\n       <path id=\"DejaVuSans-20\" transform=\"scale(0.015625)\"/>\n       <path d=\"M 628 4666 \nL 1259 4666 \nL 1259 531 \nL 3531 531 \nL 3531 0 \nL 628 0 \nL 628 4666 \nz\n\" id=\"DejaVuSans-4c\" transform=\"scale(0.015625)\"/>\n       <path d=\"M 191 3500 \nL 800 3500 \nL 1894 563 \nL 2988 3500 \nL 3597 3500 \nL 2284 0 \nL 1503 0 \nL 191 3500 \nz\n\" id=\"DejaVuSans-76\" transform=\"scale(0.015625)\"/>\n       <path d=\"M 603 4863 \nL 1178 4863 \nL 1178 0 \nL 603 0 \nL 603 4863 \nz\n\" id=\"DejaVuSans-6c\" transform=\"scale(0.015625)\"/>\n      </defs>\n      <use xlink:href=\"#DejaVuSans-57\"/>\n      <use x=\"92.501953\" xlink:href=\"#DejaVuSans-61\"/>\n      <use x=\"153.78125\" xlink:href=\"#DejaVuSans-74\"/>\n      <use x=\"192.990234\" xlink:href=\"#DejaVuSans-65\"/>\n      <use x=\"254.513672\" xlink:href=\"#DejaVuSans-72\"/>\n      <use x=\"295.626953\" xlink:href=\"#DejaVuSans-20\"/>\n      <use x=\"327.414062\" xlink:href=\"#DejaVuSans-4c\"/>\n      <use x=\"381.376953\" xlink:href=\"#DejaVuSans-65\"/>\n      <use x=\"442.900391\" xlink:href=\"#DejaVuSans-76\"/>\n      <use x=\"502.080078\" xlink:href=\"#DejaVuSans-65\"/>\n      <use x=\"563.603516\" xlink:href=\"#DejaVuSans-6c\"/>\n     </g>\n    </g>\n   </g>\n   <g id=\"line2d_18\">\n    <path clip-path=\"url(#p4d598b4251)\" d=\"M 94.508523 222.955943 \nL 189.106104 205.145826 \nL 229.781542 209.666856 \nL 297.417895 204.803324 \nL 365.054249 204.460822 \nL 567.963152 202.542809 \nL 635.599505 200.761797 \nL 973.780958 201.035799 \nL 1041.417311 202.405808 \nL 1109.053977 200.487796 \n\" style=\"fill:none;stroke:#0000ff;stroke-linecap:square;stroke-opacity:0.7;stroke-width:1.5;\"/>\n    <defs>\n     <path d=\"M 0 3 \nC 0.795609 3 1.55874 2.683901 2.12132 2.12132 \nC 2.683901 1.55874 3 0.795609 3 0 \nC 3 -0.795609 2.683901 -1.55874 2.12132 -2.12132 \nC 1.55874 -2.683901 0.795609 -3 0 -3 \nC -0.795609 -3 -1.55874 -2.683901 -2.12132 -2.12132 \nC -2.683901 -1.55874 -3 -0.795609 -3 0 \nC -3 0.795609 -2.683901 1.55874 -2.12132 2.12132 \nC -1.55874 2.683901 -0.795609 3 0 3 \nz\n\" id=\"mc79a148392\" style=\"stroke:#0000ff;stroke-opacity:0.7;\"/>\n    </defs>\n    <g clip-path=\"url(#p4d598b4251)\">\n     <use style=\"fill:#0000ff;fill-opacity:0.7;stroke:#0000ff;stroke-opacity:0.7;\" x=\"94.508523\" xlink:href=\"#mc79a148392\" y=\"222.955943\"/>\n     <use style=\"fill:#0000ff;fill-opacity:0.7;stroke:#0000ff;stroke-opacity:0.7;\" x=\"189.106104\" xlink:href=\"#mc79a148392\" y=\"205.145826\"/>\n     <use style=\"fill:#0000ff;fill-opacity:0.7;stroke:#0000ff;stroke-opacity:0.7;\" x=\"229.781542\" xlink:href=\"#mc79a148392\" y=\"209.666856\"/>\n     <use style=\"fill:#0000ff;fill-opacity:0.7;stroke:#0000ff;stroke-opacity:0.7;\" x=\"297.417895\" xlink:href=\"#mc79a148392\" y=\"204.803324\"/>\n     <use style=\"fill:#0000ff;fill-opacity:0.7;stroke:#0000ff;stroke-opacity:0.7;\" x=\"365.054249\" xlink:href=\"#mc79a148392\" y=\"204.460822\"/>\n     <use style=\"fill:#0000ff;fill-opacity:0.7;stroke:#0000ff;stroke-opacity:0.7;\" x=\"567.963152\" xlink:href=\"#mc79a148392\" y=\"202.542809\"/>\n     <use style=\"fill:#0000ff;fill-opacity:0.7;stroke:#0000ff;stroke-opacity:0.7;\" x=\"635.599505\" xlink:href=\"#mc79a148392\" y=\"200.761797\"/>\n     <use style=\"fill:#0000ff;fill-opacity:0.7;stroke:#0000ff;stroke-opacity:0.7;\" x=\"973.780958\" xlink:href=\"#mc79a148392\" y=\"201.035799\"/>\n     <use style=\"fill:#0000ff;fill-opacity:0.7;stroke:#0000ff;stroke-opacity:0.7;\" x=\"1041.417311\" xlink:href=\"#mc79a148392\" y=\"202.405808\"/>\n     <use style=\"fill:#0000ff;fill-opacity:0.7;stroke:#0000ff;stroke-opacity:0.7;\" x=\"1109.053977\" xlink:href=\"#mc79a148392\" y=\"200.487796\"/>\n    </g>\n   </g>\n   <g id=\"line2d_19\">\n    <path clip-path=\"url(#p4d598b4251)\" d=\"M 94.508523 402.838125 \nL 189.106104 402.838125 \nL 229.781542 399.563194 \nL 297.417895 402.838125 \nL 365.054249 402.669314 \nL 567.963152 402.838125 \nL 635.599505 402.838125 \nL 973.780958 402.838125 \nL 1041.417311 402.838125 \nL 1109.053977 402.838125 \n\" style=\"fill:none;stroke:#808080;stroke-dasharray:5.55,2.4;stroke-dashoffset:0;stroke-opacity:0.7;stroke-width:1.5;\"/>\n   </g>\n   <g id=\"patch_3\">\n    <path d=\"M 43.78125 402.838125 \nL 43.78125 22.318125 \n\" style=\"fill:none;stroke:#000000;stroke-linecap:square;stroke-linejoin:miter;stroke-width:0.8;\"/>\n   </g>\n   <g id=\"patch_4\">\n    <path d=\"M 1159.78125 402.838125 \nL 1159.78125 22.318125 \n\" style=\"fill:none;stroke:#000000;stroke-linecap:square;stroke-linejoin:miter;stroke-width:0.8;\"/>\n   </g>\n   <g id=\"patch_5\">\n    <path d=\"M 43.78125 402.838125 \nL 1159.78125 402.838125 \n\" style=\"fill:none;stroke:#000000;stroke-linecap:square;stroke-linejoin:miter;stroke-width:0.8;\"/>\n   </g>\n   <g id=\"patch_6\">\n    <path d=\"M 43.78125 22.318125 \nL 1159.78125 22.318125 \n\" style=\"fill:none;stroke:#000000;stroke-linecap:square;stroke-linejoin:miter;stroke-width:0.8;\"/>\n   </g>\n   <g id=\"text_14\">\n    <!-- Detected Water Level -->\n    <g transform=\"translate(536.881875 16.318125)scale(0.12 -0.12)\">\n     <defs>\n      <path d=\"M 3122 3366 \nL 3122 2828 \nQ 2878 2963 2633 3030 \nQ 2388 3097 2138 3097 \nQ 1578 3097 1268 2742 \nQ 959 2388 959 1747 \nQ 959 1106 1268 751 \nQ 1578 397 2138 397 \nQ 2388 397 2633 464 \nQ 2878 531 3122 666 \nL 3122 134 \nQ 2881 22 2623 -34 \nQ 2366 -91 2075 -91 \nQ 1284 -91 818 406 \nQ 353 903 353 1747 \nQ 353 2603 823 3093 \nQ 1294 3584 2113 3584 \nQ 2378 3584 2631 3529 \nQ 2884 3475 3122 3366 \nz\n\" id=\"DejaVuSans-63\" transform=\"scale(0.015625)\"/>\n      <path d=\"M 2906 2969 \nL 2906 4863 \nL 3481 4863 \nL 3481 0 \nL 2906 0 \nL 2906 525 \nQ 2725 213 2448 61 \nQ 2172 -91 1784 -91 \nQ 1150 -91 751 415 \nQ 353 922 353 1747 \nQ 353 2572 751 3078 \nQ 1150 3584 1784 3584 \nQ 2172 3584 2448 3432 \nQ 2725 3281 2906 2969 \nz\nM 947 1747 \nQ 947 1113 1208 752 \nQ 1469 391 1925 391 \nQ 2381 391 2643 752 \nQ 2906 1113 2906 1747 \nQ 2906 2381 2643 2742 \nQ 2381 3103 1925 3103 \nQ 1469 3103 1208 2742 \nQ 947 2381 947 1747 \nz\n\" id=\"DejaVuSans-64\" transform=\"scale(0.015625)\"/>\n     </defs>\n     <use xlink:href=\"#DejaVuSans-44\"/>\n     <use x=\"77.001953\" xlink:href=\"#DejaVuSans-65\"/>\n     <use x=\"138.525391\" xlink:href=\"#DejaVuSans-74\"/>\n     <use x=\"177.734375\" xlink:href=\"#DejaVuSans-65\"/>\n     <use x=\"239.257812\" xlink:href=\"#DejaVuSans-63\"/>\n     <use x=\"294.238281\" xlink:href=\"#DejaVuSans-74\"/>\n     <use x=\"333.447266\" xlink:href=\"#DejaVuSans-65\"/>\n     <use x=\"394.970703\" xlink:href=\"#DejaVuSans-64\"/>\n     <use x=\"458.447266\" xlink:href=\"#DejaVuSans-20\"/>\n     <use x=\"490.234375\" xlink:href=\"#DejaVuSans-57\"/>\n     <use x=\"582.736328\" xlink:href=\"#DejaVuSans-61\"/>\n     <use x=\"644.015625\" xlink:href=\"#DejaVuSans-74\"/>\n     <use x=\"683.224609\" xlink:href=\"#DejaVuSans-65\"/>\n     <use x=\"744.748047\" xlink:href=\"#DejaVuSans-72\"/>\n     <use x=\"785.861328\" xlink:href=\"#DejaVuSans-20\"/>\n     <use x=\"817.648438\" xlink:href=\"#DejaVuSans-4c\"/>\n     <use x=\"871.611328\" xlink:href=\"#DejaVuSans-65\"/>\n     <use x=\"933.134766\" xlink:href=\"#DejaVuSans-76\"/>\n     <use x=\"992.314453\" xlink:href=\"#DejaVuSans-65\"/>\n     <use x=\"1053.837891\" xlink:href=\"#DejaVuSans-6c\"/>\n    </g>\n   </g>\n   <g id=\"legend_1\">\n    <g id=\"patch_7\">\n     <path d=\"M 1041.123437 59.674375 \nL 1152.78125 59.674375 \nQ 1154.78125 59.674375 1154.78125 57.674375 \nL 1154.78125 29.318125 \nQ 1154.78125 27.318125 1152.78125 27.318125 \nL 1041.123437 27.318125 \nQ 1039.123437 27.318125 1039.123437 29.318125 \nL 1039.123437 57.674375 \nQ 1039.123437 59.674375 1041.123437 59.674375 \nz\n\" style=\"fill:#ffffff;opacity:0.8;stroke:#cccccc;stroke-linejoin:miter;\"/>\n    </g>\n    <g id=\"line2d_20\">\n     <path d=\"M 1043.123437 35.416562 \nL 1063.123437 35.416562 \n\" style=\"fill:none;stroke:#0000ff;stroke-linecap:square;stroke-opacity:0.7;stroke-width:1.5;\"/>\n    </g>\n    <g id=\"line2d_21\">\n     <g>\n      <use style=\"fill:#0000ff;fill-opacity:0.7;stroke:#0000ff;stroke-opacity:0.7;\" x=\"1053.123437\" xlink:href=\"#mc79a148392\" y=\"35.416562\"/>\n     </g>\n    </g>\n    <g id=\"text_15\">\n     <!-- Water Level -->\n     <g transform=\"translate(1071.123437 38.916562)scale(0.1 -0.1)\">\n      <use xlink:href=\"#DejaVuSans-57\"/>\n      <use x=\"92.501953\" xlink:href=\"#DejaVuSans-61\"/>\n      <use x=\"153.78125\" xlink:href=\"#DejaVuSans-74\"/>\n      <use x=\"192.990234\" xlink:href=\"#DejaVuSans-65\"/>\n      <use x=\"254.513672\" xlink:href=\"#DejaVuSans-72\"/>\n      <use x=\"295.626953\" xlink:href=\"#DejaVuSans-20\"/>\n      <use x=\"327.414062\" xlink:href=\"#DejaVuSans-4c\"/>\n      <use x=\"381.376953\" xlink:href=\"#DejaVuSans-65\"/>\n      <use x=\"442.900391\" xlink:href=\"#DejaVuSans-76\"/>\n      <use x=\"502.080078\" xlink:href=\"#DejaVuSans-65\"/>\n      <use x=\"563.603516\" xlink:href=\"#DejaVuSans-6c\"/>\n     </g>\n    </g>\n    <g id=\"line2d_22\">\n     <path d=\"M 1043.123437 50.094687 \nL 1063.123437 50.094687 \n\" style=\"fill:none;stroke:#808080;stroke-dasharray:5.55,2.4;stroke-dashoffset:0;stroke-opacity:0.7;stroke-width:1.5;\"/>\n    </g>\n    <g id=\"line2d_23\"/>\n    <g id=\"text_16\">\n     <!-- Cloud Coverage -->\n     <g transform=\"translate(1071.123437 53.594687)scale(0.1 -0.1)\">\n      <defs>\n       <path d=\"M 4122 4306 \nL 4122 3641 \nQ 3803 3938 3442 4084 \nQ 3081 4231 2675 4231 \nQ 1875 4231 1450 3742 \nQ 1025 3253 1025 2328 \nQ 1025 1406 1450 917 \nQ 1875 428 2675 428 \nQ 3081 428 3442 575 \nQ 3803 722 4122 1019 \nL 4122 359 \nQ 3791 134 3420 21 \nQ 3050 -91 2638 -91 \nQ 1578 -91 968 557 \nQ 359 1206 359 2328 \nQ 359 3453 968 4101 \nQ 1578 4750 2638 4750 \nQ 3056 4750 3426 4639 \nQ 3797 4528 4122 4306 \nz\n\" id=\"DejaVuSans-43\" transform=\"scale(0.015625)\"/>\n       <path d=\"M 1959 3097 \nQ 1497 3097 1228 2736 \nQ 959 2375 959 1747 \nQ 959 1119 1226 758 \nQ 1494 397 1959 397 \nQ 2419 397 2687 759 \nQ 2956 1122 2956 1747 \nQ 2956 2369 2687 2733 \nQ 2419 3097 1959 3097 \nz\nM 1959 3584 \nQ 2709 3584 3137 3096 \nQ 3566 2609 3566 1747 \nQ 3566 888 3137 398 \nQ 2709 -91 1959 -91 \nQ 1206 -91 779 398 \nQ 353 888 353 1747 \nQ 353 2609 779 3096 \nQ 1206 3584 1959 3584 \nz\n\" id=\"DejaVuSans-6f\" transform=\"scale(0.015625)\"/>\n       <path d=\"M 544 1381 \nL 544 3500 \nL 1119 3500 \nL 1119 1403 \nQ 1119 906 1312 657 \nQ 1506 409 1894 409 \nQ 2359 409 2629 706 \nQ 2900 1003 2900 1516 \nL 2900 3500 \nL 3475 3500 \nL 3475 0 \nL 2900 0 \nL 2900 538 \nQ 2691 219 2414 64 \nQ 2138 -91 1772 -91 \nQ 1169 -91 856 284 \nQ 544 659 544 1381 \nz\nM 1991 3584 \nL 1991 3584 \nz\n\" id=\"DejaVuSans-75\" transform=\"scale(0.015625)\"/>\n       <path d=\"M 2906 1791 \nQ 2906 2416 2648 2759 \nQ 2391 3103 1925 3103 \nQ 1463 3103 1205 2759 \nQ 947 2416 947 1791 \nQ 947 1169 1205 825 \nQ 1463 481 1925 481 \nQ 2391 481 2648 825 \nQ 2906 1169 2906 1791 \nz\nM 3481 434 \nQ 3481 -459 3084 -895 \nQ 2688 -1331 1869 -1331 \nQ 1566 -1331 1297 -1286 \nQ 1028 -1241 775 -1147 \nL 775 -588 \nQ 1028 -725 1275 -790 \nQ 1522 -856 1778 -856 \nQ 2344 -856 2625 -561 \nQ 2906 -266 2906 331 \nL 2906 616 \nQ 2728 306 2450 153 \nQ 2172 0 1784 0 \nQ 1141 0 747 490 \nQ 353 981 353 1791 \nQ 353 2603 747 3093 \nQ 1141 3584 1784 3584 \nQ 2172 3584 2450 3431 \nQ 2728 3278 2906 2969 \nL 2906 3500 \nL 3481 3500 \nL 3481 434 \nz\n\" id=\"DejaVuSans-67\" transform=\"scale(0.015625)\"/>\n      </defs>\n      <use xlink:href=\"#DejaVuSans-43\"/>\n      <use x=\"69.824219\" xlink:href=\"#DejaVuSans-6c\"/>\n      <use x=\"97.607422\" xlink:href=\"#DejaVuSans-6f\"/>\n      <use x=\"158.789062\" xlink:href=\"#DejaVuSans-75\"/>\n      <use x=\"222.167969\" xlink:href=\"#DejaVuSans-64\"/>\n      <use x=\"285.644531\" xlink:href=\"#DejaVuSans-20\"/>\n      <use x=\"317.431641\" xlink:href=\"#DejaVuSans-43\"/>\n      <use x=\"387.255859\" xlink:href=\"#DejaVuSans-6f\"/>\n      <use x=\"448.4375\" xlink:href=\"#DejaVuSans-76\"/>\n      <use x=\"507.617188\" xlink:href=\"#DejaVuSans-65\"/>\n      <use x=\"569.140625\" xlink:href=\"#DejaVuSans-72\"/>\n      <use x=\"610.253906\" xlink:href=\"#DejaVuSans-61\"/>\n      <use x=\"671.533203\" xlink:href=\"#DejaVuSans-67\"/>\n      <use x=\"735.009766\" xlink:href=\"#DejaVuSans-65\"/>\n     </g>\n    </g>\n   </g>\n  </g>\n </g>\n <defs>\n  <clipPath id=\"p4d598b4251\">\n   <rect height=\"380.52\" width=\"1116\" x=\"43.78125\" y=\"22.318125\"/>\n  </clipPath>\n </defs>\n</svg>\n",
      "image/png": "[encoded data removed]"
     },
     "metadata": {
      "needs_background": "light"
     }
    }
   ],
   "source": [
    "ax = plot_water_levels(eopatch, 1.0);"
   ]
  },
  {
   "cell_type": "code",
   "execution_count": 28,
   "metadata": {},
   "outputs": [
    {
     "output_type": "stream",
     "name": "stderr",
     "text": [
      "/home/vlas/.local/lib/python3.8/site-packages/ipykernel/ipkernel.py:283: DeprecationWarning: `should_run_async` will not call `transform_cell` automatically in the future. Please pass the result to `transformed_cell` argument and any exception that happen during thetransform in `preprocessing_exc_tuple` in IPython 7.17 and above.\n  and should_run_async(code)\n"
     ]
    },
    {
     "output_type": "execute_result",
     "data": {
      "text/plain": [
       "EOPatch(\n",
       "  data: {\n",
       "    BANDS: numpy.ndarray(shape=(10, 109, 94, 4), dtype=float32)\n",
       "    NDWI: numpy.ndarray(shape=(10, 109, 94, 1), dtype=float32)\n",
       "  }\n",
       "  mask: {\n",
       "    CLM: numpy.ndarray(shape=(10, 109, 94, 1), dtype=uint8)\n",
       "    IS_DATA: numpy.ndarray(shape=(10, 109, 94, 1), dtype=bool)\n",
       "    VALID_DATA: numpy.ndarray(shape=(10, 109, 94, 1), dtype=bool)\n",
       "    WATER_MASK: numpy.ndarray(shape=(10, 109, 94, 1), dtype=uint8)\n",
       "  }\n",
       "  scalar: {\n",
       "    COVERAGE: numpy.ndarray(shape=(10, 1), dtype=float64)\n",
       "    WATER_LEVEL: numpy.ndarray(shape=(10, 1), dtype=float64)\n",
       "  }\n",
       "  label: {}\n",
       "  vector: {}\n",
       "  data_timeless: {}\n",
       "  mask_timeless: {\n",
       "    NOMINAL_WATER: numpy.ndarray(shape=(109, 94, 1), dtype=uint8)\n",
       "  }\n",
       "  scalar_timeless: {}\n",
       "  label_timeless: {}\n",
       "  vector_timeless: {}\n",
       "  meta_info: {\n",
       "    maxcc: 0.5\n",
       "    size_x: 94\n",
       "    size_y: 109\n",
       "    time_difference: datetime.timedelta(seconds=1)\n",
       "    time_interval: (datetime.datetime(2021, 1, 6, 0, 0), datetime.datetime(2021, 5, 6, 23, 59, 59))\n",
       "  }\n",
       "  bbox: BBox(((35.3071403503418, 45.13725047061371), (35.33177375793457, 45.15631924063114)), crs=CRS('4326'))\n",
       "  timestamp: [datetime.datetime(2021, 2, 20, 8, 47, 29, tzinfo=tzutc()), ...], length=10\n",
       ")"
      ]
     },
     "metadata": {},
     "execution_count": 28
    }
   ],
   "source": [
    "eopatch #COVERAGE  WATER_LEVEL  bbox+CRS  timestamp"
   ]
  },
  {
   "cell_type": "code",
   "execution_count": 29,
   "metadata": {},
   "outputs": [],
   "source": [
    "def get_observed_shape(eopatch, idx):\n",
    "    ratio = np.abs(eopatch.bbox.max_x - eopatch.bbox.min_x) / np.abs(eopatch.bbox.max_y - eopatch.bbox.min_y)\n",
    "    \n",
    "    tolerance = 0.00025\n",
    "    \n",
    "    observed = eopatch.mask['WATER_MASK'][idx,...,0]\n",
    "    observed = dilation(observed)\n",
    "    observed = np.ma.masked_where(observed == False, observed)\n",
    "    observedShape = mask_to_polygons_layer(observed, eopatch, tolerance)\n",
    "    return toGeoJson(observedShape)"
   ]
  },
  {
   "cell_type": "code",
   "execution_count": 30,
   "metadata": {
    "tags": []
   },
   "outputs": [
    {
     "output_type": "execute_result",
     "data": {
      "text/plain": [
       "45.14512289860256], [35.319457054138184, 45.145297841446755], [35.319457054138184, 45.145822669979346], [35.318670881555434, 45.14617255566774], [35.318408824027856, 45.147047269888716], [35.31736059391752, 45.147047269888716], [35.31709853638994, 45.14652244135613], [35.31631236380719, 45.146347498511936], [35.31605030627961, 45.14669738420033], [35.31631236380719, 45.14739715557711], [35.31500207616928, 45.1480969269539], [35.31500207616928, 45.14844681264229], [35.31395384605894, 45.14844681264229], [35.313691788531365, 45.148796698330685], [35.312905615948615, 45.14844681264229], [35.31080915572795, 45.14862175548649], [35.310547098200374, 45.14914658401908], [35.31080915572795, 45.14949646970747], [35.309760925617624, 45.15002129824006], [35.30949886809004, 45.15194566952623], [35.30845063797971, 45.15299532659141], [35.308712695507296, 45.15421992650078], [35.31028504067279, 45.15491969787757], [35.316836478862356, 45.15579441209855]]]}'},\n",
       " {'type': 'Feature',\n",
       "  'properties': {'measurement_date': '02/03/2021',\n",
       "   'bbox': (35.3071403503418,\n",
       "    45.13725047061371,\n",
       "    35.33177375793457,\n",
       "    45.15631924063114),\n",
       "   'crs': 4326,\n",
       "   'water_level': 0.5584158415841585,\n",
       "   'cloud_coverage': 0.009467109115752437,\n",
       "   'measurement_type': 'observed'},\n",
       "  'geometry': '{\"type\": \"Polygon\", \"coordinates\": [[[35.316836478862356, 45.15579441209855], [35.31998116919335, 45.15579441209855], [35.32312585952434, 45.15491969787757], [35.324174089634674, 45.154394869344976], [35.325222319745, 45.15299532659141], [35.326532607382916, 45.152645440903015], [35.327580837493244, 45.15177072668203], [35.327318779965665, 45.15124589814944], [35.325222319745, 45.15142084099364], [35.324960262217424, 45.15089601246105], [35.32391203210709, 45.15054612677265], [35.324174089634674, 45.14967141255167], [35.325222319745, 45.14967141255167], [35.325746434800166, 45.148796698330685], [35.325222319745, 45.1480969269539], [35.32548437727259, 45.143723355848984], [35.32443614716225, 45.143023584472196], [35.322339686941596, 45.14407324153738], [35.321815571886425, 45.14494795575836], [35.31893293908302, 45.144248184381574], [35.318408824027856, 45.14494795575836], [35.319457054138184, 45.14547278429095], [35.319457054138184, 45.145822669979346], [35.318670881555434, 45.14617255566774], [35.318408824027856, 45.147047269888716], [35.31631236380719, 45.146347498511936], [35.31605030627961, 45.14669738420033], [35.31631236380719, 45.14722221273291], [35.31526413369686, 45.14844681264229], [35.31395384605894, 45.14844681264229], [35.313691788531365, 45.148796698330685], [35.312905615948615, 45.14844681264229], [35.31080915572795, 45.14862175548649], [35.310547098200374, 45.14914658401908], [35.31080915572795, 45.14949646970747], [35.309760925617624, 45.15002129824006], [35.30949886809004, 45.15194566952623], [35.30845063797971, 45.15299532659141], [35.308712695507296, 45.15421992650078], [35.30949886809004, 45.15474475503337], [35.316836478862356, 45.15579441209855]]]}'},\n",
       " {'type': 'Feature',\n",
       "  'properties': {'measurement_date': '07/03/2021',\n",
       "   'bbox': (35.3071403503418,\n",
       "    45.13725047061371,\n",
       "    35.33177375793457,\n",
       "    45.15631924063114),\n",
       "   'crs': 4326,\n",
       "   'water_level': 0.5724752475247524,\n",
       "   'cloud_coverage': 0.0,\n",
       "   'measurement_type': 'observed'},\n",
       "  'geometry': '{\"type\": \"Polygon\", \"coordinates\": [[[35.316836478862356, 45.15579441209855], [35.32024322672093, 45.15579441209855], [35.323387917051924, 45.15491969787757], [35.325222319745, 45.15352015512399], [35.32548437727259, 45.15282038374721], [35.32627054985533, 45.15282038374721], [35.327580837493244, 45.15177072668203], [35.327318779965665, 45.15142084099364], [35.325222319745, 45.15142084099364], [35.324174089634674, 45.15072106961685], [35.324174089634674, 45.149846355395866], [35.325746434800166, 45.14949646970747], [35.325746434800166, 45.14844681264229], [35.325222319745, 45.1480969269539], [35.32548437727259, 45.14547278429095], [35.325222319745, 45.14494795575836], [35.325746434800166, 45.14389829869318], [35.32548437727259, 45.14389829869318], [35.32548437727259, 45.142498755939606], [35.32469820468984, 45.141449098874425], [35.32391203210709, 45.14162404171862], [35.32391203210709, 45.143023584472196], [35.32286380199676, 45.14407324153738], [35.32207762941401, 45.14407324153738], [35.322339686941596, 45.14442312722577], [35.321815571886425, 45.144773012914165], [35.3207673417761, 45.14494795575836], [35.3191949966106, 45.144248184381574], [35.318670881555434, 45.14442312722577], [35.318408824027856, 45.14512289860256], [35.319457054138184, 45.145297841446755], [35.319457054138184, 45.145822669979346], [35.318670881555434, 45.14617255566774], [35.31814676650027, 45.147047269888716], [35.31631236380719, 45.146347498511936], [35.31605030627961, 45.147747041265504], [35.31526413369686, 45.1479219841097], [35.31500207616928, 45.14844681264229], [35.31342973100378, 45.14897164117488], [35.312905615948615, 45.14844681264229], [35.31080915572795, 45.14862175548649], [35.310547098200374, 45.149321526863275], [35.31080915572795, 45.14967141255167], [35.309760925617624, 45.15002129824006], [35.30949886809004, 45.15194566952623], [35.30845063797971, 45.15299532659141], [35.308974753034875, 45.15456981218917], [35.316836478862356, 45.15579441209855]]]}'},\n",
       " {'type': 'Feature',\n",
       "  'properties': {'measurement_date': '12/03/2021',\n",
       "   'bbox': (35.3071403503418,\n",
       "    45.13725047061371,\n",
       "    35.33177375793457,\n",
       "    45.15631924063114),\n",
       "   'crs': 4326,\n",
       "   'water_level': 0.5734653465346534,\n",
       "   'cloud_coverage': 0.0004879953152450156,\n",
       "   'measurement_type': 'observed'},\n",
       "  'geometry': '{\"type\": \"Polygon\", \"coordinates\": [[[35.3191949966106, 45.15579441209855], [35.32364997457951, 45.15474475503337], [35.32548437727259, 45.15282038374721], [35.326532607382916, 45.152645440903015], [35.32784289502083, 45.151595783837834], [35.327580837493244, 45.15124589814944], [35.325222319745, 45.15142084099364], [35.324174089634674, 45.15054612677265], [35.32443614716225, 45.14967141255167], [35.325746434800166, 45.149321526863275], [35.325746434800166, 45.14844681264229], [35.325222319745, 45.147747041265504], [35.325746434800166, 45.14722221273291], [35.32548437727259, 45.144248184381574], [35.325746434800166, 45.143723355848984], [35.32548437727259, 45.143723355848984], [35.325222319745, 45.14179898456282], [35.32469820468984, 45.14127415603023], [35.32364997457951, 45.141973927407015], [35.32391203210709, 45.143023584472196], [35.32207762941401, 45.144248184381574], [35.32207762941401, 45.14459807006997], [35.32050528424851, 45.144773012914165], [35.3191949966106, 45.14407324153738], [35.318670881555434, 45.144248184381574], [35.318408824027856, 45.14494795575836], [35.319457054138184, 45.14564772713515], [35.318408824027856, 45.14617255566774], [35.31814676650027, 45.14687232704452], [35.31631236380719, 45.14617255566774], [35.31605030627961, 45.14687232704452], [35.31631236380719, 45.147047269888716], [35.31578824875203, 45.147747041265504], [35.31500207616928, 45.147747041265504], [35.313691788531365, 45.148796698330685], [35.31264355842104, 45.148271869798094], [35.31133327078312, 45.148796698330685], [35.31080915572795, 45.14844681264229], [35.31028504067279, 45.14862175548649], [35.31080915572795, 45.14949646970747], [35.309760925617624, 45.15002129824006], [35.30949886809004, 45.15177072668203], [35.30845063797971, 45.15282038374721], [35.308712695507296, 45.15421992650078], [35.30949886809004, 45.15474475503337], [35.31605030627961, 45.155619469254354], [35.31736059391752, 45.154394869344976], [35.31814676650027, 45.155094640721764], [35.3191949966106, 45.155094640721764], [35.31893293908302, 45.155619469254354], [35.3191949966106, 45.15579441209855]]]}'},\n",
       " {'type': 'Feature',\n",
       "  'properties': {'measurement_date': '27/03/2021',\n",
       "   'bbox': (35.3071403503418,\n",
       "    45.13725047061371,\n",
       "    35.33177375793457,\n",
       "    45.15631924063114),\n",
       "   'crs': 4326,\n",
       "   'water_level': 0.579009900990099,\n",
       "   'cloud_coverage': 0.0,\n",
       "   'measurement_type': 'observed'},\n",
       "  'geometry': '{\"type\": \"Polygon\", \"coordinates\": [[[35.316836478862356, 45.15579441209855], [35.32050528424851, 45.15579441209855], [35.323387917051924, 45.15491969787757], [35.32469820468984, 45.15404498365658], [35.32548437727259, 45.15282038374721], [35.32627054985533, 45.15282038374721], [35.327580837493244, 45.15194566952623], [35.32705672243808, 45.15124589814944], [35.325222319745, 45.15142084099364], [35.324174089634674, 45.15054612677265], [35.32443614716225, 45.14967141255167], [35.325222319745, 45.149846355395866], [35.325746434800166, 45.14949646970747], [35.325746434800166, 45.148271869798094], [35.325222319745, 45.1480969269539], [35.325746434800166, 45.147047269888716], [35.32548437727259, 45.147047269888716], [35.325222319745, 45.14494795575836], [35.325746434800166, 45.14389829869318], [35.32548437727259, 45.14389829869318], [35.325222319745, 45.14179898456282], [35.32469820468984, 45.141449098874425], [35.324960262217424, 45.140224498965054], [35.32312585952434, 45.13882495621148], [35.322339686941596, 45.13917484189987], [35.32443614716225, 45.14039944180925], [35.324174089634674, 45.14109921318603], [35.32443614716225, 45.141449098874425], [35.32391203210709, 45.14162404171862], [35.32364997457951, 45.14337347016059], [35.32207762941401, 45.14389829869318], [35.322339686941596, 45.14442312722577], [35.321815571886425, 45.144773012914165], [35.31893293908302, 45.144248184381574], [35.318670881555434, 45.14512289860256], [35.319457054138184, 45.14547278429095], [35.319457054138184, 45.145822669979346], [35.318408824027856, 45.146347498511936], [35.31814676650027, 45.147047269888716], [35.31631236380719, 45.146347498511936], [35.31605030627961, 45.147747041265504], [35.31526413369686, 45.1479219841097], [35.31500207616928, 45.14844681264229], [35.31395384605894, 45.14844681264229], [35.313691788531365, 45.148796698330685], [35.312905615948615, 45.14844681264229], [35.31080915572795, 45.14862175548649], [35.310547098200374, 45.149321526863275], [35.31080915572795, 45.14949646970747], [35.309760925617624, 45.15002129824006], [35.30949886809004, 45.15194566952623], [35.30845063797971, 45.15299532659141], [35.308712695507296, 45.15421992650078], [35.30923681056246, 45.15474475503337], [35.316836478862356, 45.15579441209855]]]}'},\n",
       " {'type': 'Feature',\n",
       "  'properties': {'measurement_date': '01/04/2021',\n",
       "   'bbox': (35.3071403503418,\n",
       "    45.13725047061371,\n",
       "    35.33177375793457,\n",
       "    45.15631924063114),\n",
       "   'crs': 4326,\n",
       "   'water_level': 0.5841584158415841,\n",
       "   'cloud_coverage': 0.0,\n",
       "   'measurement_type': 'observed'},\n",
       "  'geometry': '{\"type\": \"Polygon\", \"coordinates\": [[[35.31893293908302, 45.15596935494275], [35.324174089634674, 45.15456981218917], [35.32548437727259, 45.15282038374721], [35.32627054985533, 45.15282038374721], [35.327580837493244, 45.15194566952623], [35.327318779965665, 45.15142084099364], [35.325222319745, 45.15142084099364], [35.324174089634674, 45.15072106961685], [35.324174089634674, 45.149846355395866], [35.325222319745, 45.149846355395866], [35.325746434800166, 45.149321526863275], [35.325746434800166, 45.14844681264229], [35.325222319745, 45.1480969269539], [35.32548437727259, 45.14547278429095], [35.325222319745, 45.144773012914165], [35.325746434800166, 45.14389829869318], [35.324960262217424, 45.14162404171862], [35.32443614716225, 45.141449098874425], [35.324960262217424, 45.140924270341834], [35.324960262217424, 45.140224498965054], [35.32312585952434, 45.13882495621148], [35.322339686941596, 45.13917484189987], [35.324174089634674, 45.14039944180925], [35.32364997457951, 45.14337347016059], [35.32286380199676, 45.14389829869318], [35.321815571886425, 45.14389829869318], [35.32207762941401, 45.14459807006997], [35.321815571886425, 45.144773012914165], [35.32024322672093, 45.144773012914165], [35.31893293908302, 45.144248184381574], [35.318408824027856, 45.14512289860256], [35.3191949966106, 45.145297841446755], [35.3191949966106, 45.145822669979346], [35.318408824027856, 45.146347498511936], [35.31814676650027, 45.147047269888716], [35.31631236380719, 45.146347498511936], [35.31605030627961, 45.14757209842131], [35.31500207616928, 45.1480969269539], [35.31500207616928, 45.14844681264229], [35.31395384605894, 45.14844681264229], [35.31342973100378, 45.14897164117488], [35.312905615948615, 45.14844681264229], [35.310547098200374, 45.14862175548649], [35.31028504067279, 45.14897164117488], [35.310547098200374, 45.14967141255167], [35.309760925617624, 45.15002129824006], [35.30923681056246, 45.152120612370425], [35.30845063797971, 45.15282038374721], [35.308712695507296, 45.154394869344976], [35.30949886809004, 45.15491969787757], [35.31893293908302, 45.15596935494275]]]}'},\n",
       " {'type': 'Feature',\n",
       "  'properties': {'measurement_date': '26/04/2021',\n",
       "   'bbox': (35.3071403503418,\n",
       "    45.13725047061371,\n",
       "    35.33177375793457,\n",
       "    45.15631924063114),\n",
       "   'crs': 4326,\n",
       "   'water_level': 0.5833663366336633,\n",
       "   'cloud_coverage': 0.0,\n",
       "   'measurement_type': 'observed'},\n",
       "  'geometry': '{\"type\": \"Polygon\", \"coordinates\": [[[35.318408824027856, 45.15596935494275], [35.31971911166577, 45.15596935494275], [35.323387917051924, 45.15491969787757], [35.32443614716225, 45.154394869344976], [35.32548437727259, 45.15282038374721], [35.32627054985533, 45.15282038374721], [35.327580837493244, 45.15194566952623], [35.327318779965665, 45.15142084099364], [35.325222319745, 45.15142084099364], [35.324174089634674, 45.15072106961685], [35.324174089634674, 45.149846355395866], [35.325746434800166, 45.14949646970747], [35.325746434800166, 45.14844681264229], [35.325222319745, 45.1480969269539], [35.32548437727259, 45.14547278429095], [35.325222319745, 45.14494795575836], [35.325746434800166, 45.14389829869318], [35.32548437727259, 45.14389829869318], [35.325222319745, 45.141973927407015], [35.32469820468984, 45.141449098874425], [35.32391203210709, 45.14162404171862], [35.32391203210709, 45.143023584472196], [35.32286380199676, 45.14407324153738], [35.322339686941596, 45.143723355848984], [35.321815571886425, 45.14389829869318], [35.32207762941401, 45.14459807006997], [35.321815571886425, 45.144773012914165], [35.3207673417761, 45.14494795575836], [35.3191949966106, 45.144248184381574], [35.318670881555434, 45.14442312722577], [35.318408824027856, 45.14512289860256], [35.319457054138184, 45.14547278429095], [35.319457054138184, 45.145822669979346], [35.318408824027856, 45.146347498511936], [35.31814676650027, 45.147047269888716], [35.31736059391752, 45.147047269888716], [35.31631236380719, 45.146347498511936], [35.31605030627961, 45.147047269888716], [35.31631236380719, 45.14722221273291], [35.31578824875203, 45.1479219841097], [35.31500207616928, 45.1480969269539], [35.31500207616928, 45.14844681264229], [35.31342973100378, 45.14897164117488], [35.31264355842104, 45.14844681264229], [35.31028504067279, 45.148796698330685], [35.310547098200374, 45.14967141255167], [35.309760925617624, 45.15002129824006], [35.309760925617624, 45.15089601246105], [35.30923681056246, 45.15124589814944], [35.30949886809004, 45.15194566952623], [35.30845063797971, 45.15282038374721], [35.308712695507296, 45.154394869344976], [35.30949886809004, 45.15491969787757], [35.318408824027856, 45.15596935494275]]]}'},\n",
       " {'type': 'Feature',\n",
       "  'properties': {'measurement_date': '01/05/2021',\n",
       "   'bbox': (35.3071403503418,\n",
       "    45.13725047061371,\n",
       "    35.33177375793457,\n",
       "    45.15631924063114),\n",
       "   'crs': 4326,\n",
       "   'water_level': 0.5794059405940594,\n",
       "   'cloud_coverage': 0.0,\n",
       "   'measurement_type': 'observed'},\n",
       "  'geometry': '{\"type\": \"Polygon\", \"coordinates\": [[[35.318670881555434, 45.15596935494275], [35.323387917051924, 45.15491969787757], [35.32469820468984, 45.15404498365658], [35.32548437727259, 45.15282038374721], [35.32627054985533, 45.15282038374721], [35.327580837493244, 45.15177072668203], [35.327318779965665, 45.15142084099364], [35.324960262217424, 45.15142084099364], [35.324960262217424, 45.151070955305244], [35.32391203210709, 45.15054612677265], [35.324174089634674, 45.149846355395866], [35.325222319745, 45.149846355395866], [35.325746434800166, 45.149321526863275], [35.325746434800166, 45.14862175548649], [35.325222319745, 45.1480969269539], [35.32548437727259, 45.14337347016059], [35.32469820468984, 45.141449098874425], [35.32364997457951, 45.141973927407015], [35.32391203210709, 45.143023584472196], [35.32286380199676, 45.14407324153738], [35.322339686941596, 45.143723355848984], [35.321815571886425, 45.14389829869318], [35.32207762941401, 45.14459807006997], [35.321815571886425, 45.144773012914165], [35.32050528424851, 45.14494795575836], [35.3191949966106, 45.14442312722577], [35.318408824027856, 45.144773012914165], [35.319457054138184, 45.145822669979346], [35.318408824027856, 45.146347498511936], [35.31814676650027, 45.147047269888716], [35.31736059391752, 45.147047269888716], [35.31631236380719, 45.146347498511936], [35.31605030627961, 45.14757209842131], [35.31500207616928, 45.1480969269539], [35.31500207616928, 45.14844681264229], [35.31395384605894, 45.14844681264229], [35.31342973100378, 45.14897164117488], [35.31264355842104, 45.14844681264229], [35.31028504067279, 45.148796698330685], [35.310547098200374, 45.14967141255167], [35.309760925617624, 45.15002129824006], [35.30923681056246, 45.152120612370425], [35.30845063797971, 45.15282038374721], [35.308712695507296, 45.154394869344976], [35.30949886809004, 45.15491969787757], [35.318670881555434, 45.15596935494275]]]}'},\n",
       " {'type': 'Feature',\n",
       "  'properties': {'measurement_date': '06/05/2021',\n",
       "   'bbox': (35.3071403503418,\n",
       "    45.13725047061371,\n",
       "    35.33177375793457,\n",
       "    45.15631924063114),\n",
       "   'crs': 4326,\n",
       "   'water_level': 0.5849504950495049,\n",
       "   'cloud_coverage': 0.0,\n",
       "   'measurement_type': 'observed'},\n",
       "  'geometry': '{\"type\": \"Polygon\", \"coordinates\": [[[35.318408824027856, 45.15596935494275], [35.32129145683126, 45.155619469254354], [35.324174089634674, 45.15456981218917], [35.32548437727259, 45.15282038374721], [35.32627054985533, 45.15282038374721], [35.327580837493244, 45.15177072668203], [35.327318779965665, 45.15142084099364], [35.325222319745, 45.15142084099364], [35.324174089634674, 45.15072106961685], [35.324174089634674, 45.149846355395866], [35.325746434800166, 45.14949646970747], [35.325746434800166, 45.14844681264229], [35.325222319745, 45.1480969269539], [35.32548437727259, 45.14547278429095], [35.325222319745, 45.14494795575836], [35.325746434800166, 45.14389829869318], [35.32548437727259, 45.14389829869318], [35.325222319745, 45.141973927407015], [35.32443614716225, 45.141449098874425], [35.324960262217424, 45.14109921318603], [35.324960262217424, 45.140224498965054], [35.32312585952434, 45.13882495621148], [35.322339686941596, 45.13917484189987], [35.324174089634674, 45.14039944180925], [35.32364997457951, 45.14337347016059], [35.32286380199676, 45.143723355848984], [35.32286380199676, 45.14407324153738], [35.322339686941596, 45.143723355848984], [35.321815571886425, 45.14389829869318], [35.32207762941401, 45.14459807006997], [35.32155351435885, 45.14494795575836], [35.31893293908302, 45.144248184381574], [35.318408824027856, 45.14512289860256], [35.319457054138184, 45.145822669979346], [35.318408824027856, 45.146347498511936], [35.31814676650027, 45.147047269888716], [35.31736059391752, 45.147047269888716], [35.31631236380719, 45.146347498511936], [35.31605030627961, 45.147047269888716], [35.31631236380719, 45.14722221273291], [35.31578824875203, 45.1479219841097], [35.31500207616928, 45.1480969269539], [35.31500207616928, 45.14844681264229], [35.31395384605894, 45.14844681264229], [35.31342973100378, 45.14897164117488], [35.31264355842104, 45.14844681264229], [35.310547098200374, 45.14862175548649], [35.31028504067279, 45.14897164117488], [35.310547098200374, 45.14967141255167], [35.309760925617624, 45.15002129824006], [35.30923681056246, 45.152120612370425], [35.30845063797971, 45.15282038374721], [35.308712695507296, 45.154394869344976], [35.30949886809004, 45.15491969787757], [35.318408824027856, 45.15596935494275]]]}'}]"
      ]
     },
     "metadata": {},
     "execution_count": 30
    }
   ],
   "source": [
    "output = []\n",
    "\n",
    "for i in range(len(eopatch.scalar['WATER_LEVEL'])):\n",
    "    numpyData = {\"measurement_date\": eopatch.timestamp[i].strftime('%d/%m/%Y'), \"bbox\": eopatch.bbox.geometry.bounds, \"crs\": eopatch.bbox.crs.epsg, \"water_level\": eopatch.scalar['WATER_LEVEL'][i,0], \"cloud_coverage\": eopatch.scalar['COVERAGE'][i,0], \"measurement_type\": \"observed\"}\n",
    "    obJect = {\"type\": \"Feature\", \"properties\": numpyData, \"geometry\": get_observed_shape(eopatch, i)}\n",
    "    output.append(obJect)\n",
    "output\n",
    "# output_json = json.dumps(output, ensure_ascii=False).encode('utf-8')\n",
    "# json.dump(output, open(\"result.json\",\"w\"))\n"
   ]
  },
  {
   "cell_type": "code",
   "execution_count": 45,
   "metadata": {},
   "outputs": [
    {
     "output_type": "execute_result",
     "data": {
      "text/plain": [
       "45.14844681264229], [35.31080915572795, 45.14862175548649], [35.310547098200374, 45.14914658401908], [35.31080915572795, 45.14949646970747], [35.309760925617624, 45.15002129824006], [35.30949886809004, 45.15194566952623], [35.30845063797971, 45.15299532659141], [35.308712695507296, 45.15421992650078], [35.31028504067279, 45.15491969787757], [35.316836478862356, 45.15579441209855]]]}'}]},\n",
       " {'type': 'FeatureCollection',\n",
       "  'features': [{'type': 'Feature',\n",
       "    'properties': {'measurement_date': '02/03/2021',\n",
       "     'bbox': (35.3071403503418,\n",
       "      45.13725047061371,\n",
       "      35.33177375793457,\n",
       "      45.15631924063114),\n",
       "     'crs': 4326,\n",
       "     'water_level': 0.5584158415841585,\n",
       "     'cloud_coverage': 0.009467109115752437,\n",
       "     'measurement_type': 'observed'},\n",
       "    'geometry': '{\"type\": \"Polygon\", \"coordinates\": [[[35.316836478862356, 45.15579441209855], [35.31998116919335, 45.15579441209855], [35.32312585952434, 45.15491969787757], [35.324174089634674, 45.154394869344976], [35.325222319745, 45.15299532659141], [35.326532607382916, 45.152645440903015], [35.327580837493244, 45.15177072668203], [35.327318779965665, 45.15124589814944], [35.325222319745, 45.15142084099364], [35.324960262217424, 45.15089601246105], [35.32391203210709, 45.15054612677265], [35.324174089634674, 45.14967141255167], [35.325222319745, 45.14967141255167], [35.325746434800166, 45.148796698330685], [35.325222319745, 45.1480969269539], [35.32548437727259, 45.143723355848984], [35.32443614716225, 45.143023584472196], [35.322339686941596, 45.14407324153738], [35.321815571886425, 45.14494795575836], [35.31893293908302, 45.144248184381574], [35.318408824027856, 45.14494795575836], [35.319457054138184, 45.14547278429095], [35.319457054138184, 45.145822669979346], [35.318670881555434, 45.14617255566774], [35.318408824027856, 45.147047269888716], [35.31631236380719, 45.146347498511936], [35.31605030627961, 45.14669738420033], [35.31631236380719, 45.14722221273291], [35.31526413369686, 45.14844681264229], [35.31395384605894, 45.14844681264229], [35.313691788531365, 45.148796698330685], [35.312905615948615, 45.14844681264229], [35.31080915572795, 45.14862175548649], [35.310547098200374, 45.14914658401908], [35.31080915572795, 45.14949646970747], [35.309760925617624, 45.15002129824006], [35.30949886809004, 45.15194566952623], [35.30845063797971, 45.15299532659141], [35.308712695507296, 45.15421992650078], [35.30949886809004, 45.15474475503337], [35.316836478862356, 45.15579441209855]]]}'}]},\n",
       " {'type': 'FeatureCollection',\n",
       "  'features': [{'type': 'Feature',\n",
       "    'properties': {'measurement_date': '07/03/2021',\n",
       "     'bbox': (35.3071403503418,\n",
       "      45.13725047061371,\n",
       "      35.33177375793457,\n",
       "      45.15631924063114),\n",
       "     'crs': 4326,\n",
       "     'water_level': 0.5724752475247524,\n",
       "     'cloud_coverage': 0.0,\n",
       "     'measurement_type': 'observed'},\n",
       "    'geometry': '{\"type\": \"Polygon\", \"coordinates\": [[[35.316836478862356, 45.15579441209855], [35.32024322672093, 45.15579441209855], [35.323387917051924, 45.15491969787757], [35.325222319745, 45.15352015512399], [35.32548437727259, 45.15282038374721], [35.32627054985533, 45.15282038374721], [35.327580837493244, 45.15177072668203], [35.327318779965665, 45.15142084099364], [35.325222319745, 45.15142084099364], [35.324174089634674, 45.15072106961685], [35.324174089634674, 45.149846355395866], [35.325746434800166, 45.14949646970747], [35.325746434800166, 45.14844681264229], [35.325222319745, 45.1480969269539], [35.32548437727259, 45.14547278429095], [35.325222319745, 45.14494795575836], [35.325746434800166, 45.14389829869318], [35.32548437727259, 45.14389829869318], [35.32548437727259, 45.142498755939606], [35.32469820468984, 45.141449098874425], [35.32391203210709, 45.14162404171862], [35.32391203210709, 45.143023584472196], [35.32286380199676, 45.14407324153738], [35.32207762941401, 45.14407324153738], [35.322339686941596, 45.14442312722577], [35.321815571886425, 45.144773012914165], [35.3207673417761, 45.14494795575836], [35.3191949966106, 45.144248184381574], [35.318670881555434, 45.14442312722577], [35.318408824027856, 45.14512289860256], [35.319457054138184, 45.145297841446755], [35.319457054138184, 45.145822669979346], [35.318670881555434, 45.14617255566774], [35.31814676650027, 45.147047269888716], [35.31631236380719, 45.146347498511936], [35.31605030627961, 45.147747041265504], [35.31526413369686, 45.1479219841097], [35.31500207616928, 45.14844681264229], [35.31342973100378, 45.14897164117488], [35.312905615948615, 45.14844681264229], [35.31080915572795, 45.14862175548649], [35.310547098200374, 45.149321526863275], [35.31080915572795, 45.14967141255167], [35.309760925617624, 45.15002129824006], [35.30949886809004, 45.15194566952623], [35.30845063797971, 45.15299532659141], [35.308974753034875, 45.15456981218917], [35.316836478862356, 45.15579441209855]]]}'}]},\n",
       " {'type': 'FeatureCollection',\n",
       "  'features': [{'type': 'Feature',\n",
       "    'properties': {'measurement_date': '12/03/2021',\n",
       "     'bbox': (35.3071403503418,\n",
       "      45.13725047061371,\n",
       "      35.33177375793457,\n",
       "      45.15631924063114),\n",
       "     'crs': 4326,\n",
       "     'water_level': 0.5734653465346534,\n",
       "     'cloud_coverage': 0.0004879953152450156,\n",
       "     'measurement_type': 'observed'},\n",
       "    'geometry': '{\"type\": \"Polygon\", \"coordinates\": [[[35.3191949966106, 45.15579441209855], [35.32364997457951, 45.15474475503337], [35.32548437727259, 45.15282038374721], [35.326532607382916, 45.152645440903015], [35.32784289502083, 45.151595783837834], [35.327580837493244, 45.15124589814944], [35.325222319745, 45.15142084099364], [35.324174089634674, 45.15054612677265], [35.32443614716225, 45.14967141255167], [35.325746434800166, 45.149321526863275], [35.325746434800166, 45.14844681264229], [35.325222319745, 45.147747041265504], [35.325746434800166, 45.14722221273291], [35.32548437727259, 45.144248184381574], [35.325746434800166, 45.143723355848984], [35.32548437727259, 45.143723355848984], [35.325222319745, 45.14179898456282], [35.32469820468984, 45.14127415603023], [35.32364997457951, 45.141973927407015], [35.32391203210709, 45.143023584472196], [35.32207762941401, 45.144248184381574], [35.32207762941401, 45.14459807006997], [35.32050528424851, 45.144773012914165], [35.3191949966106, 45.14407324153738], [35.318670881555434, 45.144248184381574], [35.318408824027856, 45.14494795575836], [35.319457054138184, 45.14564772713515], [35.318408824027856, 45.14617255566774], [35.31814676650027, 45.14687232704452], [35.31631236380719, 45.14617255566774], [35.31605030627961, 45.14687232704452], [35.31631236380719, 45.147047269888716], [35.31578824875203, 45.147747041265504], [35.31500207616928, 45.147747041265504], [35.313691788531365, 45.148796698330685], [35.31264355842104, 45.148271869798094], [35.31133327078312, 45.148796698330685], [35.31080915572795, 45.14844681264229], [35.31028504067279, 45.14862175548649], [35.31080915572795, 45.14949646970747], [35.309760925617624, 45.15002129824006], [35.30949886809004, 45.15177072668203], [35.30845063797971, 45.15282038374721], [35.308712695507296, 45.15421992650078], [35.30949886809004, 45.15474475503337], [35.31605030627961, 45.155619469254354], [35.31736059391752, 45.154394869344976], [35.31814676650027, 45.155094640721764], [35.3191949966106, 45.155094640721764], [35.31893293908302, 45.155619469254354], [35.3191949966106, 45.15579441209855]]]}'}]},\n",
       " {'type': 'FeatureCollection',\n",
       "  'features': [{'type': 'Feature',\n",
       "    'properties': {'measurement_date': '27/03/2021',\n",
       "     'bbox': (35.3071403503418,\n",
       "      45.13725047061371,\n",
       "      35.33177375793457,\n",
       "      45.15631924063114),\n",
       "     'crs': 4326,\n",
       "     'water_level': 0.579009900990099,\n",
       "     'cloud_coverage': 0.0,\n",
       "     'measurement_type': 'observed'},\n",
       "    'geometry': '{\"type\": \"Polygon\", \"coordinates\": [[[35.316836478862356, 45.15579441209855], [35.32050528424851, 45.15579441209855], [35.323387917051924, 45.15491969787757], [35.32469820468984, 45.15404498365658], [35.32548437727259, 45.15282038374721], [35.32627054985533, 45.15282038374721], [35.327580837493244, 45.15194566952623], [35.32705672243808, 45.15124589814944], [35.325222319745, 45.15142084099364], [35.324174089634674, 45.15054612677265], [35.32443614716225, 45.14967141255167], [35.325222319745, 45.149846355395866], [35.325746434800166, 45.14949646970747], [35.325746434800166, 45.148271869798094], [35.325222319745, 45.1480969269539], [35.325746434800166, 45.147047269888716], [35.32548437727259, 45.147047269888716], [35.325222319745, 45.14494795575836], [35.325746434800166, 45.14389829869318], [35.32548437727259, 45.14389829869318], [35.325222319745, 45.14179898456282], [35.32469820468984, 45.141449098874425], [35.324960262217424, 45.140224498965054], [35.32312585952434, 45.13882495621148], [35.322339686941596, 45.13917484189987], [35.32443614716225, 45.14039944180925], [35.324174089634674, 45.14109921318603], [35.32443614716225, 45.141449098874425], [35.32391203210709, 45.14162404171862], [35.32364997457951, 45.14337347016059], [35.32207762941401, 45.14389829869318], [35.322339686941596, 45.14442312722577], [35.321815571886425, 45.144773012914165], [35.31893293908302, 45.144248184381574], [35.318670881555434, 45.14512289860256], [35.319457054138184, 45.14547278429095], [35.319457054138184, 45.145822669979346], [35.318408824027856, 45.146347498511936], [35.31814676650027, 45.147047269888716], [35.31631236380719, 45.146347498511936], [35.31605030627961, 45.147747041265504], [35.31526413369686, 45.1479219841097], [35.31500207616928, 45.14844681264229], [35.31395384605894, 45.14844681264229], [35.313691788531365, 45.148796698330685], [35.312905615948615, 45.14844681264229], [35.31080915572795, 45.14862175548649], [35.310547098200374, 45.149321526863275], [35.31080915572795, 45.14949646970747], [35.309760925617624, 45.15002129824006], [35.30949886809004, 45.15194566952623], [35.30845063797971, 45.15299532659141], [35.308712695507296, 45.15421992650078], [35.30923681056246, 45.15474475503337], [35.316836478862356, 45.15579441209855]]]}'}]},\n",
       " {'type': 'FeatureCollection',\n",
       "  'features': [{'type': 'Feature',\n",
       "    'properties': {'measurement_date': '01/04/2021',\n",
       "     'bbox': (35.3071403503418,\n",
       "      45.13725047061371,\n",
       "      35.33177375793457,\n",
       "      45.15631924063114),\n",
       "     'crs': 4326,\n",
       "     'water_level': 0.5841584158415841,\n",
       "     'cloud_coverage': 0.0,\n",
       "     'measurement_type': 'observed'},\n",
       "    'geometry': '{\"type\": \"Polygon\", \"coordinates\": [[[35.31893293908302, 45.15596935494275], [35.324174089634674, 45.15456981218917], [35.32548437727259, 45.15282038374721], [35.32627054985533, 45.15282038374721], [35.327580837493244, 45.15194566952623], [35.327318779965665, 45.15142084099364], [35.325222319745, 45.15142084099364], [35.324174089634674, 45.15072106961685], [35.324174089634674, 45.149846355395866], [35.325222319745, 45.149846355395866], [35.325746434800166, 45.149321526863275], [35.325746434800166, 45.14844681264229], [35.325222319745, 45.1480969269539], [35.32548437727259, 45.14547278429095], [35.325222319745, 45.144773012914165], [35.325746434800166, 45.14389829869318], [35.324960262217424, 45.14162404171862], [35.32443614716225, 45.141449098874425], [35.324960262217424, 45.140924270341834], [35.324960262217424, 45.140224498965054], [35.32312585952434, 45.13882495621148], [35.322339686941596, 45.13917484189987], [35.324174089634674, 45.14039944180925], [35.32364997457951, 45.14337347016059], [35.32286380199676, 45.14389829869318], [35.321815571886425, 45.14389829869318], [35.32207762941401, 45.14459807006997], [35.321815571886425, 45.144773012914165], [35.32024322672093, 45.144773012914165], [35.31893293908302, 45.144248184381574], [35.318408824027856, 45.14512289860256], [35.3191949966106, 45.145297841446755], [35.3191949966106, 45.145822669979346], [35.318408824027856, 45.146347498511936], [35.31814676650027, 45.147047269888716], [35.31631236380719, 45.146347498511936], [35.31605030627961, 45.14757209842131], [35.31500207616928, 45.1480969269539], [35.31500207616928, 45.14844681264229], [35.31395384605894, 45.14844681264229], [35.31342973100378, 45.14897164117488], [35.312905615948615, 45.14844681264229], [35.310547098200374, 45.14862175548649], [35.31028504067279, 45.14897164117488], [35.310547098200374, 45.14967141255167], [35.309760925617624, 45.15002129824006], [35.30923681056246, 45.152120612370425], [35.30845063797971, 45.15282038374721], [35.308712695507296, 45.154394869344976], [35.30949886809004, 45.15491969787757], [35.31893293908302, 45.15596935494275]]]}'}]},\n",
       " {'type': 'FeatureCollection',\n",
       "  'features': [{'type': 'Feature',\n",
       "    'properties': {'measurement_date': '26/04/2021',\n",
       "     'bbox': (35.3071403503418,\n",
       "      45.13725047061371,\n",
       "      35.33177375793457,\n",
       "      45.15631924063114),\n",
       "     'crs': 4326,\n",
       "     'water_level': 0.5833663366336633,\n",
       "     'cloud_coverage': 0.0,\n",
       "     'measurement_type': 'observed'},\n",
       "    'geometry': '{\"type\": \"Polygon\", \"coordinates\": [[[35.318408824027856, 45.15596935494275], [35.31971911166577, 45.15596935494275], [35.323387917051924, 45.15491969787757], [35.32443614716225, 45.154394869344976], [35.32548437727259, 45.15282038374721], [35.32627054985533, 45.15282038374721], [35.327580837493244, 45.15194566952623], [35.327318779965665, 45.15142084099364], [35.325222319745, 45.15142084099364], [35.324174089634674, 45.15072106961685], [35.324174089634674, 45.149846355395866], [35.325746434800166, 45.14949646970747], [35.325746434800166, 45.14844681264229], [35.325222319745, 45.1480969269539], [35.32548437727259, 45.14547278429095], [35.325222319745, 45.14494795575836], [35.325746434800166, 45.14389829869318], [35.32548437727259, 45.14389829869318], [35.325222319745, 45.141973927407015], [35.32469820468984, 45.141449098874425], [35.32391203210709, 45.14162404171862], [35.32391203210709, 45.143023584472196], [35.32286380199676, 45.14407324153738], [35.322339686941596, 45.143723355848984], [35.321815571886425, 45.14389829869318], [35.32207762941401, 45.14459807006997], [35.321815571886425, 45.144773012914165], [35.3207673417761, 45.14494795575836], [35.3191949966106, 45.144248184381574], [35.318670881555434, 45.14442312722577], [35.318408824027856, 45.14512289860256], [35.319457054138184, 45.14547278429095], [35.319457054138184, 45.145822669979346], [35.318408824027856, 45.146347498511936], [35.31814676650027, 45.147047269888716], [35.31736059391752, 45.147047269888716], [35.31631236380719, 45.146347498511936], [35.31605030627961, 45.147047269888716], [35.31631236380719, 45.14722221273291], [35.31578824875203, 45.1479219841097], [35.31500207616928, 45.1480969269539], [35.31500207616928, 45.14844681264229], [35.31342973100378, 45.14897164117488], [35.31264355842104, 45.14844681264229], [35.31028504067279, 45.148796698330685], [35.310547098200374, 45.14967141255167], [35.309760925617624, 45.15002129824006], [35.309760925617624, 45.15089601246105], [35.30923681056246, 45.15124589814944], [35.30949886809004, 45.15194566952623], [35.30845063797971, 45.15282038374721], [35.308712695507296, 45.154394869344976], [35.30949886809004, 45.15491969787757], [35.318408824027856, 45.15596935494275]]]}'}]},\n",
       " {'type': 'FeatureCollection',\n",
       "  'features': [{'type': 'Feature',\n",
       "    'properties': {'measurement_date': '01/05/2021',\n",
       "     'bbox': (35.3071403503418,\n",
       "      45.13725047061371,\n",
       "      35.33177375793457,\n",
       "      45.15631924063114),\n",
       "     'crs': 4326,\n",
       "     'water_level': 0.5794059405940594,\n",
       "     'cloud_coverage': 0.0,\n",
       "     'measurement_type': 'observed'},\n",
       "    'geometry': '{\"type\": \"Polygon\", \"coordinates\": [[[35.318670881555434, 45.15596935494275], [35.323387917051924, 45.15491969787757], [35.32469820468984, 45.15404498365658], [35.32548437727259, 45.15282038374721], [35.32627054985533, 45.15282038374721], [35.327580837493244, 45.15177072668203], [35.327318779965665, 45.15142084099364], [35.324960262217424, 45.15142084099364], [35.324960262217424, 45.151070955305244], [35.32391203210709, 45.15054612677265], [35.324174089634674, 45.149846355395866], [35.325222319745, 45.149846355395866], [35.325746434800166, 45.149321526863275], [35.325746434800166, 45.14862175548649], [35.325222319745, 45.1480969269539], [35.32548437727259, 45.14337347016059], [35.32469820468984, 45.141449098874425], [35.32364997457951, 45.141973927407015], [35.32391203210709, 45.143023584472196], [35.32286380199676, 45.14407324153738], [35.322339686941596, 45.143723355848984], [35.321815571886425, 45.14389829869318], [35.32207762941401, 45.14459807006997], [35.321815571886425, 45.144773012914165], [35.32050528424851, 45.14494795575836], [35.3191949966106, 45.14442312722577], [35.318408824027856, 45.144773012914165], [35.319457054138184, 45.145822669979346], [35.318408824027856, 45.146347498511936], [35.31814676650027, 45.147047269888716], [35.31736059391752, 45.147047269888716], [35.31631236380719, 45.146347498511936], [35.31605030627961, 45.14757209842131], [35.31500207616928, 45.1480969269539], [35.31500207616928, 45.14844681264229], [35.31395384605894, 45.14844681264229], [35.31342973100378, 45.14897164117488], [35.31264355842104, 45.14844681264229], [35.31028504067279, 45.148796698330685], [35.310547098200374, 45.14967141255167], [35.309760925617624, 45.15002129824006], [35.30923681056246, 45.152120612370425], [35.30845063797971, 45.15282038374721], [35.308712695507296, 45.154394869344976], [35.30949886809004, 45.15491969787757], [35.318670881555434, 45.15596935494275]]]}'}]},\n",
       " {'last_observation': {'type': 'FeatureCollection',\n",
       "   'features': [{'type': 'Feature',\n",
       "     'properties': {'measurement_date': '06/05/2021',\n",
       "      'bbox': (35.3071403503418,\n",
       "       45.13725047061371,\n",
       "       35.33177375793457,\n",
       "       45.15631924063114),\n",
       "      'crs': 4326,\n",
       "      'water_level': 0.5849504950495049,\n",
       "      'cloud_coverage': 0.0,\n",
       "      'measurement_type': 'observed'},\n",
       "     'geometry': '{\"type\": \"Polygon\", \"coordinates\": [[[35.318408824027856, 45.15596935494275], [35.32129145683126, 45.155619469254354], [35.324174089634674, 45.15456981218917], [35.32548437727259, 45.15282038374721], [35.32627054985533, 45.15282038374721], [35.327580837493244, 45.15177072668203], [35.327318779965665, 45.15142084099364], [35.325222319745, 45.15142084099364], [35.324174089634674, 45.15072106961685], [35.324174089634674, 45.149846355395866], [35.325746434800166, 45.14949646970747], [35.325746434800166, 45.14844681264229], [35.325222319745, 45.1480969269539], [35.32548437727259, 45.14547278429095], [35.325222319745, 45.14494795575836], [35.325746434800166, 45.14389829869318], [35.32548437727259, 45.14389829869318], [35.325222319745, 45.141973927407015], [35.32443614716225, 45.141449098874425], [35.324960262217424, 45.14109921318603], [35.324960262217424, 45.140224498965054], [35.32312585952434, 45.13882495621148], [35.322339686941596, 45.13917484189987], [35.324174089634674, 45.14039944180925], [35.32364997457951, 45.14337347016059], [35.32286380199676, 45.143723355848984], [35.32286380199676, 45.14407324153738], [35.322339686941596, 45.143723355848984], [35.321815571886425, 45.14389829869318], [35.32207762941401, 45.14459807006997], [35.32155351435885, 45.14494795575836], [35.31893293908302, 45.144248184381574], [35.318408824027856, 45.14512289860256], [35.319457054138184, 45.145822669979346], [35.318408824027856, 45.146347498511936], [35.31814676650027, 45.147047269888716], [35.31736059391752, 45.147047269888716], [35.31631236380719, 45.146347498511936], [35.31605030627961, 45.147047269888716], [35.31631236380719, 45.14722221273291], [35.31578824875203, 45.1479219841097], [35.31500207616928, 45.1480969269539], [35.31500207616928, 45.14844681264229], [35.31395384605894, 45.14844681264229], [35.31342973100378, 45.14897164117488], [35.31264355842104, 45.14844681264229], [35.310547098200374, 45.14862175548649], [35.31028504067279, 45.14897164117488], [35.310547098200374, 45.14967141255167], [35.309760925617624, 45.15002129824006], [35.30923681056246, 45.152120612370425], [35.30845063797971, 45.15282038374721], [35.308712695507296, 45.154394869344976], [35.30949886809004, 45.15491969787757], [35.318408824027856, 45.15596935494275]]]}'}]}}]"
      ]
     },
     "metadata": {},
     "execution_count": 45
    }
   ],
   "source": [
    "output = []\n",
    "list = range(len(eopatch.scalar['WATER_LEVEL']))\n",
    "\n",
    "for i,element in enumerate(list):\n",
    "\n",
    "    numpyData = {\"measurement_date\": eopatch.timestamp[i-1].strftime('%d/%m/%Y'), \"bbox\": eopatch.bbox.geometry.bounds, \"crs\": eopatch.bbox.crs.epsg, \"water_level\": eopatch.scalar['WATER_LEVEL'][i-1,0], \"cloud_coverage\": eopatch.scalar['COVERAGE'][i-1,0], \"measurement_type\": \"observed\"}\n",
    "\n",
    "    obJect = {\"type\": \"FeatureCollection\", \"features\":[{\"type\":\"Feature\", \"properties\": numpyData, \"geometry\": get_observed_shape(eopatch, i-1)}]}\n",
    "    output.append(obJect)\n",
    "\n",
    "    if (i==len(list)-1):\n",
    "\n",
    "        numpyData_last = {\"measurement_date\": eopatch.timestamp[element].strftime('%d/%m/%Y'), \"bbox\": eopatch.bbox.geometry.bounds, \"crs\": eopatch.bbox.crs.epsg, \"water_level\": eopatch.scalar['WATER_LEVEL'][element,0], \"cloud_coverage\": eopatch.scalar['COVERAGE'][element,0], \"measurement_type\": \"observed\"}\n",
    "        obJect_last = {\"last_observation\": {\"type\": \"FeatureCollection\", \"features\":[{\"type\":\"Feature\", \"properties\": numpyData_last, \"geometry\": get_observed_shape(eopatch, element)}]}}\n",
    "\n",
    "        output.append(obJect_last)\n",
    "\n",
    "\n",
    "output\n",
    "    \n",
    "\n"
   ]
  },
  {
   "cell_type": "code",
   "execution_count": 40,
   "metadata": {},
   "outputs": [
    {
     "output_type": "execute_result",
     "data": {
      "text/plain": [
       "EOPatch(\n",
       "  data: {\n",
       "    BANDS: numpy.ndarray(shape=(10, 109, 94, 4), dtype=float32)\n",
       "    NDWI: numpy.ndarray(shape=(10, 109, 94, 1), dtype=float32)\n",
       "  }\n",
       "  mask: {\n",
       "    CLM: numpy.ndarray(shape=(10, 109, 94, 1), dtype=uint8)\n",
       "    IS_DATA: numpy.ndarray(shape=(10, 109, 94, 1), dtype=bool)\n",
       "    VALID_DATA: numpy.ndarray(shape=(10, 109, 94, 1), dtype=bool)\n",
       "    WATER_MASK: numpy.ndarray(shape=(10, 109, 94, 1), dtype=uint8)\n",
       "  }\n",
       "  scalar: {\n",
       "    COVERAGE: numpy.ndarray(shape=(10, 1), dtype=float64)\n",
       "    WATER_LEVEL: numpy.ndarray(shape=(10, 1), dtype=float64)\n",
       "  }\n",
       "  label: {}\n",
       "  vector: {}\n",
       "  data_timeless: {}\n",
       "  mask_timeless: {\n",
       "    NOMINAL_WATER: numpy.ndarray(shape=(109, 94, 1), dtype=uint8)\n",
       "  }\n",
       "  scalar_timeless: {}\n",
       "  label_timeless: {}\n",
       "  vector_timeless: {}\n",
       "  meta_info: {\n",
       "    maxcc: 0.5\n",
       "    size_x: 94\n",
       "    size_y: 109\n",
       "    time_difference: datetime.timedelta(seconds=1)\n",
       "    time_interval: (datetime.datetime(2021, 1, 6, 0, 0), datetime.datetime(2021, 5, 6, 23, 59, 59))\n",
       "  }\n",
       "  bbox: BBox(((35.3071403503418, 45.13725047061371), (35.33177375793457, 45.15631924063114)), crs=CRS('4326'))\n",
       "  timestamp: [datetime.datetime(2021, 2, 20, 8, 47, 29, tzinfo=tzutc()), ...], length=10\n",
       ")"
      ]
     },
     "metadata": {},
     "execution_count": 40
    }
   ],
   "source": [
    "eopatch"
   ]
  }
 ],
 "metadata": {
  "kernelspec": {
   "name": "python3",
   "display_name": "Python 3",
   "language": "python"
  }
 },
 "nbformat": 4,
 "nbformat_minor": 2
}